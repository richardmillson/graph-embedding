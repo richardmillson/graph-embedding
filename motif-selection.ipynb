{
 "cells": [
  {
   "cell_type": "markdown",
   "id": "0962ae1f-9296-4550-ae57-39ad9edb862b",
   "metadata": {
    "tags": []
   },
   "source": [
    "# Motif Selection"
   ]
  },
  {
   "cell_type": "markdown",
   "id": "f297ffd0-e4d1-4142-bdd0-3e21465ee8c2",
   "metadata": {},
   "source": [
    "## Discussion"
   ]
  },
  {
   "cell_type": "markdown",
   "id": "992a4f49-b001-4878-a078-793fd6cd9016",
   "metadata": {},
   "source": [
    "## Problem\n",
    "\n",
    "Given a collection of labelled graphs, can we:\n",
    "\n",
    "1) Learn which features are most important for distinguishing between classes?\n",
    "2) Learn a low dimensional embedding that maximizes classification accuracy while improving tractability?\n",
    "\n",
    "## Dataset\n",
    "\n",
    "We use the NCI1 dataset of chemical compounds that have been classified as carcinogenic or not.\n",
    "It was downloaded from [TUDataset: A collection of benchmark datasets for learning with graphs](https://chrsmrrs.github.io/datasets/docs/datasets/).\n",
    "There is a [leaderboard](https://paperswithcode.com/sota/graph-classification-on-nci1) evaluating graph embedding algorithms on this classification task.\n",
    "\n",
    "### Features\n",
    "\n",
    "A graph [motif](https://en.wikipedia.org/wiki/Network_motif) is a [vertex-induced subgraph](https://mathworld.wolfram.com/Vertex-InducedSubgraph.html).\n",
    "Following `igraph` we'll only consider connected motifs.\n",
    "\n",
    "We can construct a vector representation of a graph by counting the number of occurences of each of its motifs.\n",
    "Given a family of graphs and some classification task, certain motifs may have more predictive power.\n",
    "Instead of considering all motifs, can we learn a subset of motifs to count and hence reduce the amount of work we need to perform?\n",
    "\n",
    "For these experiments node labels are ignored as `igraph`'s motif implementation does not consider them.\n",
    "Using them would undoubtably increase the accuracy of the models.\n",
    "It would also combinatorially increase the number of features to count,\n",
    "motivating the use of Lasso or other regularization for variable selection.\n",
    "In this dataset there are 37 node labels corresponding to atoms that appear in the molecules.\n",
    "\n",
    "When not considering node labels we are not in the high dimensional case where $p > n$ (here $p = 141$ and $n = 4110$).\n",
    "Ignoring isomorphisms, each of the 112 connected motifs on 6 vertices each have $37^6$ possible labellings,\n",
    "giving an upper bound of roughly $2^{38}$ labelled motifs we could count.\n",
    "This would place us in the high dimensional $p > n$ setting.\n",
    "\n",
    "## Results\n",
    "\n",
    "| Method | Accuracy | Embedding Dimension |\n",
    "| :- | -: | -: |\n",
    "| $C_6$ count | 0.6032 | 1 |\n",
    "| `Lasso(alpha=1.0)` i.e. $P_6$ count | 0.6406 | 1 |\n",
    "| `Lasso(alpha=0.1)` | 0.6438 | 3 |\n",
    "| Linear Regression | 0.6672 | 141 |\n",
    "\n",
    "## Future Work\n",
    "\n",
    "Taking into account the vertex labels while counting motifs would likely lead to a considerable improvement in accuracy.\n",
    "As there would be significantly more possible distinct objects to count this would be further reason to use Lasso."
   ]
  },
  {
   "cell_type": "markdown",
   "id": "4f137861-fbfb-4309-bec2-20c08c0027cf",
   "metadata": {},
   "source": [
    "## Experiments"
   ]
  },
  {
   "cell_type": "markdown",
   "id": "6e72a58e-a185-4d97-b801-1daeffa07d60",
   "metadata": {
    "tags": []
   },
   "source": [
    "### Setup"
   ]
  },
  {
   "cell_type": "markdown",
   "id": "1566f18b-f051-47d8-beff-c66e245b3bd7",
   "metadata": {},
   "source": [
    "To plot graphs the `cairo` 2D graphics library is required.\n",
    "It can be installed on Linux by running\n",
    "```shell\n",
    "sudo apt install libcairo2-dev\n",
    "```\n",
    "Windows installation instructions can be found [here](https://doc.courtbouillon.org/cairocffi/stable/overview.html#installing-cairo-on-windows)."
   ]
  },
  {
   "cell_type": "markdown",
   "id": "a18121fd-aee4-47dc-a621-81c6d4aae5b6",
   "metadata": {},
   "source": [
    "If using `pip` instead of `pipenv` for dependency management, uncomment and run the below cell."
   ]
  },
  {
   "cell_type": "code",
   "execution_count": 1,
   "id": "5168e4be-3248-4052-99fa-3f872ec8144b",
   "metadata": {
    "tags": []
   },
   "outputs": [],
   "source": [
    "# ! pip install --quiet igraph cairocffi"
   ]
  },
  {
   "cell_type": "code",
   "execution_count": 2,
   "id": "e83638da-45b7-4e2a-81e1-900795548528",
   "metadata": {
    "tags": []
   },
   "outputs": [],
   "source": [
    "from collections import Counter\n",
    "from dataclasses import dataclass\n",
    "from pathlib import Path\n",
    "import pickle\n",
    "\n",
    "import igraph\n",
    "import matplotlib.pyplot as plt\n",
    "import numpy as np\n",
    "import pandas as pd\n",
    "import seaborn as sns\n",
    "from sklearn.metrics import accuracy_score, ConfusionMatrixDisplay\n",
    "import sklearn.linear_model\n",
    "from sklearn.feature_selection import SelectFromModel\n",
    "from sklearn.linear_model import Lasso, LinearRegression\n",
    "from tqdm import tqdm"
   ]
  },
  {
   "cell_type": "code",
   "execution_count": 3,
   "id": "d75704c5-ec8c-4149-87ce-fc0c33c49ed9",
   "metadata": {},
   "outputs": [],
   "source": [
    "sns.set()"
   ]
  },
  {
   "cell_type": "code",
   "execution_count": 4,
   "id": "60e5d625-4839-4f51-b3da-b118c41f1486",
   "metadata": {},
   "outputs": [],
   "source": [
    "def plot_confusion_matrix(y_true, y_pred):\n",
    "    \"\"\"Plots the confusion matrix.\n",
    "    \"\"\"\n",
    "    _, axs = plt.subplots(1, 2, figsize=(10, 5))\n",
    "    ConfusionMatrixDisplay.from_predictions(\n",
    "        y_true, y_pred,\n",
    "        cmap=plt.cm.Blues, im_kw={\"vmin\": 0, \"vmax\": (max(subgraph_labels)+1)/2}, ax=axs[0],\n",
    "    )\n",
    "    ConfusionMatrixDisplay.from_predictions(\n",
    "        y_true, y_pred, normalize=\"true\",\n",
    "        cmap=plt.cm.Blues, im_kw={\"vmin\": 0, \"vmax\": 1}, ax=axs[1],\n",
    "    )\n",
    "    axs[0].grid(False)\n",
    "    axs[1].grid(False)\n",
    "    plt.tight_layout()\n",
    "    plt.show()"
   ]
  },
  {
   "cell_type": "markdown",
   "id": "2d31bcb6-4160-4a3c-95ba-de5f8fb5664c",
   "metadata": {
    "tags": []
   },
   "source": [
    "### Load graphs"
   ]
  },
  {
   "cell_type": "markdown",
   "id": "23e16e82-4287-4a65-84df-6e7f70c48860",
   "metadata": {},
   "source": [
    "The dataset file format is described [on the TUDataset site](https://chrsmrrs.github.io/datasets/docs/format/)."
   ]
  },
  {
   "cell_type": "code",
   "execution_count": 5,
   "id": "6ddeb0b2-9cda-4705-8ccd-a5b06cabad9b",
   "metadata": {},
   "outputs": [],
   "source": [
    "data = Path(\"data\")\n",
    "if not data.exists():\n",
    "    raise FileNotFoundError(\"Path to data directory not set\")"
   ]
  },
  {
   "cell_type": "code",
   "execution_count": 6,
   "id": "bafa7a61-e082-49ec-8c4b-26110d358198",
   "metadata": {
    "tags": []
   },
   "outputs": [],
   "source": [
    "# Make 1-based vertex names 0-based.\n",
    "edges = [tuple(map(lambda x: int(x) - 1, edge.split(\",\")))\n",
    "         for edge in (data / \"NCI1/NCI1_A.txt\").read_text().split()]"
   ]
  },
  {
   "cell_type": "code",
   "execution_count": 7,
   "id": "4f0655a1-aa65-48dc-8c4d-73844ec56b80",
   "metadata": {},
   "outputs": [],
   "source": [
    "graph = igraph.Graph.TupleList(edges, directed=False)"
   ]
  },
  {
   "cell_type": "code",
   "execution_count": 8,
   "id": "df32a0fd-d24e-466a-b6df-8a6cc99b5566",
   "metadata": {},
   "outputs": [],
   "source": [
    "# Make 1-based subgraph names 0-based.\n",
    "subgraph_labels = np.array([\n",
    "    int(x) - 1 for x in (data / \"NCI1/NCI1_graph_indicator.txt\").read_text().split()\n",
    "])"
   ]
  },
  {
   "cell_type": "code",
   "execution_count": 9,
   "id": "8ee389d4-83ff-453a-9b1a-cc96cff2fd98",
   "metadata": {},
   "outputs": [],
   "source": [
    "class_labels = np.array([\n",
    "    int(x) for x in (data / \"NCI1/NCI1_graph_labels.txt\").read_text().split()\n",
    "])"
   ]
  },
  {
   "cell_type": "code",
   "execution_count": 10,
   "id": "a5fcad1f-9f9e-4a5f-a07c-493ba55817e9",
   "metadata": {},
   "outputs": [],
   "source": [
    "node_labels = np.array([\n",
    "    int(x) for x in (data / \"NCI1/NCI1_node_labels.txt\").read_text().split()\n",
    "])"
   ]
  },
  {
   "cell_type": "code",
   "execution_count": 11,
   "id": "76d35f71-6982-491d-ba24-c5f875e26243",
   "metadata": {},
   "outputs": [],
   "source": [
    "for v in graph.vs:\n",
    "    v[\"graph\"] = subgraph_labels[v[\"name\"]]\n",
    "    v[\"label\"] = node_labels[v[\"name\"]]"
   ]
  },
  {
   "cell_type": "markdown",
   "id": "f70c6fd1-4838-4a61-88cc-1135c22c8e60",
   "metadata": {
    "tags": []
   },
   "source": [
    "### Properties of these graphs"
   ]
  },
  {
   "cell_type": "code",
   "execution_count": 12,
   "id": "3c152bd6-e3a8-4a77-858a-e6d83192d14d",
   "metadata": {},
   "outputs": [
    {
     "name": "stdout",
     "output_type": "stream",
     "text": [
      "Number of graphs: 4110\n"
     ]
    }
   ],
   "source": [
    "print(f\"Number of graphs: {max(subgraph_labels) + 1}\")"
   ]
  },
  {
   "cell_type": "code",
   "execution_count": 13,
   "id": "f29b786c-5159-4751-969d-dc481c52b709",
   "metadata": {},
   "outputs": [
    {
     "name": "stdout",
     "output_type": "stream",
     "text": [
      "The classes are roughly balanced: [(1, 2057), (0, 2053)]\n"
     ]
    }
   ],
   "source": [
    "print(f\"The classes are roughly balanced: {Counter(class_labels).most_common()}\")"
   ]
  },
  {
   "cell_type": "code",
   "execution_count": 14,
   "id": "b9bb2535-f56d-4569-b7a8-e7a178f6eebb",
   "metadata": {},
   "outputs": [
    {
     "name": "stdout",
     "output_type": "stream",
     "text": [
      "The 4110 graphs have 122,319 vertices and 265,506 edges in total so are sparse\n"
     ]
    }
   ],
   "source": [
    "print((f\"The {max(subgraph_labels) + 1} graphs have \"\n",
    "       f\"{graph.vcount():,} vertices and {graph.ecount():,} edges \"\n",
    "       \"in total so are sparse\"))"
   ]
  },
  {
   "cell_type": "code",
   "execution_count": 15,
   "id": "75c1095d-5df5-4299-8bd9-93270919e594",
   "metadata": {},
   "outputs": [
    {
     "name": "stdout",
     "output_type": "stream",
     "text": [
      "Number of node labels i.e. distinct atoms present: 37\n"
     ]
    }
   ],
   "source": [
    "print(f\"Number of node labels i.e. distinct atoms present: {len(Counter(node_labels))}\")"
   ]
  },
  {
   "cell_type": "code",
   "execution_count": 16,
   "id": "355481b6-0627-4d79-bb43-de3737bfc6ac",
   "metadata": {},
   "outputs": [
    {
     "name": "stderr",
     "output_type": "stream",
     "text": [
      "100%|██████████| 4110/4110 [00:19<00:00, 212.79it/s]\n"
     ]
    }
   ],
   "source": [
    "# Check whether each graph is connected.\n",
    "connected = np.empty(shape=(max(subgraph_labels) + 1,), dtype=bool)\n",
    "for i in tqdm(range(max(subgraph_labels) + 1)):\n",
    "    g = graph.subgraph(np.where(np.array(graph.vs[\"graph\"]) == i)[0].tolist())\n",
    "    connected[i] = g.is_connected()"
   ]
  },
  {
   "cell_type": "code",
   "execution_count": 17,
   "id": "57da1c05-6eac-4334-bd20-f0b63f1d7ffb",
   "metadata": {},
   "outputs": [
    {
     "name": "stdout",
     "output_type": "stream",
     "text": [
      "3865/4110 ~= 0.94 of the graphs are connected\n"
     ]
    }
   ],
   "source": [
    "print((f\"{connected.sum()}/{len(connected)} ~= \"\n",
    "       f\"{np.round(connected.sum() / len(connected), 3)} \"\n",
    "       \"of the graphs are connected\"))"
   ]
  },
  {
   "cell_type": "markdown",
   "id": "ff5f9474-4772-41cf-bf13-ed7172b27163",
   "metadata": {
    "tags": []
   },
   "source": [
    "### Naive classifier based on number of 6-cycles"
   ]
  },
  {
   "cell_type": "markdown",
   "id": "967d3b58-638a-4fb2-b7dd-390512d0eadf",
   "metadata": {},
   "source": [
    "Does the presence of a cancer causing chemical as a subgraph contribute to whether a chemical causes cancer?\n",
    "As a motivating example, consider benzene, i.e. a 6-cycle of carbon atoms,\n",
    "which [causes cancer](https://en.wikipedia.org/wiki/Benzene#Health_effects).\n",
    "Does the presence of a 6-cycle motif in a chemical graph contribute to whether it causes cancer?\n",
    "We will construct and evaluate a simple classifier based on this\n",
    "before trying to learn a task specific graph embedding that doesn't rely on any domain knowledge.\n",
    "\n",
    "Note that for this experiment we are not considering vertex labels and so will overcount the true number of 6-cycles of carbon."
   ]
  },
  {
   "cell_type": "code",
   "execution_count": 18,
   "id": "4d40cacb-f48a-4ccc-943e-5a20e6b7e0d1",
   "metadata": {},
   "outputs": [],
   "source": [
    "def count_k_cycles(graph: igraph.Graph, k: int) -> int:\n",
    "    return graph.motifs_randesu(size=k)[igraph.Graph.Ring(k).isoclass()]"
   ]
  },
  {
   "cell_type": "code",
   "execution_count": 19,
   "id": "ea95001a-729e-4c14-ae3b-217684003cf1",
   "metadata": {},
   "outputs": [
    {
     "name": "stderr",
     "output_type": "stream",
     "text": [
      "100%|██████████| 4110/4110 [00:20<00:00, 196.90it/s]"
     ]
    },
    {
     "name": "stdout",
     "output_type": "stream",
     "text": [
      "CPU times: user 20.9 s, sys: 147 ms, total: 21.1 s\n",
      "Wall time: 20.9 s\n"
     ]
    },
    {
     "name": "stderr",
     "output_type": "stream",
     "text": [
      "\n"
     ]
    }
   ],
   "source": [
    "%%time\n",
    "df = pd.DataFrame(index=tuple(set(graph.vs[\"graph\"])), columns=(3, 4, 5, 6))\n",
    "for i in tqdm(df.index):\n",
    "    g = graph.subgraph(np.where(np.array(graph.vs[\"graph\"]) == i)[0].tolist())\n",
    "    for k in (3, 4, 5, 6):\n",
    "        df.loc[i, k] = count_k_cycles(g, k)\n",
    "df[\"class\"] = class_labels"
   ]
  },
  {
   "cell_type": "code",
   "execution_count": 20,
   "id": "a13b07e5-bc1b-454d-be4b-b585fc879da3",
   "metadata": {},
   "outputs": [],
   "source": [
    "df_6_cycle = df.groupby([6, \"class\"]).size().reset_index(name=\"density\")\n",
    "df_6_cycle[\"density\"] = df_6_cycle[\"density\"] / len(df[\"class\"])"
   ]
  },
  {
   "cell_type": "code",
   "execution_count": 21,
   "id": "f9919157-9e24-44cf-84b6-6dd90a91f4f9",
   "metadata": {},
   "outputs": [
    {
     "data": {
      "image/png": "[encoded data removed]",
      "text/plain": [
       "<Figure size 720x360 with 1 Axes>"
      ]
     },
     "metadata": {
      "needs_background": "light"
     },
     "output_type": "display_data"
    }
   ],
   "source": [
    "_, ax = plt.subplots(figsize=(10, 5))\n",
    "sns.kdeplot(data=df, x=6, hue=\"class\", clip=(0, max(df[6])), bw_adjust=2, fill=True, ax=ax)\n",
    "sns.scatterplot(data=df_6_cycle, x=6, y=\"density\", hue=\"class\", ax=ax)\n",
    "ax.xaxis.get_major_locator().set_params(integer=True)\n",
    "plt.show()"
   ]
  },
  {
   "cell_type": "markdown",
   "id": "7b679724-1653-4879-a4d6-f613f2c2a5f2",
   "metadata": {},
   "source": [
    "The two distributions don't look particularly separable."
   ]
  },
  {
   "cell_type": "code",
   "execution_count": 22,
   "id": "2ba96102-8d9d-4daa-9a17-fe89f517f7c4",
   "metadata": {},
   "outputs": [],
   "source": [
    "y_true = df[\"class\"].astype(bool)\n",
    "y_pred_6_cycle = df[6] > 2"
   ]
  },
  {
   "cell_type": "code",
   "execution_count": 23,
   "id": "b7f97b8b-1768-4328-bf51-2576abfab71e",
   "metadata": {},
   "outputs": [
    {
     "name": "stdout",
     "output_type": "stream",
     "text": [
      "Accuracy: 0.6032\n"
     ]
    }
   ],
   "source": [
    "print(f\"Accuracy: {np.round(accuracy_score(y_true, y_pred_6_cycle), 4)}\")"
   ]
  },
  {
   "cell_type": "code",
   "execution_count": 24,
   "id": "1db7c508-4c66-45da-9a03-45415c479f08",
   "metadata": {},
   "outputs": [
    {
     "data": {
      "image/png": "[encoded data removed]",
      "text/plain": [
       "<Figure size 720x360 with 4 Axes>"
      ]
     },
     "metadata": {
      "needs_background": "light"
     },
     "output_type": "display_data"
    }
   ],
   "source": [
    "plot_confusion_matrix(y_true, y_pred_6_cycle)"
   ]
  },
  {
   "cell_type": "markdown",
   "id": "bfd5bbe9-dc66-4ef2-be62-7041ad334b7e",
   "metadata": {},
   "source": [
    "This classifier performed quite poorly and would come last on the [leaderboard](https://paperswithcode.com/sota/graph-classification-on-nci1).\n",
    "However it was incredibly simple (i.e. a 1-dimensional embedding) and the 6-cycle feature chosen by a chemistry non-expert.\n",
    "Below we'll see if Lasso is able to construct a classifier that performs better, and in doing select other motifs of importance to this task."
   ]
  },
  {
   "cell_type": "markdown",
   "id": "d6bb9823-f16a-4d01-a492-ee694b1e1b71",
   "metadata": {
    "tags": []
   },
   "source": [
    "### Motif feature selection using Lasso"
   ]
  },
  {
   "cell_type": "markdown",
   "id": "2fc54206-b3e5-4f5f-a882-1dec7f793434",
   "metadata": {},
   "source": [
    "The previous example required some domain knowledge to know that 6-cycles might contribute to causing cancer.\n",
    "\n",
    "Without such domain knowledge, but with some labelled training data, can we learn the important features in a supervised way?\n",
    "\n",
    "Can we use Lasso to decrease the number of training examples needed and increase the number of features we can consider?"
   ]
  },
  {
   "cell_type": "code",
   "execution_count": 25,
   "id": "3a327e21-34e3-45f1-ac8e-af9e3227cd22",
   "metadata": {},
   "outputs": [],
   "source": [
    "@dataclass\n",
    "class Isoclass:\n",
    "    \"\"\"A graph isomorphism class.\"\"\"\n",
    "    n: int\n",
    "    cls: int\n",
    "    def graph(self) -> igraph.Graph:\n",
    "        \"\"\"Generates a graph of this isomorphism class.\n",
    "        \n",
    "        https://igraph.org/python/doc/api/igraph._igraph.GraphBase.html#Isoclass\n",
    "        \"\"\"\n",
    "        return igraph.Graph.Isoclass(n=self.n, cls=self.cls)"
   ]
  },
  {
   "cell_type": "code",
   "execution_count": 26,
   "id": "b9a9c7d7-7c24-415c-aa0f-31b11e698495",
   "metadata": {},
   "outputs": [],
   "source": [
    "def motif_vectorizer(graph: igraph.Graph) -> list[int]:\n",
    "    \"\"\"Counts the number of connected motifs on 3, 4, 5, 6 vertices.\n",
    "    \"\"\"\n",
    "    motifs = []\n",
    "    for n in range(3, 6+1):\n",
    "        motifs += graph.motifs_randesu(size=n)\n",
    "    motifs = [x for x in motifs if not np.isnan(x)]\n",
    "    return motifs"
   ]
  },
  {
   "cell_type": "markdown",
   "id": "d8b51110-e374-4c83-b616-2f922e56c1b7",
   "metadata": {},
   "source": [
    "`igraph`'s [`motifs_randesu`](https://igraph.org/python/doc/api/igraph._igraph.GraphBase.html#motifs_randesu) only counts motifs of 3, 4, 5 or 6 vertices.\n",
    "\n",
    "In addition, `igraph`'s [`motifs_randesu`](https://igraph.org/c/doc/igraph-Motifs.html#igraph_motifs_randesu) \"does not count isomorphism classes that are not connected and will report NaN for them\".\n",
    "\n",
    "The number of connected motifs with $n$ vertices is just\n",
    "the number of connected graphs with $n$ vertices\n",
    "given by [this sequence](https://oeis.org/A001349).\n",
    "Hence `igraph` can compute $2 + 6 + 21 + 112 = 141$ connected motif features."
   ]
  },
  {
   "cell_type": "code",
   "execution_count": 27,
   "id": "fd35d22f-9a9b-4132-b297-df63ab631d1d",
   "metadata": {},
   "outputs": [],
   "source": [
    "assert len(motif_vectorizer(igraph.Graph())) == 141"
   ]
  },
  {
   "cell_type": "code",
   "execution_count": 28,
   "id": "7fb1112b-be2b-4848-949d-9d60edd01ea0",
   "metadata": {},
   "outputs": [],
   "source": [
    "def get_feature_names_out() -> tuple[Isoclass]:\n",
    "    feature_names = []\n",
    "    for n, n_classes in ((3, 4), (4, 11), (5, 34), (6, 156)):\n",
    "        motifs = [Isoclass(n, cls) for cls in range(n_classes)]\n",
    "        # Filter out disconnected motifs.\n",
    "        connected = [not np.isnan(x) for x in igraph.Graph().motifs_randesu(n)]\n",
    "        feature_names += [x for i, x in enumerate(motifs) if connected[i]]\n",
    "    return tuple(feature_names)"
   ]
  },
  {
   "cell_type": "code",
   "execution_count": 29,
   "id": "afa594e5-2ad4-467e-880c-a9d7d3ed7593",
   "metadata": {},
   "outputs": [
    {
     "name": "stdout",
     "output_type": "stream",
     "text": [
      "CPU times: user 20.2 s, sys: 8.92 ms, total: 20.2 s\n",
      "Wall time: 20.2 s\n"
     ]
    }
   ],
   "source": [
    "%%time\n",
    "# Vectorize each graph.\n",
    "vectors = []\n",
    "for i in range(max(graph.vs['graph']) + 1):\n",
    "    g = graph.subgraph(np.where(np.array(graph.vs['graph']) == i)[0].tolist())\n",
    "    vectors.append(motif_vectorizer(g))"
   ]
  },
  {
   "cell_type": "markdown",
   "id": "3263c5c5-e0a1-4ea5-b3f4-d6d2e136203d",
   "metadata": {
    "tags": []
   },
   "source": [
    "### `Lasso(alpha=1.0)`"
   ]
  },
  {
   "cell_type": "code",
   "execution_count": 30,
   "id": "f6ce3bc2-b3e0-4234-a8a8-ad1b1595f22a",
   "metadata": {},
   "outputs": [],
   "source": [
    "reg = Lasso(alpha=1.0)\n",
    "reg.fit(vectors, class_labels)\n",
    "model = SelectFromModel(reg, prefit=True)"
   ]
  },
  {
   "cell_type": "code",
   "execution_count": 31,
   "id": "841faa9e-5340-4fd2-9a3a-2f21f2954414",
   "metadata": {},
   "outputs": [
    {
     "data": {
      "text/plain": [
       "0.10667810161121338"
      ]
     },
     "execution_count": 31,
     "metadata": {},
     "output_type": "execute_result"
    }
   ],
   "source": [
    "reg.score(vectors, class_labels)"
   ]
  },
  {
   "cell_type": "code",
   "execution_count": 32,
   "id": "b7590e2c-6e32-4617-9ce7-af54631d080f",
   "metadata": {},
   "outputs": [
    {
     "data": {
      "text/plain": [
       "array([Isoclass(n=6, cls=56)], dtype=object)"
      ]
     },
     "execution_count": 32,
     "metadata": {},
     "output_type": "execute_result"
    }
   ],
   "source": [
    "np.array(get_feature_names_out())[model.get_support()]"
   ]
  },
  {
   "cell_type": "code",
   "execution_count": 33,
   "id": "8445e87e-9d9b-4ef8-aa0f-988d36f87cf4",
   "metadata": {},
   "outputs": [],
   "source": [
    "selected_features = np.array(get_feature_names_out())[model.get_support()]"
   ]
  },
  {
   "cell_type": "code",
   "execution_count": 34,
   "id": "ee80cc54-8b55-44fd-848b-2658d020ddd9",
   "metadata": {},
   "outputs": [
    {
     "data": {
      "text/plain": [
       "array([Isoclass(n=6, cls=56)], dtype=object)"
      ]
     },
     "execution_count": 34,
     "metadata": {},
     "output_type": "execute_result"
    }
   ],
   "source": [
    "selected_features"
   ]
  },
  {
   "cell_type": "code",
   "execution_count": 35,
   "id": "d30adff8-c413-46ce-8488-23d282cc5bf0",
   "metadata": {},
   "outputs": [
    {
     "data": {
      "image/png": "[encoded data removed]",
      "text/plain": [
       "<Figure size 360x360 with 1 Axes>"
      ]
     },
     "metadata": {},
     "output_type": "display_data"
    }
   ],
   "source": [
    "_, axs = plt.subplots(1, len(selected_features), figsize=(5, 5))\n",
    "igraph.plot(selected_features[0].graph(), bbox=(150, 150), margin=30, target=axs)\n",
    "plt.show()"
   ]
  },
  {
   "cell_type": "markdown",
   "id": "57cd4d41-86da-442e-8e3b-6781fb6c978d",
   "metadata": {},
   "source": [
    "Plot the distribution of counts of this selected $P_6$ path graph motif across each class."
   ]
  },
  {
   "cell_type": "code",
   "execution_count": 36,
   "id": "1c62d26d-18fa-473e-a740-d50ec40fd709",
   "metadata": {},
   "outputs": [],
   "source": [
    "df_path = pd.DataFrame({\"motif_count\": model.transform(vectors).flatten(),\n",
    "                        \"class\": class_labels})\n",
    "df_path_grp = df_path.groupby([\"motif_count\", \"class\"]).size().reset_index(name=\"density\")\n",
    "df_path_grp[\"density\"] = df_path_grp[\"density\"] / len(df_path[\"class\"])"
   ]
  },
  {
   "cell_type": "code",
   "execution_count": 37,
   "id": "442eea89-9283-4bb8-a93f-5f152e426c38",
   "metadata": {},
   "outputs": [
    {
     "data": {
      "image/png": "[encoded data removed]",
      "text/plain": [
       "<Figure size 720x360 with 1 Axes>"
      ]
     },
     "metadata": {
      "needs_background": "light"
     },
     "output_type": "display_data"
    }
   ],
   "source": [
    "_, ax = plt.subplots(figsize=(10, 5))\n",
    "sns.scatterplot(data=df_path_grp, x=\"motif_count\", y=\"density\", hue=\"class\", ax=ax)\n",
    "sns.kdeplot(data=df_path, x=\"motif_count\", hue=\"class\", clip=(0, max(df_path[\"motif_count\"])), bw_adjust=2, fill=True, ax=ax)\n",
    "ax.xaxis.get_major_locator().set_params(integer=True)\n",
    "plt.show()"
   ]
  },
  {
   "cell_type": "code",
   "execution_count": 38,
   "id": "e76adb4c-e721-47ba-9821-511e507cf9fc",
   "metadata": {},
   "outputs": [],
   "source": [
    "y_true = df[\"class\"].astype(bool)\n",
    "y_pred_lasso = np.round(reg.predict(vectors)).astype(bool)"
   ]
  },
  {
   "cell_type": "code",
   "execution_count": 39,
   "id": "f6751b52-f4fb-4904-bdfc-0186a216b8b8",
   "metadata": {},
   "outputs": [
    {
     "name": "stdout",
     "output_type": "stream",
     "text": [
      "Accuracy: 0.6406\n"
     ]
    }
   ],
   "source": [
    "print(f\"Accuracy: {np.round(accuracy_score(y_true, y_pred_lasso), 4)}\")"
   ]
  },
  {
   "cell_type": "code",
   "execution_count": 40,
   "id": "533cc46d-277a-4be6-9f66-52090b5b6f62",
   "metadata": {},
   "outputs": [
    {
     "data": {
      "image/png": "[encoded data removed]",
      "text/plain": [
       "<Figure size 720x360 with 4 Axes>"
      ]
     },
     "metadata": {
      "needs_background": "light"
     },
     "output_type": "display_data"
    }
   ],
   "source": [
    "plot_confusion_matrix(y_true, y_pred_lasso)"
   ]
  },
  {
   "cell_type": "markdown",
   "id": "2d8e84a8-9656-4a22-a4fc-62626ab3c326",
   "metadata": {
    "tags": []
   },
   "source": [
    "### `Lasso(alpha=0.1)`"
   ]
  },
  {
   "cell_type": "markdown",
   "id": "2cae55f5-202b-47ea-8319-2f1f120c2e26",
   "metadata": {},
   "source": [
    "Weaker regularization than `alpha=1.0` above."
   ]
  },
  {
   "cell_type": "code",
   "execution_count": 41,
   "id": "c45ca348-3d8e-4ac7-b0e8-c8e7b09d1fdf",
   "metadata": {},
   "outputs": [],
   "source": [
    "reg = Lasso(alpha=0.1)\n",
    "reg.fit(vectors, class_labels)\n",
    "model = SelectFromModel(reg, prefit=True)"
   ]
  },
  {
   "cell_type": "code",
   "execution_count": 42,
   "id": "d182a2b8-fb34-4fd7-9fee-5acb69ddb29b",
   "metadata": {},
   "outputs": [
    {
     "data": {
      "text/plain": [
       "0.11748657516812411"
      ]
     },
     "execution_count": 42,
     "metadata": {},
     "output_type": "execute_result"
    }
   ],
   "source": [
    "reg.score(vectors, class_labels)"
   ]
  },
  {
   "cell_type": "code",
   "execution_count": 43,
   "id": "1d19cabb-a1fe-40ea-91d6-3d19bac29458",
   "metadata": {},
   "outputs": [
    {
     "data": {
      "text/plain": [
       "array([Isoclass(n=6, cls=36), Isoclass(n=6, cls=56),\n",
       "       Isoclass(n=6, cls=65)], dtype=object)"
      ]
     },
     "execution_count": 43,
     "metadata": {},
     "output_type": "execute_result"
    }
   ],
   "source": [
    "np.array(get_feature_names_out())[model.get_support()]"
   ]
  },
  {
   "cell_type": "code",
   "execution_count": 44,
   "id": "d0e53d66-3daa-4224-acf1-399889cb33c3",
   "metadata": {},
   "outputs": [],
   "source": [
    "selected_features = np.array(get_feature_names_out())[model.get_support()]"
   ]
  },
  {
   "cell_type": "code",
   "execution_count": 45,
   "id": "36c52513-2e80-4875-8799-2979139d0877",
   "metadata": {},
   "outputs": [
    {
     "data": {
      "image/png": "[encoded data removed]",
      "text/plain": [
       "<Figure size 720x2160 with 3 Axes>"
      ]
     },
     "metadata": {},
     "output_type": "display_data"
    }
   ],
   "source": [
    "_, axs = plt.subplots(1, len(selected_features), figsize=(10, 30))\n",
    "for i, motif in enumerate(selected_features):\n",
    "    # motif.graph().plot(ax=axs[i])\n",
    "    igraph.plot(motif.graph(), bbox=(250, 250), margin=30, target=axs[i])\n",
    "plt.show()"
   ]
  },
  {
   "cell_type": "markdown",
   "id": "9efd8bcc-a201-4ac2-af58-1fb5a04fd19f",
   "metadata": {},
   "source": [
    "The selected motifs are all sparse, which makes sense as the graphs themselves are all sparse."
   ]
  },
  {
   "cell_type": "code",
   "execution_count": 46,
   "id": "ceb077a6-27af-4492-959e-02e16efa3d32",
   "metadata": {},
   "outputs": [],
   "source": [
    "y_true = df[\"class\"].astype(bool)\n",
    "y_pred_lasso_weak_reg = np.round(reg.predict(vectors)).astype(bool)"
   ]
  },
  {
   "cell_type": "code",
   "execution_count": 47,
   "id": "d224a0cb-adc5-412a-885e-9f8138ac7823",
   "metadata": {},
   "outputs": [
    {
     "name": "stdout",
     "output_type": "stream",
     "text": [
      "Accuracy: 0.6438\n"
     ]
    }
   ],
   "source": [
    "print(f\"Accuracy: {np.round(accuracy_score(y_true, y_pred_lasso_weak_reg), 4)}\")"
   ]
  },
  {
   "cell_type": "code",
   "execution_count": 48,
   "id": "7e9582d1-1f4e-44d0-b418-7ec5bb11918a",
   "metadata": {},
   "outputs": [
    {
     "data": {
      "image/png": "[encoded data removed]",
      "text/plain": [
       "<Figure size 720x360 with 4 Axes>"
      ]
     },
     "metadata": {
      "needs_background": "light"
     },
     "output_type": "display_data"
    }
   ],
   "source": [
    "plot_confusion_matrix(y_true, y_pred_lasso_weak_reg)"
   ]
  },
  {
   "cell_type": "markdown",
   "id": "b6b2409b-40c6-412e-9e00-d7623e457c66",
   "metadata": {
    "tags": []
   },
   "source": [
    "### Linear regression"
   ]
  },
  {
   "cell_type": "markdown",
   "id": "15bdccf1-d7ea-4337-bc52-cfbdbfd922c8",
   "metadata": {},
   "source": [
    "Finally, for comparison we can fit a linear regression model against all motif counts.\n",
    "This will produce a much more complex model than Lasso.\n",
    "In practice, computing all motif features may be undesirably expensive and \n",
    "having enough labelled training data unrealistic."
   ]
  },
  {
   "cell_type": "code",
   "execution_count": 49,
   "id": "78bd15a3-d332-4a49-92e7-2f1c58e17dd1",
   "metadata": {},
   "outputs": [],
   "source": [
    "reg = LinearRegression()\n",
    "reg.fit(vectors, class_labels)\n",
    "model = SelectFromModel(reg, prefit=True)"
   ]
  },
  {
   "cell_type": "code",
   "execution_count": 50,
   "id": "239f1573-5266-4990-89f0-70b5d0ed6296",
   "metadata": {},
   "outputs": [],
   "source": [
    "y_true = df[\"class\"].astype(bool)\n",
    "y_pred_linear = np.round(reg.predict(vectors)).astype(bool)"
   ]
  },
  {
   "cell_type": "code",
   "execution_count": 51,
   "id": "24169e58-ffa4-4a7e-bb46-0e9ba7b05201",
   "metadata": {},
   "outputs": [
    {
     "name": "stdout",
     "output_type": "stream",
     "text": [
      "Accuracy: 0.6672\n"
     ]
    }
   ],
   "source": [
    "print(f\"Accuracy: {np.round(accuracy_score(y_true, y_pred_linear), 4)}\")"
   ]
  }
 ],
 "metadata": {
  "kernelspec": {
   "display_name": "Python 3 (ipykernel)",
   "language": "python",
   "name": "python3"
  },
  "language_info": {
   "codemirror_mode": {
    "name": "ipython",
    "version": 3
   },
   "file_extension": ".py",
   "mimetype": "text/x-python",
   "name": "python",
   "nbconvert_exporter": "python",
   "pygments_lexer": "ipython3",
   "version": "3.10.12"
  }
 },
 "nbformat": 4,
 "nbformat_minor": 5
}
