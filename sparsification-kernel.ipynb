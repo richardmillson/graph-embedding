{
 "cells": [
  {
   "cell_type": "markdown",
   "id": "0962ae1f-9296-4550-ae57-39ad9edb862b",
   "metadata": {
    "tags": []
   },
   "source": [
    "# Sparsification Kernel"
   ]
  },
  {
   "cell_type": "markdown",
   "id": "f297ffd0-e4d1-4142-bdd0-3e21465ee8c2",
   "metadata": {},
   "source": [
    "## Theory"
   ]
  },
  {
   "cell_type": "markdown",
   "id": "c08f7447-81d9-46ac-9922-574192290b32",
   "metadata": {},
   "source": [
    "We propose an R-Convolution kernel based on community decomposition (and more generally graph sparsification).\n",
    "\n",
    "We will show how given a unique graph decomposition robust to (some amount of) changes to the underlying graph we can construct an R-Convolution kernel. By representing the graph as a bag of parts from this unique decomposition we can take a divide-and-conquer approach to graph similarity. Considering each part individually allows for the parallelization of computation. As these parts are much smaller than the original graph, we can use kernels that would be intractable over the entire graph. Both of these should allow us to scale a graph kernel to larger graphs.\n",
    "\n",
    "We'll consider community structure as such a unique graph decomposition. A community is a subset of the vertices that are densely connected internally and sparsely connected externally. Community structure can be represented as a partition of a graph's vertices. We claim a graph's communities are such a unique decomposition. Graphs with strong community structure should have a unique community decomposition. However this method will not be applicable to all families of graphs as for example the Erdos-Renyi random graph will not have any community structure. Many \"natural\" graphs have been shown to have community structure, in particular social / communication networks between people. Communities should be robust to changes in the underlying graph as strong (i.e. identifiable) community structure requires having significantly more edges within a community than between communities.\n",
    "\n",
    "Let $G$ and $G'$ be graphs that have a unique, stable community structure. Let $communities(G)$ denote the communities of $G$ and let $C \\in communities(G)$ be the vertex-induced subgraph of $G$ with vertices equal to one of $G$'s communities and edges internal to that community. Let $k_\\$(G, G')$ be a graph kernel. In particular it could be one that is too expensive to run on the entire graph.\n",
    "\n",
    "We then want to compare the communities of $G$ to those of $G'$ using $k_\\$$. As we don't know how to align the communities of these two graphs we'll first must compare each community of $G$ to every one in $G'$. To fit into the R-Convolution framework, we take each $C \\in communities(G)$ as its own decomposition of $G$. Our R-Convolution kernel is then\n",
    "\n",
    "$k(G, G') = \\sum_{C_i \\in communities(G)} \\sum_{C_j \\in communities(G')} k_\\$(C_i, C_j)$\n",
    "\n",
    "Example: $G$ and $G'$ need not have the same number of communities. Suppose $G$ is the complete graph $K_n$ and $G'$ is the $n$-barbell graph i.e. the graph formed by connecting two copies of $K_n$ by a single edge. Then\n",
    "$k(G', G') = \\sum_{C_i \\in \\{K_n, K_n\\}} \\sum_{C_j \\in \\{K_n, K_n\\}} k_\\$(C_i, C_j) = 4k_\\$(K_n, K_n)$\n",
    "and\n",
    "$k(G, G') = \\sum_{C_i \\in \\{K_n\\}} \\sum_{C_j \\in \\{K_n, K_n\\}} k_\\$(C, C) = 4k_\\$(K_n, K_n)$.\n",
    "\n",
    "To reduce the number of kernel evaluations we need to perform we can pick an alignment of the communities i.e. some mapping from communities of one graph to the other. We'll pick an alignment that maximizes the sum of the pairwise kernels. This is an instance of the assignment problem for which the Kuhn-Munkres algorithm provides a polynomial time solution (see Label Swapping Problem [here](https://ruor.uottawa.ca/handle/10393/43171)).\n",
    "\n",
    "What's been proposed is not a complete kernel as we are discarding the edges between communities and hence cannot distinguish between graphs that can be decomposed into the same set of subgraphs (and where our community detection method chooses this decomposition). Consider the graph formed by contracting each community to a single vertex. These graphs could then be compared with kernel $k_\\$$. This would look for lower resolution similarity. This might be interesting on its own if only lower resolution similarity is of interest, or as an approximate similarity.\n",
    "\n",
    "*TODO: How can we get closer to a complete kernel? How can the similarity of the contracted graphs contribute to the pairwise community similarities? Can we just do a brute force solving of the isomorphism problem on this contracted graph, with the community subgraphs as vertex labels? Do the isomorphisms of the contracted graph restrict the choices of permutations that maximize the sum of kernels evaluated on community pairs?*\n",
    "\n",
    "This community R-Convolution kernel could be generalized to work with any graph sparsification method that produces stable and unique sparsifications. Most sparsification techniques try to preserve the spectrum, and since the spectrum is robust to small changes in the graph, these sparsification methods should be stable as well. Then the communities would just be the subgraphs that were contracted during sparsification."
   ]
  },
  {
   "cell_type": "markdown",
   "id": "992a4f49-b001-4878-a078-793fd6cd9016",
   "metadata": {},
   "source": [
    "## Dataset\n",
    "\n",
    "We use the NCI1 dataset of chemical compounds that have been classified as carcinogenic or not.\n",
    "It was downloaded from [TUDataset: A collection of benchmark datasets for learning with graphs](https://chrsmrrs.github.io/datasets/docs/datasets/).\n",
    "There is a [leaderboard](https://paperswithcode.com/sota/graph-classification-on-nci1) evaluating graph embedding algorithms on this classification task."
   ]
  },
  {
   "cell_type": "markdown",
   "id": "4f137861-fbfb-4309-bec2-20c08c0027cf",
   "metadata": {},
   "source": [
    "## Experiments"
   ]
  },
  {
   "cell_type": "markdown",
   "id": "f7b4e181-6606-4f97-9676-f346d3250875",
   "metadata": {},
   "source": [
    "In experiments we will take the community decomposition to be the partition with the optimal modularity. Note that finding this optimal partition is intractable for large graphs. If this approach shows promise then there are efficient algorithms for community detection that could be used instead, for example the multilevel Louvain algorithm. While these don't guarantee a unique decomposition, their compositions may be stable enough."
   ]
  },
  {
   "cell_type": "markdown",
   "id": "6e72a58e-a185-4d97-b801-1daeffa07d60",
   "metadata": {
    "tags": []
   },
   "source": [
    "### Setup"
   ]
  },
  {
   "cell_type": "markdown",
   "id": "1566f18b-f051-47d8-beff-c66e245b3bd7",
   "metadata": {},
   "source": [
    "To plot graphs the `cairo` 2D graphics library is required.\n",
    "It can be installed on Linux by running\n",
    "```shell\n",
    "sudo apt install libcairo2-dev\n",
    "```\n",
    "Windows installation instructions can be found [here](https://doc.courtbouillon.org/cairocffi/stable/overview.html#installing-cairo-on-windows)."
   ]
  },
  {
   "cell_type": "markdown",
   "id": "a18121fd-aee4-47dc-a621-81c6d4aae5b6",
   "metadata": {},
   "source": [
    "If using `pip` instead of `pipenv` for dependency management, uncomment and run the below cell."
   ]
  },
  {
   "cell_type": "code",
   "execution_count": 1,
   "id": "5168e4be-3248-4052-99fa-3f872ec8144b",
   "metadata": {
    "tags": []
   },
   "outputs": [],
   "source": [
    "# ! pip install --quiet igraph cairocffi"
   ]
  },
  {
   "cell_type": "code",
   "execution_count": 53,
   "id": "e83638da-45b7-4e2a-81e1-900795548528",
   "metadata": {
    "tags": []
   },
   "outputs": [],
   "source": [
    "from collections import Counter\n",
    "from dataclasses import dataclass\n",
    "from pathlib import Path\n",
    "import pickle\n",
    "\n",
    "import grakel\n",
    "from grakel.kernels import WeisfeilerLehman, VertexHistogram\n",
    "import igraph\n",
    "import matplotlib.pyplot as plt\n",
    "import networkx\n",
    "import numpy as np\n",
    "import pandas as pd\n",
    "import seaborn as sns\n",
    "from sklearn.metrics import accuracy_score, ConfusionMatrixDisplay\n",
    "import sklearn.linear_model\n",
    "from sklearn.feature_selection import SelectFromModel\n",
    "from sklearn.linear_model import Lasso, LinearRegression\n",
    "from tqdm import tqdm"
   ]
  },
  {
   "cell_type": "code",
   "execution_count": 3,
   "id": "d75704c5-ec8c-4149-87ce-fc0c33c49ed9",
   "metadata": {},
   "outputs": [],
   "source": [
    "sns.set()"
   ]
  },
  {
   "cell_type": "markdown",
   "id": "2d31bcb6-4160-4a3c-95ba-de5f8fb5664c",
   "metadata": {
    "tags": []
   },
   "source": [
    "### Load graphs"
   ]
  },
  {
   "cell_type": "markdown",
   "id": "23e16e82-4287-4a65-84df-6e7f70c48860",
   "metadata": {},
   "source": [
    "The dataset file format is described [on the TUDataset site](https://chrsmrrs.github.io/datasets/docs/format/)."
   ]
  },
  {
   "cell_type": "code",
   "execution_count": 16,
   "id": "6ddeb0b2-9cda-4705-8ccd-a5b06cabad9b",
   "metadata": {},
   "outputs": [],
   "source": [
    "data = Path(\"data\")\n",
    "if not data.exists():\n",
    "    raise FileNotFoundError(\"Path to data directory not set\")"
   ]
  },
  {
   "cell_type": "code",
   "execution_count": 17,
   "id": "bafa7a61-e082-49ec-8c4b-26110d358198",
   "metadata": {
    "tags": []
   },
   "outputs": [],
   "source": [
    "# Make 1-based vertex names 0-based.\n",
    "edges = [tuple(map(lambda x: int(x) - 1, edge.split(\",\")))\n",
    "         for edge in (data / \"NCI1/NCI1_A.txt\").read_text().split()]"
   ]
  },
  {
   "cell_type": "code",
   "execution_count": 18,
   "id": "4f0655a1-aa65-48dc-8c4d-73844ec56b80",
   "metadata": {},
   "outputs": [],
   "source": [
    "graph = igraph.Graph.TupleList(edges, directed=False)"
   ]
  },
  {
   "cell_type": "code",
   "execution_count": 19,
   "id": "df32a0fd-d24e-466a-b6df-8a6cc99b5566",
   "metadata": {},
   "outputs": [],
   "source": [
    "# Make 1-based subgraph names 0-based.\n",
    "subgraph_labels = np.array([\n",
    "    int(x) - 1 for x in (data / \"NCI1/NCI1_graph_indicator.txt\").read_text().split()\n",
    "])"
   ]
  },
  {
   "cell_type": "code",
   "execution_count": 20,
   "id": "8ee389d4-83ff-453a-9b1a-cc96cff2fd98",
   "metadata": {},
   "outputs": [],
   "source": [
    "class_labels = np.array([\n",
    "    int(x) for x in (data / \"NCI1/NCI1_graph_labels.txt\").read_text().split()\n",
    "])"
   ]
  },
  {
   "cell_type": "code",
   "execution_count": 21,
   "id": "a5fcad1f-9f9e-4a5f-a07c-493ba55817e9",
   "metadata": {},
   "outputs": [],
   "source": [
    "node_labels = np.array([\n",
    "    int(x) for x in (data / \"NCI1/NCI1_node_labels.txt\").read_text().split()\n",
    "])"
   ]
  },
  {
   "cell_type": "code",
   "execution_count": 22,
   "id": "76d35f71-6982-491d-ba24-c5f875e26243",
   "metadata": {},
   "outputs": [],
   "source": [
    "for v in graph.vs:\n",
    "    v[\"graph\"] = subgraph_labels[v[\"name\"]]\n",
    "    v[\"label\"] = node_labels[v[\"name\"]]"
   ]
  },
  {
   "cell_type": "markdown",
   "id": "f70c6fd1-4838-4a61-88cc-1135c22c8e60",
   "metadata": {
    "tags": []
   },
   "source": [
    "### Properties of these graphs"
   ]
  },
  {
   "cell_type": "code",
   "execution_count": 12,
   "id": "3c152bd6-e3a8-4a77-858a-e6d83192d14d",
   "metadata": {},
   "outputs": [
    {
     "name": "stdout",
     "output_type": "stream",
     "text": [
      "Number of graphs: 4110\n"
     ]
    }
   ],
   "source": [
    "print(f\"Number of graphs: {max(subgraph_labels) + 1}\")"
   ]
  },
  {
   "cell_type": "code",
   "execution_count": 13,
   "id": "f29b786c-5159-4751-969d-dc481c52b709",
   "metadata": {},
   "outputs": [
    {
     "name": "stdout",
     "output_type": "stream",
     "text": [
      "The classes are roughly balanced: [(1, 2057), (0, 2053)]\n"
     ]
    }
   ],
   "source": [
    "print(f\"The classes are roughly balanced: {Counter(class_labels).most_common()}\")"
   ]
  },
  {
   "cell_type": "code",
   "execution_count": 14,
   "id": "b9bb2535-f56d-4569-b7a8-e7a178f6eebb",
   "metadata": {},
   "outputs": [
    {
     "name": "stdout",
     "output_type": "stream",
     "text": [
      "The 4110 graphs have 122,319 vertices and 265,506 edges in total so are sparse\n"
     ]
    }
   ],
   "source": [
    "print((f\"The {max(subgraph_labels) + 1} graphs have \"\n",
    "       f\"{graph.vcount():,} vertices and {graph.ecount():,} edges \"\n",
    "       \"in total so are sparse\"))"
   ]
  },
  {
   "cell_type": "code",
   "execution_count": 15,
   "id": "75c1095d-5df5-4299-8bd9-93270919e594",
   "metadata": {},
   "outputs": [
    {
     "name": "stdout",
     "output_type": "stream",
     "text": [
      "Number of node labels i.e. distinct atoms present: 37\n"
     ]
    }
   ],
   "source": [
    "print(f\"Number of node labels i.e. distinct atoms present: {len(Counter(node_labels))}\")"
   ]
  },
  {
   "cell_type": "code",
   "execution_count": 16,
   "id": "355481b6-0627-4d79-bb43-de3737bfc6ac",
   "metadata": {},
   "outputs": [
    {
     "name": "stderr",
     "output_type": "stream",
     "text": [
      "100%|██████████| 4110/4110 [00:19<00:00, 212.79it/s]\n"
     ]
    }
   ],
   "source": [
    "# Check whether each graph is connected.\n",
    "connected = np.empty(shape=(max(subgraph_labels) + 1,), dtype=bool)\n",
    "for i in tqdm(range(max(subgraph_labels) + 1)):\n",
    "    g = graph.subgraph(np.where(np.array(graph.vs[\"graph\"]) == i)[0].tolist())\n",
    "    connected[i] = g.is_connected()"
   ]
  },
  {
   "cell_type": "code",
   "execution_count": 17,
   "id": "57da1c05-6eac-4334-bd20-f0b63f1d7ffb",
   "metadata": {},
   "outputs": [
    {
     "name": "stdout",
     "output_type": "stream",
     "text": [
      "3865/4110 ~= 0.94 of the graphs are connected\n"
     ]
    }
   ],
   "source": [
    "print((f\"{connected.sum()}/{len(connected)} ~= \"\n",
    "       f\"{np.round(connected.sum() / len(connected), 3)} \"\n",
    "       \"of the graphs are connected\"))"
   ]
  },
  {
   "cell_type": "code",
   "execution_count": 23,
   "id": "cdf68fda-4ca9-4c84-b000-155524810cad",
   "metadata": {},
   "outputs": [
    {
     "name": "stderr",
     "output_type": "stream",
     "text": [
      "100%|██████████████████████████████████████████████████████████████████████████████████████████████████| 4110/4110 [00:40<00:00, 101.45it/s]"
     ]
    },
    {
     "name": "stdout",
     "output_type": "stream",
     "text": [
      "CPU times: user 40.5 s, sys: 129 ms, total: 40.7 s\n",
      "Wall time: 40.6 s\n"
     ]
    },
    {
     "name": "stderr",
     "output_type": "stream",
     "text": [
      "\n"
     ]
    }
   ],
   "source": [
    "%%time\n",
    "vcounts = []\n",
    "for i in tqdm(range(max(graph.vs[\"graph\"])+1)):\n",
    "    g = graph.subgraph(np.where(np.array(graph.vs[\"graph\"]) == i)[0].tolist())\n",
    "    vcounts.append(g.vcount())"
   ]
  },
  {
   "cell_type": "code",
   "execution_count": 24,
   "id": "4fb051ac-a3f3-420d-a0dc-6d43034c80ef",
   "metadata": {},
   "outputs": [
    {
     "data": {
      "text/plain": [
       "(3, 111)"
      ]
     },
     "execution_count": 24,
     "metadata": {},
     "output_type": "execute_result"
    }
   ],
   "source": [
    "min(vcounts), max(vcounts)"
   ]
  },
  {
   "cell_type": "code",
   "execution_count": 25,
   "id": "4f11e4b1-3994-4236-9d0e-e5724a07661e",
   "metadata": {},
   "outputs": [
    {
     "name": "stderr",
     "output_type": "stream",
     "text": [
      "100%|██████████████████████████████████████████████████████████████████████████████████████████████████| 4110/4110 [00:39<00:00, 104.67it/s]"
     ]
    },
    {
     "name": "stdout",
     "output_type": "stream",
     "text": [
      "CPU times: user 39.2 s, sys: 165 ms, total: 39.4 s\n",
      "Wall time: 39.3 s\n"
     ]
    },
    {
     "name": "stderr",
     "output_type": "stream",
     "text": [
      "\n"
     ]
    }
   ],
   "source": [
    "%%time\n",
    "ecounts = []\n",
    "for i in tqdm(range(max(graph.vs[\"graph\"])+1)):\n",
    "    g = graph.subgraph(np.where(np.array(graph.vs[\"graph\"]) == i)[0].tolist())\n",
    "    ecounts.append(g.ecount())"
   ]
  },
  {
   "cell_type": "code",
   "execution_count": 26,
   "id": "84e7f1f2-4774-4350-bee0-c05bdffbe13a",
   "metadata": {},
   "outputs": [
    {
     "data": {
      "text/plain": [
       "(4, 238)"
      ]
     },
     "execution_count": 26,
     "metadata": {},
     "output_type": "execute_result"
    }
   ],
   "source": [
    "min(ecounts), max(ecounts)"
   ]
  },
  {
   "cell_type": "markdown",
   "id": "f0cab908-431a-426c-b308-3e6a9133750a",
   "metadata": {},
   "source": [
    "### Compute clusterings i.e. community decomposition for each graph"
   ]
  },
  {
   "cell_type": "markdown",
   "id": "a0d3f049-a30c-4bc8-b213-e85c1be6b807",
   "metadata": {},
   "source": [
    "Find communties for each graph using the optimal modularity.\n",
    "Note this will be slow; there are speed ups such as multilevel Louvain that could be used instead."
   ]
  },
  {
   "cell_type": "code",
   "execution_count": 11,
   "id": "9cca83c8-7816-4600-94e3-ee3d0d6930bc",
   "metadata": {},
   "outputs": [],
   "source": [
    "# TODO: Use arrays instead of pickled igraph.clustering.VertexClustering .\n",
    "if not Path(data / \"clusterings.pkl\").exists():\n",
    "    # Find communities for each graph.\n",
    "    clusterings = []\n",
    "    for i in tqdm(range(max(G.vs[\"graph\"])+1)):\n",
    "        g = G.subgraph(np.where(np.array(G.vs[\"graph\"]) == i)[0].tolist())\n",
    "        clusterings.append(g.community_optimal_modularity())\n",
    "    Path(data / \"clusterings.pkl\").write_bytes(pickle.dumps(clusterings))\n",
    "else:\n",
    "    clusterings = pickle.loads((data / \"clusterings.pkl\").read_bytes())"
   ]
  },
  {
   "cell_type": "code",
   "execution_count": 14,
   "id": "37500048-727b-45a7-ab72-73c64c8e8f98",
   "metadata": {},
   "outputs": [],
   "source": [
    "modularities = [clustering.modularity for clustering in clusterings]"
   ]
  },
  {
   "cell_type": "code",
   "execution_count": null,
   "id": "447c3afd-2107-4225-8e46-cea841e7d324",
   "metadata": {},
   "outputs": [],
   "source": [
    "sns.kdeplot(data=modularities, clip=(0, max(df[6])), bw_adjust=2, fill=True, ax=ax)"
   ]
  },
  {
   "cell_type": "code",
   "execution_count": 29,
   "id": "b3008635-8770-4fce-a2f4-fbf22993258d",
   "metadata": {},
   "outputs": [
    {
     "data": {
      "image/png": "[encoded data removed]",
      "text/plain": [
       "<Figure size 640x480 with 1 Axes>"
      ]
     },
     "metadata": {},
     "output_type": "display_data"
    }
   ],
   "source": [
    "sns.ecdfplot(modularities)\n",
    "plt.show()"
   ]
  },
  {
   "cell_type": "markdown",
   "id": "ff5f9474-4772-41cf-bf13-ed7172b27163",
   "metadata": {
    "tags": []
   },
   "source": [
    "### R-convolution kernel with communities as parts"
   ]
  },
  {
   "cell_type": "code",
   "execution_count": 31,
   "id": "8a5fc067-a359-4599-930e-d3983a8fc11b",
   "metadata": {},
   "outputs": [],
   "source": [
    "# TODO: Finish implementation.\n",
    "def community_kernel(g0: igraph.clustering.VertexClustering,\n",
    "                     g1: igraph.clustering.VertexClustering) -> float:\n",
    "    value = 0\n",
    "    for c0 in range(max(g0.membership)):\n",
    "        s0 = g0.subgraph(c0)\n",
    "        for c1 in range(max(g1.membership)):\n",
    "            s1 = g1.subgraph(c1)\n",
    "            # https://ysig.github.io/GraKeL/0.1a8/documentation/introduction.html#computing-the-kernel-between-two-graphs\n",
    "            kernel = GraphKernel(normalize=True, kernel=\"shortest_path\")\n",
    "            kernel.fit_transform([s0])\n",
    "            kernel.transform([s1])\n",
    "            value += kernel(s0, s1)\n",
    "    return value"
   ]
  },
  {
   "cell_type": "code",
   "execution_count": 36,
   "id": "de6931be-d2e7-49e1-8707-7c4a4b70797b",
   "metadata": {},
   "outputs": [],
   "source": [
    "def bag_of_communities(g: igraph.clustering.VertexClustering\n",
    "    ) -> list:\n",
    "    # TODO: Finish implementation.\n",
    "    raise NotImplementedError"
   ]
  },
  {
   "cell_type": "markdown",
   "id": "242fca1d-6107-449c-801f-a853a454772a",
   "metadata": {},
   "source": [
    "#### Converting graphs to grakel"
   ]
  },
  {
   "cell_type": "code",
   "execution_count": 68,
   "id": "0811bf1a-829a-40ec-bb32-a5b731aecaa3",
   "metadata": {},
   "outputs": [],
   "source": [
    "# TODO: Finish.\n",
    "def igraph_to_grakel(g_igraph: igraph.Graph) -> grakel.graph.Graph:\n",
    "    g_networkx = g_igraph.to_networkx(vertex_attr_hashable=\"name\")\n",
    "    labels = dict(zip(g_igraph.vs[\"name\"], g_igraph.vs[\"label\"]))\n",
    "    networkx.set_node_attributes(g_networkx, labels, \"label\")\n",
    "    return next(grakel.graph_from_networkx([g_igraph.to_networkx()]))\n",
    "    # return next(grakel.graph_from_networkx([graph.to_networkx()], as_Graph=True))"
   ]
  },
  {
   "cell_type": "code",
   "execution_count": 100,
   "id": "5cce3a47-68f9-477e-87a4-2c190279768f",
   "metadata": {},
   "outputs": [],
   "source": [
    "# g_igraph = g0\n",
    "g_networkx = g_igraph.to_networkx(create_using=networkx.Graph, vertex_attr_hashable=\"name\")\n",
    "# labels = dict(zip(g_igraph.vs[\"name\"], g_igraph.vs[\"label\"]))\n",
    "# networkx.set_node_attributes(g_networkx, labels, \"label\")"
   ]
  },
  {
   "cell_type": "code",
   "execution_count": null,
   "id": "6e8dbdab-e79e-485d-8c9b-b089fbe40e0e",
   "metadata": {},
   "outputs": [],
   "source": [
    "networkx.set_node_attributes(G2, {0:'a', 1:'b', 2:'c'}, 'label')"
   ]
  },
  {
   "cell_type": "code",
   "execution_count": 71,
   "id": "ca56dbe8-9211-49ad-9166-3e945f537489",
   "metadata": {},
   "outputs": [
    {
     "data": {
      "text/plain": [
       "<function networkx.classes.function.set_node_attributes(G, values, name=None)>"
      ]
     },
     "execution_count": 71,
     "metadata": {},
     "output_type": "execute_result"
    }
   ],
   "source": [
    "networkx.set_node_attributes"
   ]
  },
  {
   "cell_type": "code",
   "execution_count": 44,
   "id": "e295eb59-ce4e-409b-89e1-cccda368126a",
   "metadata": {},
   "outputs": [
    {
     "data": {
      "text/plain": [
       "[{0: {1: 1.0, 5: 1.0},\n",
       "  1: {0: 1.0, 2: 1.0},\n",
       "  2: {1: 1.0, 3: 1.0},\n",
       "  3: {2: 1.0, 4: 1.0},\n",
       "  4: {3: 1.0, 5: 1.0},\n",
       "  5: {4: 1.0, 0: 1.0}},\n",
       " None,\n",
       " None]"
      ]
     },
     "execution_count": 44,
     "metadata": {},
     "output_type": "execute_result"
    }
   ],
   "source": [
    "next(grakel.graph_from_networkx([networkx.cycle_graph(6)]))"
   ]
  },
  {
   "cell_type": "code",
   "execution_count": 47,
   "id": "b158cc88-8425-4386-a322-693c8bc00e7d",
   "metadata": {},
   "outputs": [
    {
     "data": {
      "text/plain": [
       "<grakel.graph.Graph at 0x7f425bf446d0>"
      ]
     },
     "execution_count": 47,
     "metadata": {},
     "output_type": "execute_result"
    }
   ],
   "source": [
    "grakel.Graph({1: [2, 3], 2: [1], 3: [1]})"
   ]
  },
  {
   "cell_type": "code",
   "execution_count": 48,
   "id": "76e97340-0629-4560-9003-6b6665ca5921",
   "metadata": {},
   "outputs": [
    {
     "data": {
      "text/plain": [
       "[{0: {1: 1.0, 5: 1.0},\n",
       "  1: {0: 1.0, 2: 1.0},\n",
       "  2: {1: 1.0, 3: 1.0},\n",
       "  3: {2: 1.0, 4: 1.0},\n",
       "  4: {3: 1.0, 5: 1.0},\n",
       "  5: {4: 1.0, 0: 1.0}},\n",
       " None,\n",
       " None]"
      ]
     },
     "execution_count": 48,
     "metadata": {},
     "output_type": "execute_result"
    }
   ],
   "source": [
    "next(grakel.graph_from_networkx([igraph.Graph.Ring(6).to_networkx()]))"
   ]
  },
  {
   "cell_type": "code",
   "execution_count": 49,
   "id": "6fb47e5e-24e0-46fc-a4c9-848bfbc0af06",
   "metadata": {},
   "outputs": [
    {
     "data": {
      "text/plain": [
       "<grakel.graph.Graph at 0x7f425bf46c20>"
      ]
     },
     "execution_count": 49,
     "metadata": {},
     "output_type": "execute_result"
    }
   ],
   "source": [
    "grakel.Graph(grakel.graph_from_networkx([igraph.Graph.Ring(6).to_networkx()]))"
   ]
  },
  {
   "cell_type": "code",
   "execution_count": 51,
   "id": "db3c1e3d-d3a7-4374-8348-48e89cf2402d",
   "metadata": {},
   "outputs": [
    {
     "data": {
      "text/plain": [
       "<grakel.graph.Graph at 0x7f425bf47eb0>"
      ]
     },
     "execution_count": 51,
     "metadata": {},
     "output_type": "execute_result"
    }
   ],
   "source": [
    "next(grakel.graph_from_networkx([igraph.Graph.Ring(6).to_networkx()], as_Graph=True))"
   ]
  },
  {
   "cell_type": "code",
   "execution_count": 65,
   "id": "65e44502-ecdd-47f1-88be-c2a584676e99",
   "metadata": {},
   "outputs": [],
   "source": [
    "x = next(grakel.graph_from_networkx([graph.to_networkx()], node_labels_tag=\"label\"))"
   ]
  },
  {
   "cell_type": "code",
   "execution_count": 70,
   "id": "e505284d-a1af-4694-842c-3b95e2faf869",
   "metadata": {},
   "outputs": [
    {
     "name": "stdout",
     "output_type": "stream",
     "text": [
      "Help on method _export_graph_to_networkx in module igraph.io.libraries:\n",
      "\n",
      "_export_graph_to_networkx(create_using=None, vertex_attr_hashable: str = '_nx_name') method of igraph.Graph instance\n",
      "    Converts the graph to networkx format.\n",
      "    \n",
      "    igraph has ordered vertices and edges, but networkx does not. To keep\n",
      "    track of the original order, the '_igraph_index' vertex property is\n",
      "    added to both vertices and edges.\n",
      "    \n",
      "    @param create_using: specifies which NetworkX graph class to use when\n",
      "        constructing the graph. C{None} means to let igraph infer the most\n",
      "        appropriate class based on whether the graph is directed and whether\n",
      "        it has multi-edges.\n",
      "    @param vertex_attr_hashable: vertex attribute used to name vertices\n",
      "        in the exported network. The default \"_nx_name\" ensures round trip\n",
      "        conversions to/from networkx are lossless.\n",
      "\n"
     ]
    }
   ],
   "source": [
    "help(graph.to_networkx)"
   ]
  },
  {
   "cell_type": "code",
   "execution_count": 52,
   "id": "83ec6236-b20a-4839-8a32-4b853853e0ae",
   "metadata": {},
   "outputs": [
    {
     "data": {
      "text/plain": [
       "grakel.graph_kernels.GraphKernel"
      ]
     },
     "execution_count": 52,
     "metadata": {},
     "output_type": "execute_result"
    }
   ],
   "source": [
    "grakel.GraphKernel()"
   ]
  },
  {
   "cell_type": "code",
   "execution_count": 56,
   "id": "06324970-5019-4977-8e3d-147df7570fe9",
   "metadata": {},
   "outputs": [],
   "source": [
    "wl_kernel = WeisfeilerLehman(base_graph_kernel=VertexHistogram, normalize=True)"
   ]
  },
  {
   "cell_type": "code",
   "execution_count": 57,
   "id": "6585e6a5-cfa0-40a0-b658-325a6d7bc539",
   "metadata": {},
   "outputs": [
    {
     "data": {
      "text/html": [
       "<style>#sk-container-id-2 {color: black;}#sk-container-id-2 pre{padding: 0;}#sk-container-id-2 div.sk-toggleable {background-color: white;}#sk-container-id-2 label.sk-toggleable__label {cursor: pointer;display: block;width: 100%;margin-bottom: 0;padding: 0.3em;box-sizing: border-box;text-align: center;}#sk-container-id-2 label.sk-toggleable__label-arrow:before {content: \"▸\";float: left;margin-right: 0.25em;color: #696969;}#sk-container-id-2 label.sk-toggleable__label-arrow:hover:before {color: black;}#sk-container-id-2 div.sk-estimator:hover label.sk-toggleable__label-arrow:before {color: black;}#sk-container-id-2 div.sk-toggleable__content {max-height: 0;max-width: 0;overflow: hidden;text-align: left;background-color: #f0f8ff;}#sk-container-id-2 div.sk-toggleable__content pre {margin: 0.2em;color: black;border-radius: 0.25em;background-color: #f0f8ff;}#sk-container-id-2 input.sk-toggleable__control:checked~div.sk-toggleable__content {max-height: 200px;max-width: 100%;overflow: auto;}#sk-container-id-2 input.sk-toggleable__control:checked~label.sk-toggleable__label-arrow:before {content: \"▾\";}#sk-container-id-2 div.sk-estimator input.sk-toggleable__control:checked~label.sk-toggleable__label {background-color: #d4ebff;}#sk-container-id-2 div.sk-label input.sk-toggleable__control:checked~label.sk-toggleable__label {background-color: #d4ebff;}#sk-container-id-2 input.sk-hidden--visually {border: 0;clip: rect(1px 1px 1px 1px);clip: rect(1px, 1px, 1px, 1px);height: 1px;margin: -1px;overflow: hidden;padding: 0;position: absolute;width: 1px;}#sk-container-id-2 div.sk-estimator {font-family: monospace;background-color: #f0f8ff;border: 1px dotted black;border-radius: 0.25em;box-sizing: border-box;margin-bottom: 0.5em;}#sk-container-id-2 div.sk-estimator:hover {background-color: #d4ebff;}#sk-container-id-2 div.sk-parallel-item::after {content: \"\";width: 100%;border-bottom: 1px solid gray;flex-grow: 1;}#sk-container-id-2 div.sk-label:hover label.sk-toggleable__label {background-color: #d4ebff;}#sk-container-id-2 div.sk-serial::before {content: \"\";position: absolute;border-left: 1px solid gray;box-sizing: border-box;top: 0;bottom: 0;left: 50%;z-index: 0;}#sk-container-id-2 div.sk-serial {display: flex;flex-direction: column;align-items: center;background-color: white;padding-right: 0.2em;padding-left: 0.2em;position: relative;}#sk-container-id-2 div.sk-item {position: relative;z-index: 1;}#sk-container-id-2 div.sk-parallel {display: flex;align-items: stretch;justify-content: center;background-color: white;position: relative;}#sk-container-id-2 div.sk-item::before, #sk-container-id-2 div.sk-parallel-item::before {content: \"\";position: absolute;border-left: 1px solid gray;box-sizing: border-box;top: 0;bottom: 0;left: 50%;z-index: -1;}#sk-container-id-2 div.sk-parallel-item {display: flex;flex-direction: column;z-index: 1;position: relative;background-color: white;}#sk-container-id-2 div.sk-parallel-item:first-child::after {align-self: flex-end;width: 50%;}#sk-container-id-2 div.sk-parallel-item:last-child::after {align-self: flex-start;width: 50%;}#sk-container-id-2 div.sk-parallel-item:only-child::after {width: 0;}#sk-container-id-2 div.sk-dashed-wrapped {border: 1px dashed gray;margin: 0 0.4em 0.5em 0.4em;box-sizing: border-box;padding-bottom: 0.4em;background-color: white;}#sk-container-id-2 div.sk-label label {font-family: monospace;font-weight: bold;display: inline-block;line-height: 1.2em;}#sk-container-id-2 div.sk-label-container {text-align: center;}#sk-container-id-2 div.sk-container {/* jupyter's `normalize.less` sets `[hidden] { display: none; }` but bootstrap.min.css set `[hidden] { display: none !important; }` so we also need the `!important` here to be able to override the default hidden behavior on the sphinx rendered scikit-learn.org. See: https://github.com/scikit-learn/scikit-learn/issues/21755 */display: inline-block !important;position: relative;}#sk-container-id-2 div.sk-text-repr-fallback {display: none;}</style><div id=\"sk-container-id-2\" class=\"sk-top-container\"><div class=\"sk-text-repr-fallback\"><pre>WeisfeilerLehman(normalize=True)</pre><b>In a Jupyter environment, please rerun this cell to show the HTML representation or trust the notebook. <br />On GitHub, the HTML representation is unable to render, please try loading this page with nbviewer.org.</b></div><div class=\"sk-container\" hidden><div class=\"sk-item\"><div class=\"sk-estimator sk-toggleable\"><input class=\"sk-toggleable__control sk-hidden--visually\" id=\"sk-estimator-id-2\" type=\"checkbox\" checked><label for=\"sk-estimator-id-2\" class=\"sk-toggleable__label sk-toggleable__label-arrow\">WeisfeilerLehman</label><div class=\"sk-toggleable__content\"><pre>WeisfeilerLehman(normalize=True)</pre></div></div></div></div></div>"
      ],
      "text/plain": [
       "WeisfeilerLehman(normalize=True)"
      ]
     },
     "execution_count": 57,
     "metadata": {},
     "output_type": "execute_result"
    }
   ],
   "source": [
    "wl_kernel.fit_transform([])"
   ]
  },
  {
   "cell_type": "code",
   "execution_count": 60,
   "id": "c2728f96-1e66-4182-a255-17e3b436d715",
   "metadata": {},
   "outputs": [],
   "source": [
    "g0 = graph.subgraph(np.where(np.array(graph.vs[\"graph\"]) == 0)[0].tolist())"
   ]
  },
  {
   "cell_type": "code",
   "execution_count": 79,
   "id": "ec891976-6865-4426-a82a-b404e20582cd",
   "metadata": {},
   "outputs": [],
   "source": [
    "g_networkx = g0.to_networkx()\n",
    "# TODO: Add labels.\n",
    "# networkx.set_node_attributes(g_networkx, , \"label\")"
   ]
  },
  {
   "cell_type": "code",
   "execution_count": 63,
   "id": "542893d4-1bc1-44f6-b26f-0e19f2bd56f7",
   "metadata": {},
   "outputs": [
    {
     "data": {
      "image/svg+xml": [
       "<?xml version=\"1.0\" encoding=\"UTF-8\"?>\n",
       "<svg xmlns=\"http://www.w3.org/2000/svg\" xmlns:xlink=\"http://www.w3.org/1999/xlink\" width=\"300pt\" height=\"300pt\" viewBox=\"0 0 300 300\" version=\"1.1\">\n",
       "<defs>\n",
       "<g>\n",
       "<symbol overflow=\"visible\" id=\"glyph0-0\">\n",
       "<path style=\"stroke:none;\" d=\"M 0.703125 2.46875 L 0.703125 -9.875 L 7.703125 -9.875 L 7.703125 2.46875 Z M 1.484375 1.703125 L 6.921875 1.703125 L 6.921875 -9.078125 L 1.484375 -9.078125 Z M 1.484375 1.703125 \"/>\n",
       "</symbol>\n",
       "<symbol overflow=\"visible\" id=\"glyph0-1\">\n",
       "<path style=\"stroke:none;\" d=\"M 2.6875 -1.15625 L 7.5 -1.15625 L 7.5 0 L 1.03125 0 L 1.03125 -1.15625 C 1.550781 -1.695312 2.265625 -2.425781 3.171875 -3.34375 C 4.078125 -4.257812 4.644531 -4.847656 4.875 -5.109375 C 5.3125 -5.609375 5.617188 -6.03125 5.796875 -6.375 C 5.972656 -6.71875 6.0625 -7.054688 6.0625 -7.390625 C 6.0625 -7.929688 5.867188 -8.375 5.484375 -8.71875 C 5.109375 -9.0625 4.613281 -9.234375 4 -9.234375 C 3.570312 -9.234375 3.117188 -9.15625 2.640625 -9 C 2.160156 -8.851562 1.644531 -8.625 1.09375 -8.3125 L 1.09375 -9.71875 C 1.644531 -9.9375 2.160156 -10.101562 2.640625 -10.21875 C 3.128906 -10.332031 3.578125 -10.390625 3.984375 -10.390625 C 5.035156 -10.390625 5.875 -10.125 6.5 -9.59375 C 7.132812 -9.070312 7.453125 -8.367188 7.453125 -7.484375 C 7.453125 -7.054688 7.375 -6.65625 7.21875 -6.28125 C 7.0625 -5.90625 6.773438 -5.460938 6.359375 -4.953125 C 6.242188 -4.828125 5.878906 -4.445312 5.265625 -3.8125 C 4.660156 -3.175781 3.800781 -2.289062 2.6875 -1.15625 Z M 2.6875 -1.15625 \"/>\n",
       "</symbol>\n",
       "<symbol overflow=\"visible\" id=\"glyph0-2\">\n",
       "<path style=\"stroke:none;\" d=\"M 1.734375 -1.15625 L 4 -1.15625 L 4 -8.953125 L 1.53125 -8.453125 L 1.53125 -9.71875 L 3.984375 -10.203125 L 5.359375 -10.203125 L 5.359375 -1.15625 L 7.609375 -1.15625 L 7.609375 0 L 1.734375 0 Z M 1.734375 -1.15625 \"/>\n",
       "</symbol>\n",
       "<symbol overflow=\"visible\" id=\"glyph0-3\">\n",
       "<path style=\"stroke:none;\" d=\"M 5.6875 -5.5 C 6.34375 -5.363281 6.851562 -5.070312 7.21875 -4.625 C 7.59375 -4.175781 7.78125 -3.625 7.78125 -2.96875 C 7.78125 -1.957031 7.429688 -1.175781 6.734375 -0.625 C 6.046875 -0.0703125 5.066406 0.203125 3.796875 0.203125 C 3.367188 0.203125 2.925781 0.15625 2.46875 0.0625 C 2.019531 -0.0195312 1.550781 -0.144531 1.0625 -0.3125 L 1.0625 -1.640625 C 1.445312 -1.421875 1.867188 -1.253906 2.328125 -1.140625 C 2.785156 -1.023438 3.257812 -0.96875 3.75 -0.96875 C 4.613281 -0.96875 5.269531 -1.132812 5.71875 -1.46875 C 6.175781 -1.8125 6.40625 -2.3125 6.40625 -2.96875 C 6.40625 -3.570312 6.191406 -4.039062 5.765625 -4.375 C 5.347656 -4.71875 4.765625 -4.890625 4.015625 -4.890625 L 2.828125 -4.890625 L 2.828125 -6.015625 L 4.078125 -6.015625 C 4.753906 -6.015625 5.269531 -6.148438 5.625 -6.421875 C 5.988281 -6.703125 6.171875 -7.097656 6.171875 -7.609375 C 6.171875 -8.128906 5.984375 -8.53125 5.609375 -8.8125 C 5.242188 -9.09375 4.710938 -9.234375 4.015625 -9.234375 C 3.640625 -9.234375 3.234375 -9.191406 2.796875 -9.109375 C 2.367188 -9.023438 1.894531 -8.894531 1.375 -8.71875 L 1.375 -9.953125 C 1.894531 -10.097656 2.382812 -10.207031 2.84375 -10.28125 C 3.300781 -10.351562 3.734375 -10.390625 4.140625 -10.390625 C 5.191406 -10.390625 6.019531 -10.148438 6.625 -9.671875 C 7.238281 -9.203125 7.546875 -8.5625 7.546875 -7.75 C 7.546875 -7.175781 7.382812 -6.695312 7.0625 -6.3125 C 6.738281 -5.925781 6.28125 -5.65625 5.6875 -5.5 Z M 5.6875 -5.5 \"/>\n",
       "</symbol>\n",
       "</g>\n",
       "</defs>\n",
       "<g id=\"surface8\">\n",
       "<rect x=\"0\" y=\"0\" width=\"300\" height=\"300\" style=\"fill:rgb(100%,100%,100%);fill-opacity:1;stroke:none;\"/>\n",
       "<path style=\"fill-rule:nonzero;fill:rgb(100%,0%,0%);fill-opacity:0.25;stroke-width:2;stroke-linecap:butt;stroke-linejoin:miter;stroke:rgb(100%,0%,0%);stroke-opacity:1;stroke-miterlimit:10;\" d=\"M 294.292969 195.222656 L 293.589844 174.976562 C 293.15625 162.484375 281.601562 155.695312 270.480469 161.398438 L 244.816406 174.558594 C 233.695312 180.261719 233.875 191.300781 245.183594 196.632812 L 272.546875 209.539062 C 283.851562 214.875 294.726562 207.714844 294.292969 195.222656 \"/>\n",
       "<path style=\"fill-rule:nonzero;fill:rgb(0%,100%,0%);fill-opacity:0.25;stroke-width:2;stroke-linecap:butt;stroke-linejoin:miter;stroke:rgb(0%,100%,0%);stroke-opacity:1;stroke-miterlimit:10;\" d=\"M 191.859375 268.230469 L 181.476562 254.476562 C 173.945312 244.496094 156.292969 241.851562 146.167969 249.183594 L 126.03125 263.761719 C 115.910156 271.09375 118.226562 279.625 130.667969 280.828125 L 182.035156 285.78125 C 194.476562 286.984375 199.386719 278.207031 191.859375 268.230469 \"/>\n",
       "<path style=\"fill-rule:nonzero;fill:rgb(0%,0%,100%);fill-opacity:0.25;stroke-width:2;stroke-linecap:butt;stroke-linejoin:miter;stroke:rgb(0%,0%,100%);stroke-opacity:1;stroke-miterlimit:10;\" d=\"M 113.984375 77.007812 L 79.710938 16.769531 C 73.53125 5.90625 56.804688 1.753906 46.261719 8.464844 L 16.253906 27.566406 C 5.710938 34.277344 6.605469 46.027344 18.046875 51.0625 L 103.464844 88.667969 C 114.90625 93.703125 120.164062 87.875 113.984375 77.007812 \"/>\n",
       "<path style=\"fill-rule:nonzero;fill:rgb(100%,100%,0%);fill-opacity:0.25;stroke-width:2;stroke-linecap:butt;stroke-linejoin:miter;stroke:rgb(100%,100%,0%);stroke-opacity:1;stroke-miterlimit:10;\" d=\"M 168.21875 149.863281 L 178.046875 82.453125 C 179.847656 70.082031 169.921875 62.027344 158.1875 66.339844 L 145.039062 71.171875 C 133.304688 75.484375 123.847656 92.089844 126.125 104.378906 L 129.515625 122.6875 C 131.425781 133 141.300781 150.140625 149.265625 156.96875 C 157.230469 163.796875 166.707031 160.242188 168.21875 149.863281 \"/>\n",
       "<path style=\"fill-rule:nonzero;fill:rgb(100%,0%,100%);fill-opacity:0.25;stroke-width:2;stroke-linecap:butt;stroke-linejoin:miter;stroke:rgb(100%,0%,100%);stroke-opacity:1;stroke-miterlimit:10;\" d=\"M 209.445312 166.550781 L 197.28125 159.160156 C 186.597656 152.667969 165.101562 152.441406 154.289062 158.710938 L 138.851562 167.660156 C 128.992188 173.375 117.179688 190.316406 115.226562 201.542969 C 113.273438 212.769531 120.859375 230.230469 130.398438 236.464844 L 141.730469 243.875 C 152.195312 250.714844 173.46875 251.28125 184.277344 245.003906 L 196.847656 237.707031 C 207.261719 231.664062 220.765625 213.976562 223.851562 202.339844 C 226.9375 190.699219 219.734375 172.804688 209.445312 166.550781 \"/>\n",
       "<path style=\"fill:none;stroke-width:1;stroke-linecap:butt;stroke-linejoin:miter;stroke:rgb(20%,20%,20%);stroke-opacity:1;stroke-miterlimit:10;\" d=\"M 247.570312 185.777344 L 278.78125 170.742188 \"/>\n",
       "<path style=\"fill:none;stroke-width:1;stroke-linecap:butt;stroke-linejoin:miter;stroke:rgb(20%,20%,20%);stroke-opacity:1;stroke-miterlimit:10;\" d=\"M 247.570312 185.777344 L 280 200.324219 \"/>\n",
       "<path style=\"fill:none;stroke-width:1;stroke-linecap:butt;stroke-linejoin:miter;stroke:rgb(20%,20%,20%);stroke-opacity:1;stroke-miterlimit:10;\" d=\"M 161.03125 258.933594 L 130.558594 275.082031 \"/>\n",
       "<path style=\"fill:none;stroke-width:1;stroke-linecap:butt;stroke-linejoin:miter;stroke:rgb(20%,20%,20%);stroke-opacity:1;stroke-miterlimit:10;\" d=\"M 161.03125 258.933594 L 183.296875 280 \"/>\n",
       "<path style=\"fill:none;stroke-width:1;stroke-linecap:butt;stroke-linejoin:miter;stroke:rgb(20%,20%,20%);stroke-opacity:1;stroke-miterlimit:10;\" d=\"M 58.4375 45.167969 L 65.914062 20 \"/>\n",
       "<path style=\"fill:none;stroke-width:1;stroke-linecap:butt;stroke-linejoin:miter;stroke:rgb(20%,20%,20%);stroke-opacity:1;stroke-miterlimit:10;\" d=\"M 147.136719 122.46875 L 160.730469 146.023438 \"/>\n",
       "<path style=\"fill:none;stroke-width:1;stroke-linecap:butt;stroke-linejoin:miter;stroke:rgb(80%,80%,80%);stroke-opacity:1;stroke-miterlimit:10;\" d=\"M 160.730469 146.023438 L 173.070312 171.011719 \"/>\n",
       "<path style=\"fill:none;stroke-width:1;stroke-linecap:butt;stroke-linejoin:miter;stroke:rgb(20%,20%,20%);stroke-opacity:1;stroke-miterlimit:10;\" d=\"M 147.136719 122.46875 L 139.59375 97.125 \"/>\n",
       "<path style=\"fill:none;stroke-width:1;stroke-linecap:butt;stroke-linejoin:miter;stroke:rgb(80%,80%,80%);stroke-opacity:1;stroke-miterlimit:10;\" d=\"M 247.570312 185.777344 L 206.621094 187.84375 \"/>\n",
       "<path style=\"fill:none;stroke-width:1;stroke-linecap:butt;stroke-linejoin:miter;stroke:rgb(20%,20%,20%);stroke-opacity:1;stroke-miterlimit:10;\" d=\"M 173.070312 171.011719 L 206.621094 187.84375 \"/>\n",
       "<path style=\"fill:none;stroke-width:1;stroke-linecap:butt;stroke-linejoin:miter;stroke:rgb(80%,80%,80%);stroke-opacity:1;stroke-miterlimit:10;\" d=\"M 139.59375 97.125 L 106.835938 83.109375 \"/>\n",
       "<path style=\"fill:none;stroke-width:1;stroke-linecap:butt;stroke-linejoin:miter;stroke:rgb(20%,20%,20%);stroke-opacity:1;stroke-miterlimit:10;\" d=\"M 58.4375 45.167969 L 81.425781 65.109375 \"/>\n",
       "<path style=\"fill:none;stroke-width:1;stroke-linecap:butt;stroke-linejoin:miter;stroke:rgb(20%,20%,20%);stroke-opacity:1;stroke-miterlimit:10;\" d=\"M 106.835938 83.109375 L 81.425781 65.109375 \"/>\n",
       "<path style=\"fill:none;stroke-width:1;stroke-linecap:butt;stroke-linejoin:miter;stroke:rgb(80%,80%,80%);stroke-opacity:1;stroke-miterlimit:10;\" d=\"M 161.03125 258.933594 L 165.722656 232.746094 \"/>\n",
       "<path style=\"fill:none;stroke-width:1;stroke-linecap:butt;stroke-linejoin:miter;stroke:rgb(20%,20%,20%);stroke-opacity:1;stroke-miterlimit:10;\" d=\"M 173.070312 171.011719 L 141.933594 189.339844 \"/>\n",
       "<path style=\"fill:none;stroke-width:1;stroke-linecap:butt;stroke-linejoin:miter;stroke:rgb(20%,20%,20%);stroke-opacity:1;stroke-miterlimit:10;\" d=\"M 206.621094 187.84375 L 195.28125 214.511719 \"/>\n",
       "<path style=\"fill:none;stroke-width:1;stroke-linecap:butt;stroke-linejoin:miter;stroke:rgb(20%,20%,20%);stroke-opacity:1;stroke-miterlimit:10;\" d=\"M 165.722656 232.746094 L 195.28125 214.511719 \"/>\n",
       "<path style=\"fill:none;stroke-width:1;stroke-linecap:butt;stroke-linejoin:miter;stroke:rgb(20%,20%,20%);stroke-opacity:1;stroke-miterlimit:10;\" d=\"M 165.722656 232.746094 L 134.675781 215.074219 \"/>\n",
       "<path style=\"fill:none;stroke-width:1;stroke-linecap:butt;stroke-linejoin:miter;stroke:rgb(20%,20%,20%);stroke-opacity:1;stroke-miterlimit:10;\" d=\"M 141.933594 189.339844 L 134.675781 215.074219 \"/>\n",
       "<path style=\"fill:none;stroke-width:1;stroke-linecap:butt;stroke-linejoin:miter;stroke:rgb(20%,20%,20%);stroke-opacity:1;stroke-miterlimit:10;\" d=\"M 139.59375 97.125 L 170.355469 80.015625 \"/>\n",
       "<path style=\"fill:none;stroke-width:1;stroke-linecap:butt;stroke-linejoin:miter;stroke:rgb(20%,20%,20%);stroke-opacity:1;stroke-miterlimit:10;\" d=\"M 58.4375 45.167969 L 20 43.867188 \"/>\n",
       "<path style=\"fill-rule:nonzero;fill:rgb(100%,0%,0%);fill-opacity:1;stroke-width:1;stroke-linecap:butt;stroke-linejoin:miter;stroke:rgb(0%,0%,0%);stroke-opacity:1;stroke-miterlimit:10;\" d=\"M 257.570312 185.777344 C 257.570312 191.296875 253.09375 195.777344 247.570312 195.777344 C 242.046875 195.777344 237.570312 191.296875 237.570312 185.777344 C 237.570312 180.253906 242.046875 175.777344 247.570312 175.777344 C 253.09375 175.777344 257.570312 180.253906 257.570312 185.777344 \"/>\n",
       "<path style=\"fill-rule:nonzero;fill:rgb(100%,0%,0%);fill-opacity:1;stroke-width:1;stroke-linecap:butt;stroke-linejoin:miter;stroke:rgb(0%,0%,0%);stroke-opacity:1;stroke-miterlimit:10;\" d=\"M 288.78125 170.742188 C 288.78125 176.261719 284.300781 180.742188 278.78125 180.742188 C 273.257812 180.742188 268.78125 176.261719 268.78125 170.742188 C 268.78125 165.21875 273.257812 160.742188 278.78125 160.742188 C 284.300781 160.742188 288.78125 165.21875 288.78125 170.742188 \"/>\n",
       "<path style=\"fill-rule:nonzero;fill:rgb(100%,0%,0%);fill-opacity:1;stroke-width:1;stroke-linecap:butt;stroke-linejoin:miter;stroke:rgb(0%,0%,0%);stroke-opacity:1;stroke-miterlimit:10;\" d=\"M 290 200.324219 C 290 205.847656 285.523438 210.324219 280 210.324219 C 274.476562 210.324219 270 205.847656 270 200.324219 C 270 194.804688 274.476562 190.324219 280 190.324219 C 285.523438 190.324219 290 194.804688 290 200.324219 \"/>\n",
       "<path style=\"fill-rule:nonzero;fill:rgb(0%,100%,0%);fill-opacity:1;stroke-width:1;stroke-linecap:butt;stroke-linejoin:miter;stroke:rgb(0%,0%,0%);stroke-opacity:1;stroke-miterlimit:10;\" d=\"M 171.03125 258.933594 C 171.03125 264.457031 166.554688 268.933594 161.03125 268.933594 C 155.507812 268.933594 151.03125 264.457031 151.03125 258.933594 C 151.03125 253.410156 155.507812 248.933594 161.03125 248.933594 C 166.554688 248.933594 171.03125 253.410156 171.03125 258.933594 \"/>\n",
       "<path style=\"fill-rule:nonzero;fill:rgb(0%,100%,0%);fill-opacity:1;stroke-width:1;stroke-linecap:butt;stroke-linejoin:miter;stroke:rgb(0%,0%,0%);stroke-opacity:1;stroke-miterlimit:10;\" d=\"M 140.558594 275.082031 C 140.558594 280.605469 136.082031 285.082031 130.558594 285.082031 C 125.035156 285.082031 120.558594 280.605469 120.558594 275.082031 C 120.558594 269.558594 125.035156 265.082031 130.558594 265.082031 C 136.082031 265.082031 140.558594 269.558594 140.558594 275.082031 \"/>\n",
       "<path style=\"fill-rule:nonzero;fill:rgb(0%,100%,0%);fill-opacity:1;stroke-width:1;stroke-linecap:butt;stroke-linejoin:miter;stroke:rgb(0%,0%,0%);stroke-opacity:1;stroke-miterlimit:10;\" d=\"M 193.296875 280 C 193.296875 285.523438 188.820312 290 183.296875 290 C 177.773438 290 173.296875 285.523438 173.296875 280 C 173.296875 274.476562 177.773438 270 183.296875 270 C 188.820312 270 193.296875 274.476562 193.296875 280 \"/>\n",
       "<path style=\"fill-rule:nonzero;fill:rgb(0%,0%,100%);fill-opacity:1;stroke-width:1;stroke-linecap:butt;stroke-linejoin:miter;stroke:rgb(0%,0%,0%);stroke-opacity:1;stroke-miterlimit:10;\" d=\"M 68.4375 45.167969 C 68.4375 50.691406 63.960938 55.167969 58.4375 55.167969 C 52.914062 55.167969 48.4375 50.691406 48.4375 45.167969 C 48.4375 39.644531 52.914062 35.167969 58.4375 35.167969 C 63.960938 35.167969 68.4375 39.644531 68.4375 45.167969 \"/>\n",
       "<path style=\"fill-rule:nonzero;fill:rgb(0%,0%,100%);fill-opacity:1;stroke-width:1;stroke-linecap:butt;stroke-linejoin:miter;stroke:rgb(0%,0%,0%);stroke-opacity:1;stroke-miterlimit:10;\" d=\"M 75.914062 20 C 75.914062 25.523438 71.4375 30 65.914062 30 C 60.394531 30 55.914062 25.523438 55.914062 20 C 55.914062 14.476562 60.394531 10 65.914062 10 C 71.4375 10 75.914062 14.476562 75.914062 20 \"/>\n",
       "<path style=\"fill-rule:nonzero;fill:rgb(100%,100%,0%);fill-opacity:1;stroke-width:1;stroke-linecap:butt;stroke-linejoin:miter;stroke:rgb(0%,0%,0%);stroke-opacity:1;stroke-miterlimit:10;\" d=\"M 157.136719 122.46875 C 157.136719 127.988281 152.65625 132.46875 147.136719 132.46875 C 141.613281 132.46875 137.136719 127.988281 137.136719 122.46875 C 137.136719 116.945312 141.613281 112.46875 147.136719 112.46875 C 152.65625 112.46875 157.136719 116.945312 157.136719 122.46875 \"/>\n",
       "<path style=\"fill-rule:nonzero;fill:rgb(100%,100%,0%);fill-opacity:1;stroke-width:1;stroke-linecap:butt;stroke-linejoin:miter;stroke:rgb(0%,0%,0%);stroke-opacity:1;stroke-miterlimit:10;\" d=\"M 170.730469 146.023438 C 170.730469 151.546875 166.253906 156.023438 160.730469 156.023438 C 155.207031 156.023438 150.730469 151.546875 150.730469 146.023438 C 150.730469 140.5 155.207031 136.023438 160.730469 136.023438 C 166.253906 136.023438 170.730469 140.5 170.730469 146.023438 \"/>\n",
       "<path style=\"fill-rule:nonzero;fill:rgb(100%,0%,100%);fill-opacity:1;stroke-width:1;stroke-linecap:butt;stroke-linejoin:miter;stroke:rgb(0%,0%,0%);stroke-opacity:1;stroke-miterlimit:10;\" d=\"M 183.070312 171.011719 C 183.070312 176.535156 178.59375 181.011719 173.070312 181.011719 C 167.550781 181.011719 163.070312 176.535156 163.070312 171.011719 C 163.070312 165.488281 167.550781 161.011719 173.070312 161.011719 C 178.59375 161.011719 183.070312 165.488281 183.070312 171.011719 \"/>\n",
       "<path style=\"fill-rule:nonzero;fill:rgb(100%,100%,0%);fill-opacity:1;stroke-width:1;stroke-linecap:butt;stroke-linejoin:miter;stroke:rgb(0%,0%,0%);stroke-opacity:1;stroke-miterlimit:10;\" d=\"M 149.59375 97.125 C 149.59375 102.644531 145.117188 107.125 139.59375 107.125 C 134.070312 107.125 129.59375 102.644531 129.59375 97.125 C 129.59375 91.601562 134.070312 87.125 139.59375 87.125 C 145.117188 87.125 149.59375 91.601562 149.59375 97.125 \"/>\n",
       "<path style=\"fill-rule:nonzero;fill:rgb(100%,0%,100%);fill-opacity:1;stroke-width:1;stroke-linecap:butt;stroke-linejoin:miter;stroke:rgb(0%,0%,0%);stroke-opacity:1;stroke-miterlimit:10;\" d=\"M 216.621094 187.84375 C 216.621094 193.367188 212.140625 197.84375 206.621094 197.84375 C 201.097656 197.84375 196.621094 193.367188 196.621094 187.84375 C 196.621094 182.320312 201.097656 177.84375 206.621094 177.84375 C 212.140625 177.84375 216.621094 182.320312 216.621094 187.84375 \"/>\n",
       "<path style=\"fill-rule:nonzero;fill:rgb(0%,0%,100%);fill-opacity:1;stroke-width:1;stroke-linecap:butt;stroke-linejoin:miter;stroke:rgb(0%,0%,0%);stroke-opacity:1;stroke-miterlimit:10;\" d=\"M 116.835938 83.109375 C 116.835938 88.628906 112.359375 93.109375 106.835938 93.109375 C 101.3125 93.109375 96.835938 88.628906 96.835938 83.109375 C 96.835938 77.585938 101.3125 73.109375 106.835938 73.109375 C 112.359375 73.109375 116.835938 77.585938 116.835938 83.109375 \"/>\n",
       "<path style=\"fill-rule:nonzero;fill:rgb(0%,0%,100%);fill-opacity:1;stroke-width:1;stroke-linecap:butt;stroke-linejoin:miter;stroke:rgb(0%,0%,0%);stroke-opacity:1;stroke-miterlimit:10;\" d=\"M 91.425781 65.109375 C 91.425781 70.632812 86.945312 75.109375 81.425781 75.109375 C 75.902344 75.109375 71.425781 70.632812 71.425781 65.109375 C 71.425781 59.585938 75.902344 55.109375 81.425781 55.109375 C 86.945312 55.109375 91.425781 59.585938 91.425781 65.109375 \"/>\n",
       "<path style=\"fill-rule:nonzero;fill:rgb(100%,0%,100%);fill-opacity:1;stroke-width:1;stroke-linecap:butt;stroke-linejoin:miter;stroke:rgb(0%,0%,0%);stroke-opacity:1;stroke-miterlimit:10;\" d=\"M 175.722656 232.746094 C 175.722656 238.265625 171.246094 242.746094 165.722656 242.746094 C 160.199219 242.746094 155.722656 238.265625 155.722656 232.746094 C 155.722656 227.222656 160.199219 222.746094 165.722656 222.746094 C 171.246094 222.746094 175.722656 227.222656 175.722656 232.746094 \"/>\n",
       "<path style=\"fill-rule:nonzero;fill:rgb(100%,0%,100%);fill-opacity:1;stroke-width:1;stroke-linecap:butt;stroke-linejoin:miter;stroke:rgb(0%,0%,0%);stroke-opacity:1;stroke-miterlimit:10;\" d=\"M 151.933594 189.339844 C 151.933594 194.863281 147.457031 199.339844 141.933594 199.339844 C 136.410156 199.339844 131.933594 194.863281 131.933594 189.339844 C 131.933594 183.816406 136.410156 179.339844 141.933594 179.339844 C 147.457031 179.339844 151.933594 183.816406 151.933594 189.339844 \"/>\n",
       "<path style=\"fill-rule:nonzero;fill:rgb(100%,0%,100%);fill-opacity:1;stroke-width:1;stroke-linecap:butt;stroke-linejoin:miter;stroke:rgb(0%,0%,0%);stroke-opacity:1;stroke-miterlimit:10;\" d=\"M 205.28125 214.511719 C 205.28125 220.035156 200.800781 224.511719 195.28125 224.511719 C 189.757812 224.511719 185.28125 220.035156 185.28125 214.511719 C 185.28125 208.988281 189.757812 204.511719 195.28125 204.511719 C 200.800781 204.511719 205.28125 208.988281 205.28125 214.511719 \"/>\n",
       "<path style=\"fill-rule:nonzero;fill:rgb(100%,0%,100%);fill-opacity:1;stroke-width:1;stroke-linecap:butt;stroke-linejoin:miter;stroke:rgb(0%,0%,0%);stroke-opacity:1;stroke-miterlimit:10;\" d=\"M 144.675781 215.074219 C 144.675781 220.597656 140.199219 225.074219 134.675781 225.074219 C 129.152344 225.074219 124.675781 220.597656 124.675781 215.074219 C 124.675781 209.550781 129.152344 205.074219 134.675781 205.074219 C 140.199219 205.074219 144.675781 209.550781 144.675781 215.074219 \"/>\n",
       "<path style=\"fill-rule:nonzero;fill:rgb(100%,100%,0%);fill-opacity:1;stroke-width:1;stroke-linecap:butt;stroke-linejoin:miter;stroke:rgb(0%,0%,0%);stroke-opacity:1;stroke-miterlimit:10;\" d=\"M 180.355469 80.015625 C 180.355469 85.539062 175.878906 90.015625 170.355469 90.015625 C 164.832031 90.015625 160.355469 85.539062 160.355469 80.015625 C 160.355469 74.492188 164.832031 70.015625 170.355469 70.015625 C 175.878906 70.015625 180.355469 74.492188 180.355469 80.015625 \"/>\n",
       "<path style=\"fill-rule:nonzero;fill:rgb(0%,0%,100%);fill-opacity:1;stroke-width:1;stroke-linecap:butt;stroke-linejoin:miter;stroke:rgb(0%,0%,0%);stroke-opacity:1;stroke-miterlimit:10;\" d=\"M 30 43.867188 C 30 49.390625 25.523438 53.867188 20 53.867188 C 14.476562 53.867188 10 49.390625 10 43.867188 C 10 38.34375 14.476562 33.867188 20 33.867188 C 25.523438 33.867188 30 38.34375 30 43.867188 \"/>\n",
       "<g style=\"fill:rgb(0%,0%,0%);fill-opacity:1;\">\n",
       "  <use xlink:href=\"#glyph0-1\" x=\"243.304688\" y=\"192.621094\"/>\n",
       "</g>\n",
       "<g style=\"fill:rgb(0%,0%,0%);fill-opacity:1;\">\n",
       "  <use xlink:href=\"#glyph0-2\" x=\"274.203125\" y=\"177.496094\"/>\n",
       "</g>\n",
       "<g style=\"fill:rgb(0%,0%,0%);fill-opacity:1;\">\n",
       "  <use xlink:href=\"#glyph0-2\" x=\"275.421875\" y=\"207.078125\"/>\n",
       "</g>\n",
       "<g style=\"fill:rgb(0%,0%,0%);fill-opacity:1;\">\n",
       "  <use xlink:href=\"#glyph0-1\" x=\"156.765625\" y=\"265.78125\"/>\n",
       "</g>\n",
       "<g style=\"fill:rgb(0%,0%,0%);fill-opacity:1;\">\n",
       "  <use xlink:href=\"#glyph0-2\" x=\"125.984375\" y=\"281.835938\"/>\n",
       "</g>\n",
       "<g style=\"fill:rgb(0%,0%,0%);fill-opacity:1;\">\n",
       "  <use xlink:href=\"#glyph0-2\" x=\"178.71875\" y=\"286.753906\"/>\n",
       "</g>\n",
       "<g style=\"fill:rgb(0%,0%,0%);fill-opacity:1;\">\n",
       "  <use xlink:href=\"#glyph0-3\" x=\"54.011719\" y=\"52.011719\"/>\n",
       "</g>\n",
       "<g style=\"fill:rgb(0%,0%,0%);fill-opacity:1;\">\n",
       "  <use xlink:href=\"#glyph0-2\" x=\"61.339844\" y=\"26.753906\"/>\n",
       "</g>\n",
       "<g style=\"fill:rgb(0%,0%,0%);fill-opacity:1;\">\n",
       "  <use xlink:href=\"#glyph0-1\" x=\"142.871094\" y=\"129.3125\"/>\n",
       "</g>\n",
       "<g style=\"fill:rgb(0%,0%,0%);fill-opacity:1;\">\n",
       "  <use xlink:href=\"#glyph0-1\" x=\"156.464844\" y=\"152.871094\"/>\n",
       "</g>\n",
       "<g style=\"fill:rgb(0%,0%,0%);fill-opacity:1;\">\n",
       "  <use xlink:href=\"#glyph0-3\" x=\"168.644531\" y=\"177.859375\"/>\n",
       "</g>\n",
       "<g style=\"fill:rgb(0%,0%,0%);fill-opacity:1;\">\n",
       "  <use xlink:href=\"#glyph0-3\" x=\"135.167969\" y=\"103.96875\"/>\n",
       "</g>\n",
       "<g style=\"fill:rgb(0%,0%,0%);fill-opacity:1;\">\n",
       "  <use xlink:href=\"#glyph0-3\" x=\"202.191406\" y=\"194.6875\"/>\n",
       "</g>\n",
       "<g style=\"fill:rgb(0%,0%,0%);fill-opacity:1;\">\n",
       "  <use xlink:href=\"#glyph0-1\" x=\"102.570312\" y=\"89.953125\"/>\n",
       "</g>\n",
       "<g style=\"fill:rgb(0%,0%,0%);fill-opacity:1;\">\n",
       "  <use xlink:href=\"#glyph0-3\" x=\"76.996094\" y=\"71.957031\"/>\n",
       "</g>\n",
       "<g style=\"fill:rgb(0%,0%,0%);fill-opacity:1;\">\n",
       "  <use xlink:href=\"#glyph0-3\" x=\"161.296875\" y=\"239.589844\"/>\n",
       "</g>\n",
       "<g style=\"fill:rgb(0%,0%,0%);fill-opacity:1;\">\n",
       "  <use xlink:href=\"#glyph0-3\" x=\"137.507812\" y=\"196.183594\"/>\n",
       "</g>\n",
       "<g style=\"fill:rgb(0%,0%,0%);fill-opacity:1;\">\n",
       "  <use xlink:href=\"#glyph0-3\" x=\"190.851562\" y=\"221.359375\"/>\n",
       "</g>\n",
       "<g style=\"fill:rgb(0%,0%,0%);fill-opacity:1;\">\n",
       "  <use xlink:href=\"#glyph0-3\" x=\"130.25\" y=\"221.921875\"/>\n",
       "</g>\n",
       "<g style=\"fill:rgb(0%,0%,0%);fill-opacity:1;\">\n",
       "  <use xlink:href=\"#glyph0-3\" x=\"165.929688\" y=\"86.863281\"/>\n",
       "</g>\n",
       "<g style=\"fill:rgb(0%,0%,0%);fill-opacity:1;\">\n",
       "  <use xlink:href=\"#glyph0-3\" x=\"15.574219\" y=\"50.710938\"/>\n",
       "</g>\n",
       "</g>\n",
       "</svg>\n"
      ],
      "text/plain": [
       "<igraph.drawing.cairo.plot.CairoPlot at 0x7f425bec1c60>"
      ]
     },
     "execution_count": 63,
     "metadata": {
      "image/svg+xml": {
       "isolated": true
      }
     },
     "output_type": "execute_result"
    }
   ],
   "source": [
    "igraph.plot(clusterings[0], mark_groups=True, bbox=(300,300))"
   ]
  },
  {
   "cell_type": "code",
   "execution_count": 64,
   "id": "ec3e424f-b2f3-4a7c-bb87-ebcacd883930",
   "metadata": {},
   "outputs": [
    {
     "data": {
      "image/svg+xml": [
       "<?xml version=\"1.0\" encoding=\"UTF-8\"?>\n",
       "<svg xmlns=\"http://www.w3.org/2000/svg\" xmlns:xlink=\"http://www.w3.org/1999/xlink\" width=\"300pt\" height=\"300pt\" viewBox=\"0 0 300 300\" version=\"1.1\">\n",
       "<defs>\n",
       "<g>\n",
       "<symbol overflow=\"visible\" id=\"glyph0-0\">\n",
       "<path style=\"stroke:none;\" d=\"M 0.703125 2.46875 L 0.703125 -9.875 L 7.703125 -9.875 L 7.703125 2.46875 Z M 1.484375 1.703125 L 6.921875 1.703125 L 6.921875 -9.078125 L 1.484375 -9.078125 Z M 1.484375 1.703125 \"/>\n",
       "</symbol>\n",
       "<symbol overflow=\"visible\" id=\"glyph0-1\">\n",
       "<path style=\"stroke:none;\" d=\"M 5.6875 -5.5 C 6.34375 -5.363281 6.851562 -5.070312 7.21875 -4.625 C 7.59375 -4.175781 7.78125 -3.625 7.78125 -2.96875 C 7.78125 -1.957031 7.429688 -1.175781 6.734375 -0.625 C 6.046875 -0.0703125 5.066406 0.203125 3.796875 0.203125 C 3.367188 0.203125 2.925781 0.15625 2.46875 0.0625 C 2.019531 -0.0195312 1.550781 -0.144531 1.0625 -0.3125 L 1.0625 -1.640625 C 1.445312 -1.421875 1.867188 -1.253906 2.328125 -1.140625 C 2.785156 -1.023438 3.257812 -0.96875 3.75 -0.96875 C 4.613281 -0.96875 5.269531 -1.132812 5.71875 -1.46875 C 6.175781 -1.8125 6.40625 -2.3125 6.40625 -2.96875 C 6.40625 -3.570312 6.191406 -4.039062 5.765625 -4.375 C 5.347656 -4.71875 4.765625 -4.890625 4.015625 -4.890625 L 2.828125 -4.890625 L 2.828125 -6.015625 L 4.078125 -6.015625 C 4.753906 -6.015625 5.269531 -6.148438 5.625 -6.421875 C 5.988281 -6.703125 6.171875 -7.097656 6.171875 -7.609375 C 6.171875 -8.128906 5.984375 -8.53125 5.609375 -8.8125 C 5.242188 -9.09375 4.710938 -9.234375 4.015625 -9.234375 C 3.640625 -9.234375 3.234375 -9.191406 2.796875 -9.109375 C 2.367188 -9.023438 1.894531 -8.894531 1.375 -8.71875 L 1.375 -9.953125 C 1.894531 -10.097656 2.382812 -10.207031 2.84375 -10.28125 C 3.300781 -10.351562 3.734375 -10.390625 4.140625 -10.390625 C 5.191406 -10.390625 6.019531 -10.148438 6.625 -9.671875 C 7.238281 -9.203125 7.546875 -8.5625 7.546875 -7.75 C 7.546875 -7.175781 7.382812 -6.695312 7.0625 -6.3125 C 6.738281 -5.925781 6.28125 -5.65625 5.6875 -5.5 Z M 5.6875 -5.5 \"/>\n",
       "</symbol>\n",
       "<symbol overflow=\"visible\" id=\"glyph0-2\">\n",
       "<path style=\"stroke:none;\" d=\"M 5.296875 -9 L 1.8125 -3.5625 L 5.296875 -3.5625 Z M 4.921875 -10.203125 L 6.671875 -10.203125 L 6.671875 -3.5625 L 8.125 -3.5625 L 8.125 -2.40625 L 6.671875 -2.40625 L 6.671875 0 L 5.296875 0 L 5.296875 -2.40625 L 0.6875 -2.40625 L 0.6875 -3.734375 Z M 4.921875 -10.203125 \"/>\n",
       "</symbol>\n",
       "<symbol overflow=\"visible\" id=\"glyph0-3\">\n",
       "<path style=\"stroke:none;\" d=\"M 1.734375 -1.15625 L 4 -1.15625 L 4 -8.953125 L 1.53125 -8.453125 L 1.53125 -9.71875 L 3.984375 -10.203125 L 5.359375 -10.203125 L 5.359375 -1.15625 L 7.609375 -1.15625 L 7.609375 0 L 1.734375 0 Z M 1.734375 -1.15625 \"/>\n",
       "</symbol>\n",
       "<symbol overflow=\"visible\" id=\"glyph0-4\">\n",
       "<path style=\"stroke:none;\" d=\"M 2.6875 -1.15625 L 7.5 -1.15625 L 7.5 0 L 1.03125 0 L 1.03125 -1.15625 C 1.550781 -1.695312 2.265625 -2.425781 3.171875 -3.34375 C 4.078125 -4.257812 4.644531 -4.847656 4.875 -5.109375 C 5.3125 -5.609375 5.617188 -6.03125 5.796875 -6.375 C 5.972656 -6.71875 6.0625 -7.054688 6.0625 -7.390625 C 6.0625 -7.929688 5.867188 -8.375 5.484375 -8.71875 C 5.109375 -9.0625 4.613281 -9.234375 4 -9.234375 C 3.570312 -9.234375 3.117188 -9.15625 2.640625 -9 C 2.160156 -8.851562 1.644531 -8.625 1.09375 -8.3125 L 1.09375 -9.71875 C 1.644531 -9.9375 2.160156 -10.101562 2.640625 -10.21875 C 3.128906 -10.332031 3.578125 -10.390625 3.984375 -10.390625 C 5.035156 -10.390625 5.875 -10.125 6.5 -9.59375 C 7.132812 -9.070312 7.453125 -8.367188 7.453125 -7.484375 C 7.453125 -7.054688 7.375 -6.65625 7.21875 -6.28125 C 7.0625 -5.90625 6.773438 -5.460938 6.359375 -4.953125 C 6.242188 -4.828125 5.878906 -4.445312 5.265625 -3.8125 C 4.660156 -3.175781 3.800781 -2.289062 2.6875 -1.15625 Z M 2.6875 -1.15625 \"/>\n",
       "</symbol>\n",
       "</g>\n",
       "</defs>\n",
       "<g id=\"surface14\">\n",
       "<rect x=\"0\" y=\"0\" width=\"300\" height=\"300\" style=\"fill:rgb(100%,100%,100%);fill-opacity:1;stroke:none;\"/>\n",
       "<path style=\"fill-rule:nonzero;fill:rgb(100%,0%,0%);fill-opacity:0.25;stroke-width:2;stroke-linecap:butt;stroke-linejoin:miter;stroke:rgb(100%,0%,0%);stroke-opacity:1;stroke-miterlimit:10;\" d=\"M 217.699219 156.351562 L 211.507812 107.035156 C 209.949219 94.628906 199.085938 90.574219 189.78125 98.921875 L 145.25 138.859375 C 135.945312 147.207031 138.699219 158.832031 150.761719 162.113281 L 196.6875 174.597656 C 208.75 177.878906 219.253906 168.753906 217.699219 156.351562 \"/>\n",
       "<path style=\"fill-rule:nonzero;fill:rgb(0%,100%,0%);fill-opacity:0.25;stroke-width:2;stroke-linecap:butt;stroke-linejoin:miter;stroke:rgb(0%,100%,0%);stroke-opacity:1;stroke-miterlimit:10;\" d=\"M 150.003906 267.089844 L 124.851562 166.660156 C 121.8125 154.535156 113.117188 153.554688 107.460938 164.699219 L 104.507812 170.515625 C 98.851562 181.664062 99.917969 203.347656 106.644531 213.882812 L 142.628906 270.269531 C 149.355469 280.804688 153.042969 279.214844 150.003906 267.089844 \"/>\n",
       "<path style=\"fill-rule:nonzero;fill:rgb(0%,0%,100%);fill-opacity:0.25;stroke-width:2;stroke-linecap:butt;stroke-linejoin:miter;stroke:rgb(0%,0%,100%);stroke-opacity:1;stroke-miterlimit:10;\" d=\"M 73.84375 280.253906 L 88.207031 215.226562 C 90.902344 203.019531 84 198.828125 74.40625 206.835938 L 27.570312 245.941406 C 17.972656 253.953125 18.566406 269.207031 28.753906 276.449219 L 48.078125 290.183594 C 58.265625 297.425781 71.148438 292.460938 73.84375 280.253906 \"/>\n",
       "<path style=\"fill-rule:nonzero;fill:rgb(100%,100%,0%);fill-opacity:0.25;stroke-width:2;stroke-linecap:butt;stroke-linejoin:miter;stroke:rgb(100%,100%,0%);stroke-opacity:1;stroke-miterlimit:10;\" d=\"M 64.152344 93.21875 L 57.375 91.210938 C 45.390625 87.660156 25.277344 93.609375 17.148438 103.105469 L 11.984375 109.140625 C 3.855469 118.636719 0.824219 139.546875 5.921875 150.960938 L 10.613281 161.46875 C 15.710938 172.882812 32.707031 188.117188 44.613281 191.933594 L 52.265625 194.390625 C 64.167969 198.207031 84.351562 192.660156 92.628906 183.296875 L 99.050781 176.03125 C 107.332031 166.667969 110.179688 146.042969 104.75 134.785156 L 98.984375 122.839844 C 93.554688 111.582031 76.136719 96.769531 64.152344 93.21875 \"/>\n",
       "<path style=\"fill-rule:nonzero;fill:rgb(100%,0%,100%);fill-opacity:0.25;stroke-width:2;stroke-linecap:butt;stroke-linejoin:miter;stroke:rgb(100%,0%,100%);stroke-opacity:1;stroke-miterlimit:10;\" d=\"M 271.832031 2.976562 L 267.179688 1.722656 C 255.109375 -1.53125 233.867188 3.714844 224.695312 12.207031 L 217.238281 19.113281 C 208.066406 27.605469 200.046875 48.546875 201.199219 60.996094 L 202.398438 73.992188 C 203.550781 86.4375 216.890625 101.648438 229.082031 104.410156 L 234.605469 105.664062 C 246.796875 108.425781 268.335938 102.890625 277.683594 94.59375 L 285 88.097656 C 294.351562 79.800781 302.152344 59.101562 300.609375 46.695312 L 299.0625 34.285156 C 297.519531 21.878906 283.902344 6.226562 271.832031 2.976562 \"/>\n",
       "<path style=\"fill:none;stroke-width:1;stroke-linecap:butt;stroke-linejoin:miter;stroke:rgb(20%,20%,20%);stroke-opacity:1;stroke-miterlimit:10;\" d=\"M 181.144531 135.851562 L 204.613281 162.117188 \"/>\n",
       "<path style=\"fill:none;stroke-width:1;stroke-linecap:butt;stroke-linejoin:miter;stroke:rgb(20%,20%,20%);stroke-opacity:1;stroke-miterlimit:10;\" d=\"M 114.695312 205.5625 L 133.121094 236.320312 \"/>\n",
       "<path style=\"fill:none;stroke-width:1;stroke-linecap:butt;stroke-linejoin:miter;stroke:rgb(20%,20%,20%);stroke-opacity:1;stroke-miterlimit:10;\" d=\"M 133.121094 236.320312 L 147.625 267.8125 \"/>\n",
       "<path style=\"fill:none;stroke-width:1;stroke-linecap:butt;stroke-linejoin:miter;stroke:rgb(20%,20%,20%);stroke-opacity:1;stroke-miterlimit:10;\" d=\"M 114.695312 205.5625 L 122.03125 167.195312 \"/>\n",
       "<path style=\"fill:none;stroke-width:1;stroke-linecap:butt;stroke-linejoin:miter;stroke:rgb(20%,20%,20%);stroke-opacity:1;stroke-miterlimit:10;\" d=\"M 181.144531 135.851562 L 150.640625 148.558594 \"/>\n",
       "<path style=\"fill:none;stroke-width:1;stroke-linecap:butt;stroke-linejoin:miter;stroke:rgb(80%,80%,80%);stroke-opacity:1;stroke-miterlimit:10;\" d=\"M 122.03125 167.195312 L 150.640625 148.558594 \"/>\n",
       "<path style=\"fill:none;stroke-width:1;stroke-linecap:butt;stroke-linejoin:miter;stroke:rgb(20%,20%,20%);stroke-opacity:1;stroke-miterlimit:10;\" d=\"M 62.722656 243.972656 L 32.660156 256.015625 \"/>\n",
       "<path style=\"fill:none;stroke-width:1;stroke-linecap:butt;stroke-linejoin:miter;stroke:rgb(80%,80%,80%);stroke-opacity:1;stroke-miterlimit:10;\" d=\"M 114.695312 205.5625 L 80.988281 212.402344 \"/>\n",
       "<path style=\"fill:none;stroke-width:1;stroke-linecap:butt;stroke-linejoin:miter;stroke:rgb(20%,20%,20%);stroke-opacity:1;stroke-miterlimit:10;\" d=\"M 62.722656 243.972656 L 80.988281 212.402344 \"/>\n",
       "<path style=\"fill:none;stroke-width:1;stroke-linecap:butt;stroke-linejoin:miter;stroke:rgb(80%,80%,80%);stroke-opacity:1;stroke-miterlimit:10;\" d=\"M 80.988281 212.402344 L 67.730469 178.457031 \"/>\n",
       "<path style=\"fill:none;stroke-width:1;stroke-linecap:butt;stroke-linejoin:miter;stroke:rgb(20%,20%,20%);stroke-opacity:1;stroke-miterlimit:10;\" d=\"M 181.144531 135.851562 L 198.695312 105.269531 \"/>\n",
       "<path style=\"fill:none;stroke-width:1;stroke-linecap:butt;stroke-linejoin:miter;stroke:rgb(80%,80%,80%);stroke-opacity:1;stroke-miterlimit:10;\" d=\"M 198.695312 105.269531 L 222.574219 81.40625 \"/>\n",
       "<path style=\"fill:none;stroke-width:1;stroke-linecap:butt;stroke-linejoin:miter;stroke:rgb(80%,80%,80%);stroke-opacity:1;stroke-miterlimit:10;\" d=\"M 122.03125 167.195312 L 91.300781 151.46875 \"/>\n",
       "<path style=\"fill:none;stroke-width:1;stroke-linecap:butt;stroke-linejoin:miter;stroke:rgb(20%,20%,20%);stroke-opacity:1;stroke-miterlimit:10;\" d=\"M 67.730469 178.457031 L 91.300781 151.46875 \"/>\n",
       "<path style=\"fill:none;stroke-width:1;stroke-linecap:butt;stroke-linejoin:miter;stroke:rgb(20%,20%,20%);stroke-opacity:1;stroke-miterlimit:10;\" d=\"M 91.300781 151.46875 L 72.777344 120.054688 \"/>\n",
       "<path style=\"fill:none;stroke-width:1;stroke-linecap:butt;stroke-linejoin:miter;stroke:rgb(20%,20%,20%);stroke-opacity:1;stroke-miterlimit:10;\" d=\"M 67.730469 178.457031 L 36.726562 165.023438 \"/>\n",
       "<path style=\"fill:none;stroke-width:1;stroke-linecap:butt;stroke-linejoin:miter;stroke:rgb(20%,20%,20%);stroke-opacity:1;stroke-miterlimit:10;\" d=\"M 72.777344 120.054688 L 42.078125 107.558594 \"/>\n",
       "<path style=\"fill:none;stroke-width:1;stroke-linecap:butt;stroke-linejoin:miter;stroke:rgb(20%,20%,20%);stroke-opacity:1;stroke-miterlimit:10;\" d=\"M 36.726562 165.023438 L 20 134.121094 \"/>\n",
       "<path style=\"fill:none;stroke-width:1;stroke-linecap:butt;stroke-linejoin:miter;stroke:rgb(20%,20%,20%);stroke-opacity:1;stroke-miterlimit:10;\" d=\"M 42.078125 107.558594 L 20 134.121094 \"/>\n",
       "<path style=\"fill:none;stroke-width:1;stroke-linecap:butt;stroke-linejoin:miter;stroke:rgb(20%,20%,20%);stroke-opacity:1;stroke-miterlimit:10;\" d=\"M 62.722656 243.972656 L 64.382812 280 \"/>\n",
       "<path style=\"fill:none;stroke-width:1;stroke-linecap:butt;stroke-linejoin:miter;stroke:rgb(20%,20%,20%);stroke-opacity:1;stroke-miterlimit:10;\" d=\"M 222.574219 81.40625 L 222.566406 44.144531 \"/>\n",
       "<path style=\"fill:none;stroke-width:1;stroke-linecap:butt;stroke-linejoin:miter;stroke:rgb(20%,20%,20%);stroke-opacity:1;stroke-miterlimit:10;\" d=\"M 222.574219 81.40625 L 255.480469 86.4375 \"/>\n",
       "<path style=\"fill:none;stroke-width:1;stroke-linecap:butt;stroke-linejoin:miter;stroke:rgb(20%,20%,20%);stroke-opacity:1;stroke-miterlimit:10;\" d=\"M 222.566406 44.144531 L 246.34375 20 \"/>\n",
       "<path style=\"fill:none;stroke-width:1;stroke-linecap:butt;stroke-linejoin:miter;stroke:rgb(20%,20%,20%);stroke-opacity:1;stroke-miterlimit:10;\" d=\"M 255.480469 86.4375 L 280 63.542969 \"/>\n",
       "<path style=\"fill:none;stroke-width:1;stroke-linecap:butt;stroke-linejoin:miter;stroke:rgb(20%,20%,20%);stroke-opacity:1;stroke-miterlimit:10;\" d=\"M 246.34375 20 L 278.128906 26.984375 \"/>\n",
       "<path style=\"fill:none;stroke-width:1;stroke-linecap:butt;stroke-linejoin:miter;stroke:rgb(20%,20%,20%);stroke-opacity:1;stroke-miterlimit:10;\" d=\"M 280 63.542969 L 278.128906 26.984375 \"/>\n",
       "<path style=\"fill-rule:nonzero;fill:rgb(100%,0%,0%);fill-opacity:1;stroke-width:1;stroke-linecap:butt;stroke-linejoin:miter;stroke:rgb(0%,0%,0%);stroke-opacity:1;stroke-miterlimit:10;\" d=\"M 191.144531 135.851562 C 191.144531 141.375 186.664062 145.851562 181.144531 145.851562 C 175.621094 145.851562 171.144531 141.375 171.144531 135.851562 C 171.144531 130.328125 175.621094 125.851562 181.144531 125.851562 C 186.664062 125.851562 191.144531 130.328125 191.144531 135.851562 \"/>\n",
       "<path style=\"fill-rule:nonzero;fill:rgb(100%,0%,0%);fill-opacity:1;stroke-width:1;stroke-linecap:butt;stroke-linejoin:miter;stroke:rgb(0%,0%,0%);stroke-opacity:1;stroke-miterlimit:10;\" d=\"M 214.613281 162.117188 C 214.613281 167.636719 210.136719 172.117188 204.613281 172.117188 C 199.089844 172.117188 194.613281 167.636719 194.613281 162.117188 C 194.613281 156.59375 199.089844 152.117188 204.613281 152.117188 C 210.136719 152.117188 214.613281 156.59375 214.613281 162.117188 \"/>\n",
       "<path style=\"fill-rule:nonzero;fill:rgb(0%,100%,0%);fill-opacity:1;stroke-width:1;stroke-linecap:butt;stroke-linejoin:miter;stroke:rgb(0%,0%,0%);stroke-opacity:1;stroke-miterlimit:10;\" d=\"M 124.695312 205.5625 C 124.695312 211.085938 120.21875 215.5625 114.695312 215.5625 C 109.171875 215.5625 104.695312 211.085938 104.695312 205.5625 C 104.695312 200.039062 109.171875 195.5625 114.695312 195.5625 C 120.21875 195.5625 124.695312 200.039062 124.695312 205.5625 \"/>\n",
       "<path style=\"fill-rule:nonzero;fill:rgb(0%,100%,0%);fill-opacity:1;stroke-width:1;stroke-linecap:butt;stroke-linejoin:miter;stroke:rgb(0%,0%,0%);stroke-opacity:1;stroke-miterlimit:10;\" d=\"M 143.121094 236.320312 C 143.121094 241.839844 138.644531 246.320312 133.121094 246.320312 C 127.597656 246.320312 123.121094 241.839844 123.121094 236.320312 C 123.121094 230.796875 127.597656 226.320312 133.121094 226.320312 C 138.644531 226.320312 143.121094 230.796875 143.121094 236.320312 \"/>\n",
       "<path style=\"fill-rule:nonzero;fill:rgb(0%,100%,0%);fill-opacity:1;stroke-width:1;stroke-linecap:butt;stroke-linejoin:miter;stroke:rgb(0%,0%,0%);stroke-opacity:1;stroke-miterlimit:10;\" d=\"M 157.625 267.8125 C 157.625 273.335938 153.148438 277.8125 147.625 277.8125 C 142.101562 277.8125 137.625 273.335938 137.625 267.8125 C 137.625 262.292969 142.101562 257.8125 147.625 257.8125 C 153.148438 257.8125 157.625 262.292969 157.625 267.8125 \"/>\n",
       "<path style=\"fill-rule:nonzero;fill:rgb(0%,100%,0%);fill-opacity:1;stroke-width:1;stroke-linecap:butt;stroke-linejoin:miter;stroke:rgb(0%,0%,0%);stroke-opacity:1;stroke-miterlimit:10;\" d=\"M 132.03125 167.195312 C 132.03125 172.71875 127.554688 177.195312 122.03125 177.195312 C 116.507812 177.195312 112.03125 172.71875 112.03125 167.195312 C 112.03125 161.671875 116.507812 157.195312 122.03125 157.195312 C 127.554688 157.195312 132.03125 161.671875 132.03125 167.195312 \"/>\n",
       "<path style=\"fill-rule:nonzero;fill:rgb(100%,0%,0%);fill-opacity:1;stroke-width:1;stroke-linecap:butt;stroke-linejoin:miter;stroke:rgb(0%,0%,0%);stroke-opacity:1;stroke-miterlimit:10;\" d=\"M 160.640625 148.558594 C 160.640625 154.082031 156.164062 158.558594 150.640625 158.558594 C 145.117188 158.558594 140.640625 154.082031 140.640625 148.558594 C 140.640625 143.035156 145.117188 138.558594 150.640625 138.558594 C 156.164062 138.558594 160.640625 143.035156 160.640625 148.558594 \"/>\n",
       "<path style=\"fill-rule:nonzero;fill:rgb(0%,0%,100%);fill-opacity:1;stroke-width:1;stroke-linecap:butt;stroke-linejoin:miter;stroke:rgb(0%,0%,0%);stroke-opacity:1;stroke-miterlimit:10;\" d=\"M 72.722656 243.972656 C 72.722656 249.496094 68.246094 253.972656 62.722656 253.972656 C 57.199219 253.972656 52.722656 249.496094 52.722656 243.972656 C 52.722656 238.449219 57.199219 233.972656 62.722656 233.972656 C 68.246094 233.972656 72.722656 238.449219 72.722656 243.972656 \"/>\n",
       "<path style=\"fill-rule:nonzero;fill:rgb(0%,0%,100%);fill-opacity:1;stroke-width:1;stroke-linecap:butt;stroke-linejoin:miter;stroke:rgb(0%,0%,0%);stroke-opacity:1;stroke-miterlimit:10;\" d=\"M 42.660156 256.015625 C 42.660156 261.535156 38.183594 266.015625 32.660156 266.015625 C 27.136719 266.015625 22.660156 261.535156 22.660156 256.015625 C 22.660156 250.492188 27.136719 246.015625 32.660156 246.015625 C 38.183594 246.015625 42.660156 250.492188 42.660156 256.015625 \"/>\n",
       "<path style=\"fill-rule:nonzero;fill:rgb(0%,0%,100%);fill-opacity:1;stroke-width:1;stroke-linecap:butt;stroke-linejoin:miter;stroke:rgb(0%,0%,0%);stroke-opacity:1;stroke-miterlimit:10;\" d=\"M 90.988281 212.402344 C 90.988281 217.925781 86.511719 222.402344 80.988281 222.402344 C 75.46875 222.402344 70.988281 217.925781 70.988281 212.402344 C 70.988281 206.882812 75.46875 202.402344 80.988281 202.402344 C 86.511719 202.402344 90.988281 206.882812 90.988281 212.402344 \"/>\n",
       "<path style=\"fill-rule:nonzero;fill:rgb(100%,100%,0%);fill-opacity:1;stroke-width:1;stroke-linecap:butt;stroke-linejoin:miter;stroke:rgb(0%,0%,0%);stroke-opacity:1;stroke-miterlimit:10;\" d=\"M 77.730469 178.457031 C 77.730469 183.980469 73.253906 188.457031 67.730469 188.457031 C 62.207031 188.457031 57.730469 183.980469 57.730469 178.457031 C 57.730469 172.933594 62.207031 168.457031 67.730469 168.457031 C 73.253906 168.457031 77.730469 172.933594 77.730469 178.457031 \"/>\n",
       "<path style=\"fill-rule:nonzero;fill:rgb(100%,0%,0%);fill-opacity:1;stroke-width:1;stroke-linecap:butt;stroke-linejoin:miter;stroke:rgb(0%,0%,0%);stroke-opacity:1;stroke-miterlimit:10;\" d=\"M 208.695312 105.269531 C 208.695312 110.792969 204.21875 115.269531 198.695312 115.269531 C 193.171875 115.269531 188.695312 110.792969 188.695312 105.269531 C 188.695312 99.746094 193.171875 95.269531 198.695312 95.269531 C 204.21875 95.269531 208.695312 99.746094 208.695312 105.269531 \"/>\n",
       "<path style=\"fill-rule:nonzero;fill:rgb(100%,0%,100%);fill-opacity:1;stroke-width:1;stroke-linecap:butt;stroke-linejoin:miter;stroke:rgb(0%,0%,0%);stroke-opacity:1;stroke-miterlimit:10;\" d=\"M 232.574219 81.40625 C 232.574219 86.925781 228.097656 91.40625 222.574219 91.40625 C 217.050781 91.40625 212.574219 86.925781 212.574219 81.40625 C 212.574219 75.882812 217.050781 71.40625 222.574219 71.40625 C 228.097656 71.40625 232.574219 75.882812 232.574219 81.40625 \"/>\n",
       "<path style=\"fill-rule:nonzero;fill:rgb(100%,100%,0%);fill-opacity:1;stroke-width:1;stroke-linecap:butt;stroke-linejoin:miter;stroke:rgb(0%,0%,0%);stroke-opacity:1;stroke-miterlimit:10;\" d=\"M 101.300781 151.46875 C 101.300781 156.992188 96.824219 161.46875 91.300781 161.46875 C 85.777344 161.46875 81.300781 156.992188 81.300781 151.46875 C 81.300781 145.945312 85.777344 141.46875 91.300781 141.46875 C 96.824219 141.46875 101.300781 145.945312 101.300781 151.46875 \"/>\n",
       "<path style=\"fill-rule:nonzero;fill:rgb(100%,100%,0%);fill-opacity:1;stroke-width:1;stroke-linecap:butt;stroke-linejoin:miter;stroke:rgb(0%,0%,0%);stroke-opacity:1;stroke-miterlimit:10;\" d=\"M 82.777344 120.054688 C 82.777344 125.578125 78.296875 130.054688 72.777344 130.054688 C 67.253906 130.054688 62.777344 125.578125 62.777344 120.054688 C 62.777344 114.535156 67.253906 110.054688 72.777344 110.054688 C 78.296875 110.054688 82.777344 114.535156 82.777344 120.054688 \"/>\n",
       "<path style=\"fill-rule:nonzero;fill:rgb(100%,100%,0%);fill-opacity:1;stroke-width:1;stroke-linecap:butt;stroke-linejoin:miter;stroke:rgb(0%,0%,0%);stroke-opacity:1;stroke-miterlimit:10;\" d=\"M 46.726562 165.023438 C 46.726562 170.546875 42.25 175.023438 36.726562 175.023438 C 31.207031 175.023438 26.726562 170.546875 26.726562 165.023438 C 26.726562 159.5 31.207031 155.023438 36.726562 155.023438 C 42.25 155.023438 46.726562 159.5 46.726562 165.023438 \"/>\n",
       "<path style=\"fill-rule:nonzero;fill:rgb(100%,100%,0%);fill-opacity:1;stroke-width:1;stroke-linecap:butt;stroke-linejoin:miter;stroke:rgb(0%,0%,0%);stroke-opacity:1;stroke-miterlimit:10;\" d=\"M 52.078125 107.558594 C 52.078125 113.082031 47.601562 117.558594 42.078125 117.558594 C 36.554688 117.558594 32.078125 113.082031 32.078125 107.558594 C 32.078125 102.035156 36.554688 97.558594 42.078125 97.558594 C 47.601562 97.558594 52.078125 102.035156 52.078125 107.558594 \"/>\n",
       "<path style=\"fill-rule:nonzero;fill:rgb(100%,100%,0%);fill-opacity:1;stroke-width:1;stroke-linecap:butt;stroke-linejoin:miter;stroke:rgb(0%,0%,0%);stroke-opacity:1;stroke-miterlimit:10;\" d=\"M 30 134.121094 C 30 139.644531 25.523438 144.121094 20 144.121094 C 14.476562 144.121094 10 139.644531 10 134.121094 C 10 128.597656 14.476562 124.121094 20 124.121094 C 25.523438 124.121094 30 128.597656 30 134.121094 \"/>\n",
       "<path style=\"fill-rule:nonzero;fill:rgb(0%,0%,100%);fill-opacity:1;stroke-width:1;stroke-linecap:butt;stroke-linejoin:miter;stroke:rgb(0%,0%,0%);stroke-opacity:1;stroke-miterlimit:10;\" d=\"M 74.382812 280 C 74.382812 285.523438 69.90625 290 64.382812 290 C 58.859375 290 54.382812 285.523438 54.382812 280 C 54.382812 274.476562 58.859375 270 64.382812 270 C 69.90625 270 74.382812 274.476562 74.382812 280 \"/>\n",
       "<path style=\"fill-rule:nonzero;fill:rgb(100%,0%,100%);fill-opacity:1;stroke-width:1;stroke-linecap:butt;stroke-linejoin:miter;stroke:rgb(0%,0%,0%);stroke-opacity:1;stroke-miterlimit:10;\" d=\"M 232.566406 44.144531 C 232.566406 49.667969 228.089844 54.144531 222.566406 54.144531 C 217.042969 54.144531 212.566406 49.667969 212.566406 44.144531 C 212.566406 38.621094 217.042969 34.144531 222.566406 34.144531 C 228.089844 34.144531 232.566406 38.621094 232.566406 44.144531 \"/>\n",
       "<path style=\"fill-rule:nonzero;fill:rgb(100%,0%,100%);fill-opacity:1;stroke-width:1;stroke-linecap:butt;stroke-linejoin:miter;stroke:rgb(0%,0%,0%);stroke-opacity:1;stroke-miterlimit:10;\" d=\"M 265.480469 86.4375 C 265.480469 91.960938 261.003906 96.4375 255.480469 96.4375 C 249.957031 96.4375 245.480469 91.960938 245.480469 86.4375 C 245.480469 80.914062 249.957031 76.4375 255.480469 76.4375 C 261.003906 76.4375 265.480469 80.914062 265.480469 86.4375 \"/>\n",
       "<path style=\"fill-rule:nonzero;fill:rgb(100%,0%,100%);fill-opacity:1;stroke-width:1;stroke-linecap:butt;stroke-linejoin:miter;stroke:rgb(0%,0%,0%);stroke-opacity:1;stroke-miterlimit:10;\" d=\"M 256.34375 20 C 256.34375 25.523438 251.867188 30 246.34375 30 C 240.824219 30 236.34375 25.523438 236.34375 20 C 236.34375 14.476562 240.824219 10 246.34375 10 C 251.867188 10 256.34375 14.476562 256.34375 20 \"/>\n",
       "<path style=\"fill-rule:nonzero;fill:rgb(100%,0%,100%);fill-opacity:1;stroke-width:1;stroke-linecap:butt;stroke-linejoin:miter;stroke:rgb(0%,0%,0%);stroke-opacity:1;stroke-miterlimit:10;\" d=\"M 290 63.542969 C 290 69.066406 285.523438 73.542969 280 73.542969 C 274.476562 73.542969 270 69.066406 270 63.542969 C 270 58.019531 274.476562 53.542969 280 53.542969 C 285.523438 53.542969 290 58.019531 290 63.542969 \"/>\n",
       "<path style=\"fill-rule:nonzero;fill:rgb(100%,0%,100%);fill-opacity:1;stroke-width:1;stroke-linecap:butt;stroke-linejoin:miter;stroke:rgb(0%,0%,0%);stroke-opacity:1;stroke-miterlimit:10;\" d=\"M 288.128906 26.984375 C 288.128906 32.507812 283.652344 36.984375 278.128906 36.984375 C 272.605469 36.984375 268.128906 32.507812 268.128906 26.984375 C 268.128906 21.460938 272.605469 16.984375 278.128906 16.984375 C 283.652344 16.984375 288.128906 21.460938 288.128906 26.984375 \"/>\n",
       "<g style=\"fill:rgb(0%,0%,0%);fill-opacity:1;\">\n",
       "  <use xlink:href=\"#glyph0-1\" x=\"176.714844\" y=\"142.699219\"/>\n",
       "</g>\n",
       "<g style=\"fill:rgb(0%,0%,0%);fill-opacity:1;\">\n",
       "  <use xlink:href=\"#glyph0-2\" x=\"200.210938\" y=\"168.871094\"/>\n",
       "</g>\n",
       "<g style=\"fill:rgb(0%,0%,0%);fill-opacity:1;\">\n",
       "  <use xlink:href=\"#glyph0-1\" x=\"110.269531\" y=\"212.410156\"/>\n",
       "</g>\n",
       "<g style=\"fill:rgb(0%,0%,0%);fill-opacity:1;\">\n",
       "  <use xlink:href=\"#glyph0-3\" x=\"128.546875\" y=\"243.074219\"/>\n",
       "</g>\n",
       "<g style=\"fill:rgb(0%,0%,0%);fill-opacity:1;\">\n",
       "  <use xlink:href=\"#glyph0-1\" x=\"143.199219\" y=\"274.660156\"/>\n",
       "</g>\n",
       "<g style=\"fill:rgb(0%,0%,0%);fill-opacity:1;\">\n",
       "  <use xlink:href=\"#glyph0-1\" x=\"117.605469\" y=\"174.042969\"/>\n",
       "</g>\n",
       "<g style=\"fill:rgb(0%,0%,0%);fill-opacity:1;\">\n",
       "  <use xlink:href=\"#glyph0-3\" x=\"146.0625\" y=\"155.3125\"/>\n",
       "</g>\n",
       "<g style=\"fill:rgb(0%,0%,0%);fill-opacity:1;\">\n",
       "  <use xlink:href=\"#glyph0-1\" x=\"58.296875\" y=\"250.820312\"/>\n",
       "</g>\n",
       "<g style=\"fill:rgb(0%,0%,0%);fill-opacity:1;\">\n",
       "  <use xlink:href=\"#glyph0-3\" x=\"28.082031\" y=\"262.769531\"/>\n",
       "</g>\n",
       "<g style=\"fill:rgb(0%,0%,0%);fill-opacity:1;\">\n",
       "  <use xlink:href=\"#glyph0-4\" x=\"76.722656\" y=\"219.25\"/>\n",
       "</g>\n",
       "<g style=\"fill:rgb(0%,0%,0%);fill-opacity:1;\">\n",
       "  <use xlink:href=\"#glyph0-1\" x=\"63.304688\" y=\"185.304688\"/>\n",
       "</g>\n",
       "<g style=\"fill:rgb(0%,0%,0%);fill-opacity:1;\">\n",
       "  <use xlink:href=\"#glyph0-4\" x=\"194.429688\" y=\"112.117188\"/>\n",
       "</g>\n",
       "<g style=\"fill:rgb(0%,0%,0%);fill-opacity:1;\">\n",
       "  <use xlink:href=\"#glyph0-1\" x=\"218.148438\" y=\"88.25\"/>\n",
       "</g>\n",
       "<g style=\"fill:rgb(0%,0%,0%);fill-opacity:1;\">\n",
       "  <use xlink:href=\"#glyph0-1\" x=\"86.875\" y=\"158.316406\"/>\n",
       "</g>\n",
       "<g style=\"fill:rgb(0%,0%,0%);fill-opacity:1;\">\n",
       "  <use xlink:href=\"#glyph0-1\" x=\"68.347656\" y=\"126.902344\"/>\n",
       "</g>\n",
       "<g style=\"fill:rgb(0%,0%,0%);fill-opacity:1;\">\n",
       "  <use xlink:href=\"#glyph0-1\" x=\"32.300781\" y=\"171.871094\"/>\n",
       "</g>\n",
       "<g style=\"fill:rgb(0%,0%,0%);fill-opacity:1;\">\n",
       "  <use xlink:href=\"#glyph0-1\" x=\"37.652344\" y=\"114.40625\"/>\n",
       "</g>\n",
       "<g style=\"fill:rgb(0%,0%,0%);fill-opacity:1;\">\n",
       "  <use xlink:href=\"#glyph0-1\" x=\"15.574219\" y=\"140.964844\"/>\n",
       "</g>\n",
       "<g style=\"fill:rgb(0%,0%,0%);fill-opacity:1;\">\n",
       "  <use xlink:href=\"#glyph0-1\" x=\"59.957031\" y=\"286.847656\"/>\n",
       "</g>\n",
       "<g style=\"fill:rgb(0%,0%,0%);fill-opacity:1;\">\n",
       "  <use xlink:href=\"#glyph0-1\" x=\"218.140625\" y=\"50.988281\"/>\n",
       "</g>\n",
       "<g style=\"fill:rgb(0%,0%,0%);fill-opacity:1;\">\n",
       "  <use xlink:href=\"#glyph0-1\" x=\"251.054688\" y=\"93.285156\"/>\n",
       "</g>\n",
       "<g style=\"fill:rgb(0%,0%,0%);fill-opacity:1;\">\n",
       "  <use xlink:href=\"#glyph0-1\" x=\"241.917969\" y=\"26.847656\"/>\n",
       "</g>\n",
       "<g style=\"fill:rgb(0%,0%,0%);fill-opacity:1;\">\n",
       "  <use xlink:href=\"#glyph0-1\" x=\"275.574219\" y=\"70.390625\"/>\n",
       "</g>\n",
       "<g style=\"fill:rgb(0%,0%,0%);fill-opacity:1;\">\n",
       "  <use xlink:href=\"#glyph0-1\" x=\"273.703125\" y=\"33.832031\"/>\n",
       "</g>\n",
       "</g>\n",
       "</svg>\n"
      ],
      "text/plain": [
       "<igraph.drawing.cairo.plot.CairoPlot at 0x7f425bec1a80>"
      ]
     },
     "execution_count": 64,
     "metadata": {
      "image/svg+xml": {
       "isolated": true
      }
     },
     "output_type": "execute_result"
    }
   ],
   "source": [
    "igraph.plot(clusterings[1], mark_groups=True, bbox=(300,300))"
   ]
  },
  {
   "cell_type": "markdown",
   "id": "9b2a31e5-6549-4ee7-a5be-7d423edc80d4",
   "metadata": {},
   "source": [
    "## Graph sparsification as a decomposition."
   ]
  },
  {
   "cell_type": "code",
   "execution_count": 62,
   "id": "a0ca7c0b-2f9e-4d27-89ac-eb4808257f38",
   "metadata": {},
   "outputs": [
    {
     "data": {
      "image/svg+xml": [
       "<?xml version=\"1.0\" encoding=\"UTF-8\"?>\n",
       "<svg xmlns=\"http://www.w3.org/2000/svg\" xmlns:xlink=\"http://www.w3.org/1999/xlink\" width=\"300pt\" height=\"300pt\" viewBox=\"0 0 300 300\" version=\"1.1\">\n",
       "<defs>\n",
       "<g>\n",
       "<symbol overflow=\"visible\" id=\"glyph0-0\">\n",
       "<path style=\"stroke:none;\" d=\"M 0.40625 1.421875 L 0.40625 -5.640625 L 4.40625 -5.640625 L 4.40625 1.421875 Z M 0.84375 0.96875 L 3.953125 0.96875 L 3.953125 -5.1875 L 0.84375 -5.1875 Z M 0.84375 0.96875 \"/>\n",
       "</symbol>\n",
       "<symbol overflow=\"visible\" id=\"glyph0-1\">\n",
       "<path style=\"stroke:none;\" d=\"M 3.03125 -5.140625 L 1.03125 -2.03125 L 3.03125 -2.03125 Z M 2.8125 -5.828125 L 3.8125 -5.828125 L 3.8125 -2.03125 L 4.640625 -2.03125 L 4.640625 -1.375 L 3.8125 -1.375 L 3.8125 0 L 3.03125 0 L 3.03125 -1.375 L 0.390625 -1.375 L 0.390625 -2.140625 Z M 2.8125 -5.828125 \"/>\n",
       "</symbol>\n",
       "<symbol overflow=\"visible\" id=\"glyph0-2\">\n",
       "<path style=\"stroke:none;\" d=\"M 0.859375 -1 L 1.6875 -1 L 1.6875 0 L 0.859375 0 Z M 0.859375 -1 \"/>\n",
       "</symbol>\n",
       "<symbol overflow=\"visible\" id=\"glyph0-3\">\n",
       "<path style=\"stroke:none;\" d=\"M 2.546875 -5.3125 C 2.140625 -5.3125 1.832031 -5.109375 1.625 -4.703125 C 1.425781 -4.304688 1.328125 -3.707031 1.328125 -2.90625 C 1.328125 -2.113281 1.425781 -1.515625 1.625 -1.109375 C 1.832031 -0.710938 2.140625 -0.515625 2.546875 -0.515625 C 2.953125 -0.515625 3.253906 -0.710938 3.453125 -1.109375 C 3.660156 -1.515625 3.765625 -2.113281 3.765625 -2.90625 C 3.765625 -3.707031 3.660156 -4.304688 3.453125 -4.703125 C 3.253906 -5.109375 2.953125 -5.3125 2.546875 -5.3125 Z M 2.546875 -5.9375 C 3.203125 -5.9375 3.703125 -5.675781 4.046875 -5.15625 C 4.390625 -4.644531 4.5625 -3.894531 4.5625 -2.90625 C 4.5625 -1.925781 4.390625 -1.175781 4.046875 -0.65625 C 3.703125 -0.144531 3.203125 0.109375 2.546875 0.109375 C 1.890625 0.109375 1.390625 -0.144531 1.046875 -0.65625 C 0.703125 -1.175781 0.53125 -1.925781 0.53125 -2.90625 C 0.53125 -3.894531 0.703125 -4.644531 1.046875 -5.15625 C 1.390625 -5.675781 1.890625 -5.9375 2.546875 -5.9375 Z M 2.546875 -5.9375 \"/>\n",
       "</symbol>\n",
       "<symbol overflow=\"visible\" id=\"glyph0-4\">\n",
       "<path style=\"stroke:none;\" d=\"M 1 -0.671875 L 2.28125 -0.671875 L 2.28125 -5.109375 L 0.875 -4.828125 L 0.875 -5.546875 L 2.28125 -5.828125 L 3.0625 -5.828125 L 3.0625 -0.671875 L 4.359375 -0.671875 L 4.359375 0 L 1 0 Z M 1 -0.671875 \"/>\n",
       "</symbol>\n",
       "<symbol overflow=\"visible\" id=\"glyph0-5\">\n",
       "<path style=\"stroke:none;\" d=\"M 1.53125 -0.671875 L 4.296875 -0.671875 L 4.296875 0 L 0.59375 0 L 0.59375 -0.671875 C 0.882812 -0.972656 1.289062 -1.382812 1.8125 -1.90625 C 2.332031 -2.4375 2.65625 -2.773438 2.78125 -2.921875 C 3.039062 -3.203125 3.21875 -3.441406 3.3125 -3.640625 C 3.414062 -3.835938 3.46875 -4.03125 3.46875 -4.21875 C 3.46875 -4.53125 3.359375 -4.785156 3.140625 -4.984375 C 2.921875 -5.179688 2.640625 -5.28125 2.296875 -5.28125 C 2.046875 -5.28125 1.78125 -5.234375 1.5 -5.140625 C 1.226562 -5.054688 0.9375 -4.925781 0.625 -4.75 L 0.625 -5.546875 C 0.945312 -5.679688 1.242188 -5.78125 1.515625 -5.84375 C 1.796875 -5.90625 2.050781 -5.9375 2.28125 -5.9375 C 2.882812 -5.9375 3.363281 -5.785156 3.71875 -5.484375 C 4.082031 -5.179688 4.265625 -4.78125 4.265625 -4.28125 C 4.265625 -4.039062 4.21875 -3.8125 4.125 -3.59375 C 4.03125 -3.375 3.867188 -3.117188 3.640625 -2.828125 C 3.566406 -2.753906 3.351562 -2.535156 3 -2.171875 C 2.65625 -1.816406 2.164062 -1.316406 1.53125 -0.671875 Z M 1.53125 -0.671875 \"/>\n",
       "</symbol>\n",
       "<symbol overflow=\"visible\" id=\"glyph0-6\">\n",
       "<path style=\"stroke:none;\" d=\"M 2.546875 -2.765625 C 2.171875 -2.765625 1.875 -2.664062 1.65625 -2.46875 C 1.445312 -2.269531 1.34375 -1.992188 1.34375 -1.640625 C 1.34375 -1.285156 1.445312 -1.007812 1.65625 -0.8125 C 1.875 -0.613281 2.171875 -0.515625 2.546875 -0.515625 C 2.921875 -0.515625 3.210938 -0.613281 3.421875 -0.8125 C 3.640625 -1.019531 3.75 -1.296875 3.75 -1.640625 C 3.75 -1.992188 3.640625 -2.269531 3.421875 -2.46875 C 3.210938 -2.664062 2.921875 -2.765625 2.546875 -2.765625 Z M 1.75 -3.109375 C 1.414062 -3.191406 1.15625 -3.347656 0.96875 -3.578125 C 0.78125 -3.804688 0.6875 -4.085938 0.6875 -4.421875 C 0.6875 -4.890625 0.847656 -5.257812 1.171875 -5.53125 C 1.503906 -5.800781 1.960938 -5.9375 2.546875 -5.9375 C 3.128906 -5.9375 3.582031 -5.800781 3.90625 -5.53125 C 4.238281 -5.257812 4.40625 -4.890625 4.40625 -4.421875 C 4.40625 -4.085938 4.3125 -3.804688 4.125 -3.578125 C 3.9375 -3.347656 3.675781 -3.191406 3.34375 -3.109375 C 3.71875 -3.015625 4.007812 -2.835938 4.21875 -2.578125 C 4.4375 -2.328125 4.546875 -2.015625 4.546875 -1.640625 C 4.546875 -1.078125 4.375 -0.644531 4.03125 -0.34375 C 3.6875 -0.0390625 3.191406 0.109375 2.546875 0.109375 C 1.898438 0.109375 1.40625 -0.0390625 1.0625 -0.34375 C 0.71875 -0.644531 0.546875 -1.078125 0.546875 -1.640625 C 0.546875 -2.015625 0.648438 -2.328125 0.859375 -2.578125 C 1.078125 -2.835938 1.375 -3.015625 1.75 -3.109375 Z M 1.46875 -4.359375 C 1.46875 -4.054688 1.5625 -3.816406 1.75 -3.640625 C 1.9375 -3.472656 2.203125 -3.390625 2.546875 -3.390625 C 2.878906 -3.390625 3.140625 -3.472656 3.328125 -3.640625 C 3.523438 -3.816406 3.625 -4.054688 3.625 -4.359375 C 3.625 -4.660156 3.523438 -4.894531 3.328125 -5.0625 C 3.140625 -5.226562 2.878906 -5.3125 2.546875 -5.3125 C 2.203125 -5.3125 1.9375 -5.226562 1.75 -5.0625 C 1.5625 -4.894531 1.46875 -4.660156 1.46875 -4.359375 Z M 1.46875 -4.359375 \"/>\n",
       "</symbol>\n",
       "</g>\n",
       "</defs>\n",
       "<g id=\"surface2\">\n",
       "<rect x=\"0\" y=\"0\" width=\"300\" height=\"300\" style=\"fill:rgb(100%,100%,100%);fill-opacity:1;stroke:none;\"/>\n",
       "<path style=\"fill:none;stroke-width:1;stroke-linecap:butt;stroke-linejoin:miter;stroke:rgb(26.666667%,26.666667%,26.666667%);stroke-opacity:1;stroke-miterlimit:10;\" d=\"M 280 20 L 206.078125 127.703125 \"/>\n",
       "<path style=\"fill:none;stroke-width:1;stroke-linecap:butt;stroke-linejoin:miter;stroke:rgb(26.666667%,26.666667%,26.666667%);stroke-opacity:1;stroke-miterlimit:10;\" d=\"M 237.316406 280 L 206.078125 127.703125 \"/>\n",
       "<path style=\"fill:none;stroke-width:1;stroke-linecap:butt;stroke-linejoin:miter;stroke:rgb(26.666667%,26.666667%,26.666667%);stroke-opacity:1;stroke-miterlimit:10;\" d=\"M 20 48.800781 L 110.820312 87.3125 \"/>\n",
       "<path style=\"fill:none;stroke-width:1;stroke-linecap:butt;stroke-linejoin:miter;stroke:rgb(26.666667%,26.666667%,26.666667%);stroke-opacity:1;stroke-miterlimit:10;\" d=\"M 110.820312 87.3125 L 206.078125 127.703125 \"/>\n",
       "<path style=\"fill-rule:nonzero;fill:rgb(100%,0%,0%);fill-opacity:1;stroke-width:1;stroke-linecap:butt;stroke-linejoin:miter;stroke:rgb(0%,0%,0%);stroke-opacity:1;stroke-miterlimit:10;\" d=\"M 286 20 C 286 23.3125 283.3125 26 280 26 C 276.6875 26 274 23.3125 274 20 C 274 16.6875 276.6875 14 280 14 C 283.3125 14 286 16.6875 286 20 \"/>\n",
       "<path style=\"fill-rule:nonzero;fill:rgb(100%,0%,0%);fill-opacity:1;stroke-width:1;stroke-linecap:butt;stroke-linejoin:miter;stroke:rgb(0%,0%,0%);stroke-opacity:1;stroke-miterlimit:10;\" d=\"M 243.316406 280 C 243.316406 283.3125 240.628906 286 237.316406 286 C 234.003906 286 231.316406 283.3125 231.316406 280 C 231.316406 276.6875 234.003906 274 237.316406 274 C 240.628906 274 243.316406 276.6875 243.316406 280 \"/>\n",
       "<path style=\"fill-rule:nonzero;fill:rgb(100%,0%,0%);fill-opacity:1;stroke-width:1;stroke-linecap:butt;stroke-linejoin:miter;stroke:rgb(0%,0%,0%);stroke-opacity:1;stroke-miterlimit:10;\" d=\"M 26 48.800781 C 26 52.113281 23.3125 54.800781 20 54.800781 C 16.6875 54.800781 14 52.113281 14 48.800781 C 14 45.488281 16.6875 42.800781 20 42.800781 C 23.3125 42.800781 26 45.488281 26 48.800781 \"/>\n",
       "<path style=\"fill-rule:nonzero;fill:rgb(100%,0%,0%);fill-opacity:1;stroke-width:1;stroke-linecap:butt;stroke-linejoin:miter;stroke:rgb(0%,0%,0%);stroke-opacity:1;stroke-miterlimit:10;\" d=\"M 116.820312 87.3125 C 116.820312 90.625 114.132812 93.3125 110.820312 93.3125 C 107.507812 93.3125 104.820312 90.625 104.820312 87.3125 C 104.820312 84 107.507812 81.3125 110.820312 81.3125 C 114.132812 81.3125 116.820312 84 116.820312 87.3125 \"/>\n",
       "<path style=\"fill-rule:nonzero;fill:rgb(100%,0%,0%);fill-opacity:1;stroke-width:1;stroke-linecap:butt;stroke-linejoin:miter;stroke:rgb(0%,0%,0%);stroke-opacity:1;stroke-miterlimit:10;\" d=\"M 212.078125 127.703125 C 212.078125 131.019531 209.394531 133.703125 206.078125 133.703125 C 202.765625 133.703125 200.078125 131.019531 200.078125 127.703125 C 200.078125 124.390625 202.765625 121.703125 206.078125 121.703125 C 209.394531 121.703125 212.078125 124.390625 212.078125 127.703125 \"/>\n",
       "<g style=\"fill:rgb(0%,0%,0%);fill-opacity:1;\">\n",
       "  <use xlink:href=\"#glyph0-1\" x=\"273.710938\" y=\"23.914062\"/>\n",
       "  <use xlink:href=\"#glyph0-2\" x=\"278.800781\" y=\"23.914062\"/>\n",
       "  <use xlink:href=\"#glyph0-3\" x=\"281.34375\" y=\"23.914062\"/>\n",
       "</g>\n",
       "<g style=\"fill:rgb(0%,0%,0%);fill-opacity:1;\">\n",
       "  <use xlink:href=\"#glyph0-1\" x=\"231.023438\" y=\"283.914062\"/>\n",
       "  <use xlink:href=\"#glyph0-2\" x=\"236.113281\" y=\"283.914062\"/>\n",
       "  <use xlink:href=\"#glyph0-3\" x=\"238.65625\" y=\"283.914062\"/>\n",
       "</g>\n",
       "<g style=\"fill:rgb(0%,0%,0%);fill-opacity:1;\">\n",
       "  <use xlink:href=\"#glyph0-4\" x=\"10.921875\" y=\"52.714844\"/>\n",
       "  <use xlink:href=\"#glyph0-5\" x=\"16.011719\" y=\"52.714844\"/>\n",
       "  <use xlink:href=\"#glyph0-2\" x=\"21.101562\" y=\"52.714844\"/>\n",
       "  <use xlink:href=\"#glyph0-3\" x=\"23.644531\" y=\"52.714844\"/>\n",
       "</g>\n",
       "<g style=\"fill:rgb(0%,0%,0%);fill-opacity:1;\">\n",
       "  <use xlink:href=\"#glyph0-4\" x=\"101.742188\" y=\"91.222656\"/>\n",
       "  <use xlink:href=\"#glyph0-3\" x=\"106.832031\" y=\"91.222656\"/>\n",
       "  <use xlink:href=\"#glyph0-2\" x=\"111.921875\" y=\"91.222656\"/>\n",
       "  <use xlink:href=\"#glyph0-3\" x=\"114.464844\" y=\"91.222656\"/>\n",
       "</g>\n",
       "<g style=\"fill:rgb(0%,0%,0%);fill-opacity:1;\">\n",
       "  <use xlink:href=\"#glyph0-4\" x=\"197\" y=\"131.617188\"/>\n",
       "  <use xlink:href=\"#glyph0-6\" x=\"202.089844\" y=\"131.617188\"/>\n",
       "  <use xlink:href=\"#glyph0-2\" x=\"207.179688\" y=\"131.617188\"/>\n",
       "  <use xlink:href=\"#glyph0-3\" x=\"209.722656\" y=\"131.617188\"/>\n",
       "</g>\n",
       "</g>\n",
       "</svg>\n"
      ],
      "text/plain": [
       "<igraph.drawing.cairo.plot.CairoPlot at 0x7f425bf47a00>"
      ]
     },
     "execution_count": 62,
     "metadata": {
      "image/svg+xml": {
       "isolated": true
      }
     },
     "output_type": "execute_result"
    }
   ],
   "source": [
    "igraph.plot(clusterings[0].cluster_graph(combine_vertices=\"sum\", combine_edges=\"sum\"), bbox=(300,300), vertex_size=12, vertex_label_size=8)"
   ]
  },
  {
   "cell_type": "code",
   "execution_count": 34,
   "id": "e91f4eb0-7932-4b1e-aab7-6c7b6ab27a4a",
   "metadata": {},
   "outputs": [
    {
     "name": "stdout",
     "output_type": "stream",
     "text": [
      "Help on built-in function contract_vertices:\n",
      "\n",
      "contract_vertices(mapping, combine_attrs=None) method of igraph.Graph instance\n",
      "    Contracts some vertices in the graph, i.e. replaces groups of vertices\n",
      "    with single vertices. Edges are not affected.\n",
      "    \n",
      "    @param mapping: numeric vector which gives the mapping between old and\n",
      "      new vertex IDs. Vertices having the same new vertex ID in this vector\n",
      "      will be remapped into a single new vertex. It is safe to pass the\n",
      "      membership vector of a L{VertexClustering} object here.\n",
      "    @param combine_attrs: specifies how to combine the attributes of\n",
      "      the vertices being collapsed into a single one. If it is C{None},\n",
      "      all the attributes will be lost. If it is a function, the\n",
      "      attributes of the vertices will be collected and passed on to\n",
      "      that function which will return the new attribute value that has to\n",
      "      be assigned to the single collapsed vertex. It can also be one of\n",
      "      the following string constants which define built-in collapsing\n",
      "      functions: C{sum}, C{prod}, C{mean}, C{median}, C{max}, C{min},\n",
      "      C{first}, C{last}, C{random}. You can also specify different\n",
      "      combination functions for different attributes by passing a dict\n",
      "      here which maps attribute names to functions. See\n",
      "      L{simplify()} for more details.\n",
      "    @return: C{None}.\n",
      "    @see: L{simplify()}\n",
      "\n"
     ]
    }
   ],
   "source": [
    "help(graph.contract_vertices)"
   ]
  },
  {
   "cell_type": "code",
   "execution_count": 35,
   "id": "5fe5a695-2dd2-49bb-bb3f-36bff7b4e9c1",
   "metadata": {},
   "outputs": [
    {
     "name": "stdout",
     "output_type": "stream",
     "text": [
      "Help on built-in function simplify:\n",
      "\n",
      "simplify(multiple=True, loops=True, combine_edges=None) method of igraph.Graph instance\n",
      "    Simplifies a graph by removing self-loops and/or multiple edges.\n",
      "    \n",
      "    \n",
      "    For example, suppose you have a graph with an edge attribute named\n",
      "    C{weight}. C{graph.simplify(combine_edges=max)} will take the\n",
      "    maximum of the weights of multiple edges and assign that weight to\n",
      "    the collapsed edge. C{graph.simplify(combine_edges=sum)} will\n",
      "    take the sum of the weights. You can also write\n",
      "    C{graph.simplify(combine_edges=dict(weight=\"sum\"))} or\n",
      "    C{graph.simplify(combine_edges=dict(weight=sum))}, since\n",
      "    C{sum} is recognised both as a Python built-in function and as\n",
      "    a string constant.\n",
      "    \n",
      "    @param multiple: whether to remove multiple edges.\n",
      "    @param loops: whether to remove loops.\n",
      "    @param combine_edges: specifies how to combine the attributes of\n",
      "      multiple edges between the same pair of vertices into a single\n",
      "      attribute. If it is C{None}, only one of the edges will be kept\n",
      "      and all the attributes will be lost. If it is a function, the\n",
      "      attributes of multiple edges will be collected and passed on to\n",
      "      that function which will return the new attribute value that has to\n",
      "      be assigned to the single collapsed edge. It can also be one of\n",
      "      the following string constants:\n",
      "    \n",
      "        - C{\"ignore\"}: all the edge attributes will be ignored.\n",
      "    \n",
      "        - C{\"sum\"}: the sum of the edge attribute values will be used for\n",
      "          the new edge.\n",
      "    \n",
      "        - C{\"product\"}: the product of the edge attribute values will be used for\n",
      "          the new edge.\n",
      "        - C{\"mean\"}: the mean of the edge attribute values will be used for\n",
      "          the new edge.\n",
      "    \n",
      "        - C{\"median\"}: the median of the edge attribute values will be used for\n",
      "          the new edge.\n",
      "    \n",
      "        - C{\"min\"}: the minimum of the edge attribute values will be used for\n",
      "          the new edge.\n",
      "    \n",
      "        - C{\"max\"}: the maximum of the edge attribute values will be used for\n",
      "          the new edge.\n",
      "    \n",
      "        - C{\"first\"}: the attribute value of the first edge in the collapsed set\n",
      "          will be used for the new edge.\n",
      "    \n",
      "        - C{\"last\"}: the attribute value of the last edge in the collapsed set\n",
      "          will be used for the new edge.\n",
      "    \n",
      "        - C{\"random\"}: a randomly selected value will be used for the new edge\n",
      "    \n",
      "        - C{\"concat\"}: the attribute values will be concatenated for the new\n",
      "          edge.\n",
      "    \n",
      "      You can also use a dict mapping edge attribute names to functions or\n",
      "      the above string constants if you want to make the behaviour of the\n",
      "      simplification process depend on the name of the attribute.\n",
      "      C{None} is a special key in this dict, its value will be used for all\n",
      "      the attributes not specified explicitly in the dictionary.\n",
      "\n"
     ]
    }
   ],
   "source": [
    "help(graph.simplify)"
   ]
  }
 ],
 "metadata": {
  "kernelspec": {
   "display_name": "Python 3 (ipykernel)",
   "language": "python",
   "name": "python3"
  },
  "language_info": {
   "codemirror_mode": {
    "name": "ipython",
    "version": 3
   },
   "file_extension": ".py",
   "mimetype": "text/x-python",
   "name": "python",
   "nbconvert_exporter": "python",
   "pygments_lexer": "ipython3",
   "version": "3.10.12"
  }
 },
 "nbformat": 4,
 "nbformat_minor": 5
}
