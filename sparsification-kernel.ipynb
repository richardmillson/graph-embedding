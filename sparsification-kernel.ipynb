{
 "cells": [
  {
   "cell_type": "markdown",
   "id": "0962ae1f-9296-4550-ae57-39ad9edb862b",
   "metadata": {
    "tags": []
   },
   "source": [
    "# Sparsification Kernel"
   ]
  },
  {
   "cell_type": "markdown",
   "id": "f297ffd0-e4d1-4142-bdd0-3e21465ee8c2",
   "metadata": {
    "jp-MarkdownHeadingCollapsed": true
   },
   "source": [
    "## Theory"
   ]
  },
  {
   "cell_type": "markdown",
   "id": "c08f7447-81d9-46ac-9922-574192290b32",
   "metadata": {},
   "source": [
    "We propose an R-Convolution kernel based on community decomposition (and more generally graph sparsification).\n",
    "\n",
    "We will show how given a unique graph decomposition robust to (some amount of) changes to the underlying graph we can construct an R-Convolution kernel. By representing the graph as a bag of parts from this unique decomposition we can take a divide-and-conquer approach to graph similarity. Considering each part individually allows for the parallelization of computation. As these parts are much smaller than the original graph, we can use kernels that would be intractable over the entire graph. Both of these should allow us to scale a graph kernel to larger graphs.\n",
    "\n",
    "We'll consider community structure as such a unique graph decomposition. A community is a subset of the vertices that are densely connected internally and sparsely connected externally. Community structure can be represented as a partition of a graph's vertices. We claim a graph's communities are such a unique decomposition. Graphs with strong community structure should have a unique community decomposition. However this method will not be applicable to all families of graphs as for example the Erdos-Renyi random graph will not have any community structure. Many \"natural\" graphs have been shown to have community structure, in particular social / communication networks between people. Communities should be robust to changes in the underlying graph as strong (i.e. identifiable) community structure requires having significantly more edges within a community than between communities.\n",
    "\n",
    "Let $G$ and $G'$ be graphs that have a unique, stable community structure. Let $communities(G)$ denote the communities of $G$ and let $C \\in communities(G)$ be the vertex-induced subgraph of $G$ with vertices equal to one of $G$'s communities and edges internal to that community. Let $k_\\$(G, G')$ be a graph kernel. In particular it could be one that is too expensive to run on the entire graph.\n",
    "\n",
    "We then want to compare the communities of $G$ to those of $G'$ using $k_\\$$. As we don't know how to align the communities of these two graphs we'll first must compare each community of $G$ to every one in $G'$. To fit into the R-Convolution framework, we take each $C \\in communities(G)$ as its own decomposition of $G$. Our R-Convolution kernel is then\n",
    "\n",
    "$k(G, G') = \\sum_{C_i \\in communities(G)} \\sum_{C_j \\in communities(G')} k_\\$(C_i, C_j)$\n",
    "\n",
    "Example: $G$ and $G'$ need not have the same number of communities. Suppose $G$ is the complete graph $K_n$ and $G'$ is the $n$-barbell graph i.e. the graph formed by connecting two copies of $K_n$ by a single edge. Then\n",
    "\n",
    "$k(G', G') = \\sum_{C_i \\in \\{K_n, K_n\\}} \\sum_{C_j \\in \\{K_n, K_n\\}} k_\\$(C_i, C_j) = 4k_\\$(K_n, K_n)$\n",
    "\n",
    "and\n",
    "\n",
    "$k(G, G') = \\sum_{C_i \\in \\{K_n\\}} \\sum_{C_j \\in \\{K_n, K_n\\}} k_\\$(C, C) = 4k_\\$(K_n, K_n)$.\n",
    "\n",
    "To reduce the number of kernel evaluations we need to perform we can pick an alignment of the communities i.e. some mapping from communities of one graph to the other. We'll pick an alignment that maximizes the sum of the pairwise kernels. This is an instance of the assignment problem for which the Kuhn-Munkres algorithm provides a polynomial time solution (see Label Swapping Problem [here](https://ruor.uottawa.ca/handle/10393/43171)).\n",
    "\n",
    "What's been proposed is not a complete kernel as we are discarding the edges between communities and hence cannot distinguish between graphs that can be decomposed into the same set of subgraphs (and where our community detection method chooses this decomposition). Consider the graph formed by contracting each community to a single vertex. These graphs could then be compared with kernel $k_\\$$. This would look for lower resolution similarity. This might be interesting on its own if only lower resolution similarity is of interest, or as an approximate similarity.\n",
    "\n",
    "*TODO: How can we get closer to a complete kernel? How can the similarity of the contracted graphs contribute to the pairwise community similarities? Can we just do a brute force solving of the isomorphism problem on this contracted graph, with the community subgraphs as vertex labels? Do the isomorphisms of the contracted graph restrict the choices of permutations that maximize the sum of kernels evaluated on community pairs?*\n",
    "\n",
    "This community R-Convolution kernel could be generalized to work with any graph sparsification method that produces stable and unique sparsifications. Most sparsification techniques try to preserve the spectrum, and since the spectrum is robust to small changes in the graph, these sparsification methods should be stable as well. Then the communities would just be the subgraphs that were contracted during sparsification."
   ]
  },
  {
   "cell_type": "markdown",
   "id": "992a4f49-b001-4878-a078-793fd6cd9016",
   "metadata": {},
   "source": [
    "## Dataset\n",
    "\n",
    "We use the NCI1 dataset of chemical compounds that have been classified as carcinogenic or not.\n",
    "It was downloaded from [TUDataset: A collection of benchmark datasets for learning with graphs](https://chrsmrrs.github.io/datasets/docs/datasets/).\n",
    "There is a [leaderboard](https://paperswithcode.com/sota/graph-classification-on-nci1) evaluating graph embedding algorithms on this classification task."
   ]
  },
  {
   "cell_type": "markdown",
   "id": "4f137861-fbfb-4309-bec2-20c08c0027cf",
   "metadata": {},
   "source": [
    "## Experiments"
   ]
  },
  {
   "cell_type": "markdown",
   "id": "f7b4e181-6606-4f97-9676-f346d3250875",
   "metadata": {},
   "source": [
    "In experiments we will take the community decomposition to be the partition with the optimal modularity. Note that finding this optimal partition is intractable for large graphs. If this approach shows promise then there are efficient algorithms for community detection that could be used instead, for example the multilevel Louvain algorithm. While these don't guarantee a unique decomposition, their compositions may be stable enough."
   ]
  },
  {
   "cell_type": "markdown",
   "id": "6e72a58e-a185-4d97-b801-1daeffa07d60",
   "metadata": {
    "tags": []
   },
   "source": [
    "### Setup"
   ]
  },
  {
   "cell_type": "markdown",
   "id": "1566f18b-f051-47d8-beff-c66e245b3bd7",
   "metadata": {},
   "source": [
    "To plot graphs the `cairo` 2D graphics library is required.\n",
    "It can be installed on Linux by running\n",
    "```shell\n",
    "sudo apt install libcairo2-dev\n",
    "```\n",
    "Windows installation instructions can be found [here](https://doc.courtbouillon.org/cairocffi/stable/overview.html#installing-cairo-on-windows)."
   ]
  },
  {
   "cell_type": "markdown",
   "id": "a18121fd-aee4-47dc-a621-81c6d4aae5b6",
   "metadata": {},
   "source": [
    "If you just want to install the packages into the system Python installation and not use `pipenv` for dependency management,\n",
    "uncomment and run the below cells."
   ]
  },
  {
   "cell_type": "code",
   "execution_count": 1,
   "id": "5168e4be-3248-4052-99fa-3f872ec8144b",
   "metadata": {
    "tags": []
   },
   "outputs": [],
   "source": [
    "# ! pip install --quiet pipenv\n",
    "# ! pipenv install --system\n",
    "# ! pipenv --rm"
   ]
  },
  {
   "cell_type": "code",
   "execution_count": 224,
   "id": "e83638da-45b7-4e2a-81e1-900795548528",
   "metadata": {
    "tags": []
   },
   "outputs": [],
   "source": [
    "from collections import Counter\n",
    "from dataclasses import dataclass\n",
    "import itertools\n",
    "from pathlib import Path\n",
    "import pickle\n",
    "\n",
    "import grakel\n",
    "from grakel.kernels import WeisfeilerLehman, VertexHistogram\n",
    "import igraph\n",
    "import matplotlib.pyplot as plt\n",
    "import networkx\n",
    "import numpy as np\n",
    "import pandas as pd\n",
    "import seaborn as sns\n",
    "from sklearn.metrics import accuracy_score, ConfusionMatrixDisplay\n",
    "from sklearn.model_selection import train_test_split\n",
    "from tqdm import tqdm"
   ]
  },
  {
   "cell_type": "code",
   "execution_count": 3,
   "id": "d75704c5-ec8c-4149-87ce-fc0c33c49ed9",
   "metadata": {},
   "outputs": [],
   "source": [
    "sns.set()"
   ]
  },
  {
   "cell_type": "markdown",
   "id": "2d31bcb6-4160-4a3c-95ba-de5f8fb5664c",
   "metadata": {
    "jp-MarkdownHeadingCollapsed": true,
    "tags": []
   },
   "source": [
    "### Load graphs"
   ]
  },
  {
   "cell_type": "markdown",
   "id": "23e16e82-4287-4a65-84df-6e7f70c48860",
   "metadata": {},
   "source": [
    "The dataset file format is described [on the TUDataset site](https://chrsmrrs.github.io/datasets/docs/format/)."
   ]
  },
  {
   "cell_type": "code",
   "execution_count": 16,
   "id": "6ddeb0b2-9cda-4705-8ccd-a5b06cabad9b",
   "metadata": {},
   "outputs": [],
   "source": [
    "data = Path(\"data\")\n",
    "if not data.exists():\n",
    "    raise FileNotFoundError(\"Path to data directory not set\")"
   ]
  },
  {
   "cell_type": "code",
   "execution_count": 17,
   "id": "bafa7a61-e082-49ec-8c4b-26110d358198",
   "metadata": {
    "tags": []
   },
   "outputs": [],
   "source": [
    "# Make 1-based vertex names 0-based.\n",
    "edges = [tuple(map(lambda x: int(x) - 1, edge.split(\",\")))\n",
    "         for edge in (data / \"NCI1/NCI1_A.txt\").read_text().split()]"
   ]
  },
  {
   "cell_type": "code",
   "execution_count": 18,
   "id": "4f0655a1-aa65-48dc-8c4d-73844ec56b80",
   "metadata": {},
   "outputs": [],
   "source": [
    "graph = igraph.Graph.TupleList(edges, directed=False)"
   ]
  },
  {
   "cell_type": "code",
   "execution_count": 19,
   "id": "df32a0fd-d24e-466a-b6df-8a6cc99b5566",
   "metadata": {},
   "outputs": [],
   "source": [
    "# Make 1-based subgraph names 0-based.\n",
    "subgraph_labels = np.array([\n",
    "    int(x) - 1 for x in (data / \"NCI1/NCI1_graph_indicator.txt\").read_text().split()\n",
    "])"
   ]
  },
  {
   "cell_type": "code",
   "execution_count": 20,
   "id": "8ee389d4-83ff-453a-9b1a-cc96cff2fd98",
   "metadata": {},
   "outputs": [],
   "source": [
    "class_labels = np.array([\n",
    "    int(x) for x in (data / \"NCI1/NCI1_graph_labels.txt\").read_text().split()\n",
    "])"
   ]
  },
  {
   "cell_type": "code",
   "execution_count": 21,
   "id": "a5fcad1f-9f9e-4a5f-a07c-493ba55817e9",
   "metadata": {},
   "outputs": [],
   "source": [
    "node_labels = np.array([\n",
    "    int(x) for x in (data / \"NCI1/NCI1_node_labels.txt\").read_text().split()\n",
    "])"
   ]
  },
  {
   "cell_type": "code",
   "execution_count": 22,
   "id": "76d35f71-6982-491d-ba24-c5f875e26243",
   "metadata": {},
   "outputs": [],
   "source": [
    "for v in graph.vs:\n",
    "    v[\"graph\"] = subgraph_labels[v[\"name\"]]\n",
    "    v[\"label\"] = node_labels[v[\"name\"]]"
   ]
  },
  {
   "cell_type": "markdown",
   "id": "f70c6fd1-4838-4a61-88cc-1135c22c8e60",
   "metadata": {
    "jp-MarkdownHeadingCollapsed": true,
    "tags": []
   },
   "source": [
    "### Properties of these graphs"
   ]
  },
  {
   "cell_type": "code",
   "execution_count": 12,
   "id": "3c152bd6-e3a8-4a77-858a-e6d83192d14d",
   "metadata": {},
   "outputs": [
    {
     "name": "stdout",
     "output_type": "stream",
     "text": [
      "Number of graphs: 4110\n"
     ]
    }
   ],
   "source": [
    "print(f\"Number of graphs: {max(subgraph_labels) + 1}\")"
   ]
  },
  {
   "cell_type": "code",
   "execution_count": 13,
   "id": "f29b786c-5159-4751-969d-dc481c52b709",
   "metadata": {},
   "outputs": [
    {
     "name": "stdout",
     "output_type": "stream",
     "text": [
      "The classes are roughly balanced: [(1, 2057), (0, 2053)]\n"
     ]
    }
   ],
   "source": [
    "print(f\"The classes are roughly balanced: {Counter(class_labels).most_common()}\")"
   ]
  },
  {
   "cell_type": "code",
   "execution_count": 14,
   "id": "b9bb2535-f56d-4569-b7a8-e7a178f6eebb",
   "metadata": {},
   "outputs": [
    {
     "name": "stdout",
     "output_type": "stream",
     "text": [
      "The 4110 graphs have 122,319 vertices and 265,506 edges in total so are sparse\n"
     ]
    }
   ],
   "source": [
    "print((f\"The {max(subgraph_labels) + 1} graphs have \"\n",
    "       f\"{graph.vcount():,} vertices and {graph.ecount():,} edges \"\n",
    "       \"in total so are sparse\"))"
   ]
  },
  {
   "cell_type": "code",
   "execution_count": 15,
   "id": "75c1095d-5df5-4299-8bd9-93270919e594",
   "metadata": {},
   "outputs": [
    {
     "name": "stdout",
     "output_type": "stream",
     "text": [
      "Number of node labels i.e. distinct atoms present: 37\n"
     ]
    }
   ],
   "source": [
    "print(f\"Number of node labels i.e. distinct atoms present: {len(Counter(node_labels))}\")"
   ]
  },
  {
   "cell_type": "code",
   "execution_count": 16,
   "id": "355481b6-0627-4d79-bb43-de3737bfc6ac",
   "metadata": {},
   "outputs": [
    {
     "name": "stderr",
     "output_type": "stream",
     "text": [
      "100%|██████████| 4110/4110 [00:19<00:00, 212.79it/s]\n"
     ]
    }
   ],
   "source": [
    "# Check whether each graph is connected.\n",
    "connected = np.empty(shape=(max(subgraph_labels) + 1,), dtype=bool)\n",
    "for i in tqdm(range(max(subgraph_labels) + 1)):\n",
    "    g = graph.subgraph(np.where(np.array(graph.vs[\"graph\"]) == i)[0].tolist())\n",
    "    connected[i] = g.is_connected()"
   ]
  },
  {
   "cell_type": "code",
   "execution_count": 17,
   "id": "57da1c05-6eac-4334-bd20-f0b63f1d7ffb",
   "metadata": {},
   "outputs": [
    {
     "name": "stdout",
     "output_type": "stream",
     "text": [
      "3865/4110 ~= 0.94 of the graphs are connected\n"
     ]
    }
   ],
   "source": [
    "print((f\"{connected.sum()}/{len(connected)} ~= \"\n",
    "       f\"{np.round(connected.sum() / len(connected), 3)} \"\n",
    "       \"of the graphs are connected\"))"
   ]
  },
  {
   "cell_type": "code",
   "execution_count": 23,
   "id": "cdf68fda-4ca9-4c84-b000-155524810cad",
   "metadata": {},
   "outputs": [
    {
     "name": "stderr",
     "output_type": "stream",
     "text": [
      "100%|██████████████████████████████████████████████████████████████████████████████████████████████████| 4110/4110 [00:40<00:00, 101.45it/s]"
     ]
    },
    {
     "name": "stdout",
     "output_type": "stream",
     "text": [
      "CPU times: user 40.5 s, sys: 129 ms, total: 40.7 s\n",
      "Wall time: 40.6 s\n"
     ]
    },
    {
     "name": "stderr",
     "output_type": "stream",
     "text": [
      "\n"
     ]
    }
   ],
   "source": [
    "%%time\n",
    "vcounts = []\n",
    "for i in tqdm(range(max(graph.vs[\"graph\"])+1)):\n",
    "    g = graph.subgraph(np.where(np.array(graph.vs[\"graph\"]) == i)[0].tolist())\n",
    "    vcounts.append(g.vcount())"
   ]
  },
  {
   "cell_type": "code",
   "execution_count": 24,
   "id": "4fb051ac-a3f3-420d-a0dc-6d43034c80ef",
   "metadata": {},
   "outputs": [
    {
     "data": {
      "text/plain": [
       "(3, 111)"
      ]
     },
     "execution_count": 24,
     "metadata": {},
     "output_type": "execute_result"
    }
   ],
   "source": [
    "min(vcounts), max(vcounts)"
   ]
  },
  {
   "cell_type": "code",
   "execution_count": 25,
   "id": "4f11e4b1-3994-4236-9d0e-e5724a07661e",
   "metadata": {},
   "outputs": [
    {
     "name": "stderr",
     "output_type": "stream",
     "text": [
      "100%|██████████████████████████████████████████████████████████████████████████████████████████████████| 4110/4110 [00:39<00:00, 104.67it/s]"
     ]
    },
    {
     "name": "stdout",
     "output_type": "stream",
     "text": [
      "CPU times: user 39.2 s, sys: 165 ms, total: 39.4 s\n",
      "Wall time: 39.3 s\n"
     ]
    },
    {
     "name": "stderr",
     "output_type": "stream",
     "text": [
      "\n"
     ]
    }
   ],
   "source": [
    "%%time\n",
    "ecounts = []\n",
    "for i in tqdm(range(max(graph.vs[\"graph\"])+1)):\n",
    "    g = graph.subgraph(np.where(np.array(graph.vs[\"graph\"]) == i)[0].tolist())\n",
    "    ecounts.append(g.ecount())"
   ]
  },
  {
   "cell_type": "code",
   "execution_count": 26,
   "id": "84e7f1f2-4774-4350-bee0-c05bdffbe13a",
   "metadata": {},
   "outputs": [
    {
     "data": {
      "text/plain": [
       "(4, 238)"
      ]
     },
     "execution_count": 26,
     "metadata": {},
     "output_type": "execute_result"
    }
   ],
   "source": [
    "min(ecounts), max(ecounts)"
   ]
  },
  {
   "cell_type": "markdown",
   "id": "f0cab908-431a-426c-b308-3e6a9133750a",
   "metadata": {},
   "source": [
    "### Compute clusterings i.e. community decomposition for each graph"
   ]
  },
  {
   "cell_type": "markdown",
   "id": "a0d3f049-a30c-4bc8-b213-e85c1be6b807",
   "metadata": {},
   "source": [
    "Find communties for each graph using the optimal modularity.\n",
    "Note this will be slow; there are speed ups such as multilevel Louvain that could be used instead."
   ]
  },
  {
   "cell_type": "code",
   "execution_count": 289,
   "id": "9cca83c8-7816-4600-94e3-ee3d0d6930bc",
   "metadata": {},
   "outputs": [],
   "source": [
    "# TODO: Use arrays instead of pickled igraph.clustering.VertexClustering .\n",
    "if not Path(data / \"clusterings.pkl\").exists():\n",
    "    # Find communities for each graph.\n",
    "    clusterings = []\n",
    "    for i in tqdm(range(max(G.vs[\"graph\"])+1)):\n",
    "        g = G.subgraph(np.where(np.array(G.vs[\"graph\"]) == i)[0].tolist())\n",
    "        clusterings.append(g.community_optimal_modularity())\n",
    "    Path(data / \"clusterings.pkl\").write_bytes(pickle.dumps(clusterings))\n",
    "else:\n",
    "    clusterings = pickle.loads((data / \"clusterings.pkl\").read_bytes())"
   ]
  },
  {
   "cell_type": "code",
   "execution_count": 14,
   "id": "37500048-727b-45a7-ab72-73c64c8e8f98",
   "metadata": {},
   "outputs": [],
   "source": [
    "modularities = [clustering.modularity for clustering in clusterings]"
   ]
  },
  {
   "cell_type": "code",
   "execution_count": null,
   "id": "447c3afd-2107-4225-8e46-cea841e7d324",
   "metadata": {},
   "outputs": [],
   "source": [
    "sns.kdeplot(data=modularities, clip=(0, max(df[6])), bw_adjust=2, fill=True, ax=ax)"
   ]
  },
  {
   "cell_type": "code",
   "execution_count": 29,
   "id": "b3008635-8770-4fce-a2f4-fbf22993258d",
   "metadata": {},
   "outputs": [
    {
     "data": {
      "image/png": "[encoded data removed]",
      "text/plain": [
       "<Figure size 640x480 with 1 Axes>"
      ]
     },
     "metadata": {},
     "output_type": "display_data"
    }
   ],
   "source": [
    "sns.ecdfplot(modularities)\n",
    "plt.show()"
   ]
  },
  {
   "cell_type": "markdown",
   "id": "ff5f9474-4772-41cf-bf13-ed7172b27163",
   "metadata": {
    "tags": []
   },
   "source": [
    "### R-Convolution kernel with communities as parts"
   ]
  },
  {
   "cell_type": "code",
   "execution_count": 118,
   "id": "0811bf1a-829a-40ec-bb32-a5b731aecaa3",
   "metadata": {},
   "outputs": [],
   "source": [
    "def igraph_to_grakel(g_igraph: igraph.Graph) -> grakel.graph.Graph:\n",
    "    \"\"\"Converts an igraph graph to a grakel graph.\n",
    "    \"\"\"\n",
    "    g_networkx = g_igraph.to_networkx(create_using=networkx.Graph, vertex_attr_hashable=\"name\")\n",
    "    g_grakel = next(grakel.graph_from_networkx([g_networkx], node_labels_tag=\"label\", as_Graph=True))\n",
    "    return g_grakel"
   ]
  },
  {
   "cell_type": "code",
   "execution_count": 203,
   "id": "de6931be-d2e7-49e1-8707-7c4a4b70797b",
   "metadata": {},
   "outputs": [],
   "source": [
    "def bag_of_communities(g: igraph.clustering.VertexClustering) -> list[igraph.Graph]:\n",
    "    return [g.subgraph(i) for i in range(max(g.membership) + 1)]"
   ]
  },
  {
   "cell_type": "code",
   "execution_count": 245,
   "id": "79e63c3f-4839-4db1-a2ee-535da93ccbb7",
   "metadata": {},
   "outputs": [],
   "source": [
    "def community_kernel_igraph(g0: igraph.clustering.VertexClustering,\n",
    "                            g1: igraph.clustering.VertexClustering) -> float:\n",
    "    \"\"\"A kernel based on pairwise community similarity.\n",
    "\n",
    "    Args:\n",
    "      g0: A vertex clustering of a graph.\n",
    "      g1: A vertex clustering of another graph.\n",
    "\n",
    "    Returns:\n",
    "      The (number of communities in g0) x (number of communities in g1) kernel matrix.\n",
    "    \"\"\"\n",
    "\n",
    "    subgraphs_0 = [igraph_to_grakel(g0.subgraph(i)) for i in range(max(g0.membership) + 1)]\n",
    "    subgraphs_1 = [igraph_to_grakel(g1.subgraph(j)) for j in range(max(g1.membership) + 1)]\n",
    "\n",
    "    n_communities_0 = max(g0.membership) + 1\n",
    "    n_communities_1 = max(g1.membership) + 1\n",
    "\n",
    "    km = np.zeros((n_communities_0, n_communities_1))\n",
    "\n",
    "    for i in range(n_communities_0):\n",
    "        # https://ysig.github.io/GraKeL/0.1a8/documentation/introduction.html#computing-the-kernel-between-two-graphs\n",
    "        # kernel = GraphKernel(normalize=False, kernel=\"weisfeiler_lehman_optimal_assignment\")\n",
    "        # TODO: normalize=True?\n",
    "        kernel = WeisfeilerLehman(n_iter=5, normalize=True, base_graph_kernel=VertexHistogram)\n",
    "        kernel.fit([subgraphs_0[i]])\n",
    "\n",
    "        km[i] = kernel.transform(subgraphs_1).reshape((n_communities_1, ))\n",
    "\n",
    "    return km"
   ]
  },
  {
   "cell_type": "code",
   "execution_count": 320,
   "id": "f149da8d-5f3e-4844-8587-8b876b910aac",
   "metadata": {},
   "outputs": [],
   "source": [
    "def community_kernel(g0: list[grakel.graph.Graph],\n",
    "                     g1: list[grakel.graph.Graph],\n",
    "                     kernel: list[grakel.kernels.kernel.Kernel]) -> float:\n",
    "    \"\"\"A kernel based on pairwise community similarity.\n",
    "\n",
    "    https://ysig.github.io/GraKeL/0.1a8/documentation/introduction.html#computing-the-kernel-between-two-graphs\n",
    "\n",
    "    Args:\n",
    "      g0: A graph decomposed into a bag of its communities.\n",
    "      g1: Another graph decomposed into a bag of its communities.\n",
    "      kernel: A list of kernels fit on the subgraphs of g0.\n",
    "\n",
    "    Returns:\n",
    "      The |g0| x |g1| kernel matrix.\n",
    "    \"\"\"\n",
    "    km = np.zeros((len(g0), len(g1)))\n",
    "\n",
    "    for i in range(len(g0)):\n",
    "        km[i] = kernel[i].transform(g1).reshape((len(g1), ))\n",
    "\n",
    "    return km"
   ]
  },
  {
   "cell_type": "code",
   "execution_count": 208,
   "id": "6f604d8a-b525-4893-876e-d1da308dacd8",
   "metadata": {},
   "outputs": [
    {
     "name": "stderr",
     "output_type": "stream",
     "text": [
      "100%|██████████████████████████████████████████████████████████████████████████████████████████████████| 4110/4110 [00:12<00:00, 326.32it/s]\n"
     ]
    }
   ],
   "source": [
    "G = []\n",
    "for graph in tqdm(clusterings):\n",
    "    G.append([igraph_to_grakel(subgraph) for subgraph in bag_of_communities(graph)])"
   ]
  },
  {
   "cell_type": "code",
   "execution_count": 326,
   "id": "f84d434c-ee58-47d1-87cb-470208a1ef60",
   "metadata": {},
   "outputs": [
    {
     "name": "stderr",
     "output_type": "stream",
     "text": [
      "100%|██████████████████████████████████████████████████████████████████████████████████████████████████| 4110/4110 [00:11<00:00, 360.52it/s]\n"
     ]
    }
   ],
   "source": [
    "kernels = []\n",
    "for graph in tqdm(G):\n",
    "    subgraph_kernels = []\n",
    "    for subgraph in graph:\n",
    "        subgraph_kernel = WeisfeilerLehman(n_iter=5, normalize=True, base_graph_kernel=VertexHistogram)\n",
    "        subgraph_kernel.fit([subgraph])\n",
    "        subgraph_kernels.append(subgraph_kernel)\n",
    "    kernels.append(subgraph_kernels)"
   ]
  },
  {
   "cell_type": "code",
   "execution_count": 217,
   "id": "9cfcd078-f432-4514-9cde-bd41d6481cbd",
   "metadata": {},
   "outputs": [
    {
     "data": {
      "text/plain": [
       "8.98797037414381"
      ]
     },
     "execution_count": 217,
     "metadata": {},
     "output_type": "execute_result"
    }
   ],
   "source": [
    "community_kernel_igraph(clusterings[0], clusterings[0]).sum()"
   ]
  },
  {
   "cell_type": "code",
   "execution_count": 328,
   "id": "3a85fabc-7a71-4d80-af7f-c05b22029f25",
   "metadata": {},
   "outputs": [
    {
     "data": {
      "text/plain": [
       "8.98797037414381"
      ]
     },
     "execution_count": 328,
     "metadata": {},
     "output_type": "execute_result"
    }
   ],
   "source": [
    "community_kernel(G[0], G[0], kernels[0]).sum()"
   ]
  },
  {
   "cell_type": "code",
   "execution_count": 329,
   "id": "a2a4ac78-af54-48a1-983b-b933ce3a0ecc",
   "metadata": {},
   "outputs": [
    {
     "data": {
      "text/plain": [
       "7.566879193487172"
      ]
     },
     "execution_count": 329,
     "metadata": {},
     "output_type": "execute_result"
    }
   ],
   "source": [
    "community_kernel(G[0], G[2], kernels[0]).sum()"
   ]
  },
  {
   "cell_type": "code",
   "execution_count": 221,
   "id": "5dba716c-9b20-4fe8-a0c6-ad6a56400966",
   "metadata": {},
   "outputs": [],
   "source": [
    "y = class_labels"
   ]
  },
  {
   "cell_type": "code",
   "execution_count": 225,
   "id": "a6ab2ed4-ce03-4a3e-b77b-dc46297b4e6f",
   "metadata": {},
   "outputs": [],
   "source": [
    "G_train, G_test, y_train, y_test = train_test_split(G, y, test_size=0.1, random_state=42)"
   ]
  },
  {
   "cell_type": "code",
   "execution_count": null,
   "id": "cc2cba2a-6895-480b-97f9-327f66828e87",
   "metadata": {},
   "outputs": [],
   "source": [
    "K_train = np.zeros((len(G_train), len(G_train)))\n",
    "# TODO: Construct condensed distance matrix.\n",
    "for i, j in tqdm(itertools.product(range(len(G_train)), range(len(G_train))), total=len(G_train)**2):\n",
    "    K_train[i, j] = community_kernel(G[i], G[j], kernels[i]).sum()"
   ]
  },
  {
   "cell_type": "code",
   "execution_count": 198,
   "id": "99ee4a2a-db87-4afe-9686-d91abbf65eda",
   "metadata": {},
   "outputs": [],
   "source": [
    "# Assert our kernel is symmetric.\n",
    "assert np.all(community_kernel(clusterings[0], clusterings[1]) == community_kernel(clusterings[1], clusterings[0]).T)"
   ]
  },
  {
   "cell_type": "markdown",
   "id": "a4d9d913-0f8f-4e7e-b7c2-2f08ef22d46e",
   "metadata": {},
   "source": [
    "### Plots"
   ]
  },
  {
   "cell_type": "code",
   "execution_count": 135,
   "id": "a1d45912-b231-4acf-8326-30ad559eec5f",
   "metadata": {},
   "outputs": [
    {
     "data": {
      "image/svg+xml": [
       "<?xml version=\"1.0\" encoding=\"UTF-8\"?>\n",
       "<svg xmlns=\"http://www.w3.org/2000/svg\" xmlns:xlink=\"http://www.w3.org/1999/xlink\" width=\"200pt\" height=\"200pt\" viewBox=\"0 0 200 200\" version=\"1.1\">\n",
       "<defs>\n",
       "<g>\n",
       "<symbol overflow=\"visible\" id=\"glyph0-0\">\n",
       "<path style=\"stroke:none;\" d=\"M 0.703125 2.46875 L 0.703125 -9.875 L 7.703125 -9.875 L 7.703125 2.46875 Z M 1.484375 1.703125 L 6.921875 1.703125 L 6.921875 -9.078125 L 1.484375 -9.078125 Z M 1.484375 1.703125 \"/>\n",
       "</symbol>\n",
       "<symbol overflow=\"visible\" id=\"glyph0-1\">\n",
       "<path style=\"stroke:none;\" d=\"M 5.6875 -5.5 C 6.34375 -5.363281 6.851562 -5.070312 7.21875 -4.625 C 7.59375 -4.175781 7.78125 -3.625 7.78125 -2.96875 C 7.78125 -1.957031 7.429688 -1.175781 6.734375 -0.625 C 6.046875 -0.0703125 5.066406 0.203125 3.796875 0.203125 C 3.367188 0.203125 2.925781 0.15625 2.46875 0.0625 C 2.019531 -0.0195312 1.550781 -0.144531 1.0625 -0.3125 L 1.0625 -1.640625 C 1.445312 -1.421875 1.867188 -1.253906 2.328125 -1.140625 C 2.785156 -1.023438 3.257812 -0.96875 3.75 -0.96875 C 4.613281 -0.96875 5.269531 -1.132812 5.71875 -1.46875 C 6.175781 -1.8125 6.40625 -2.3125 6.40625 -2.96875 C 6.40625 -3.570312 6.191406 -4.039062 5.765625 -4.375 C 5.347656 -4.71875 4.765625 -4.890625 4.015625 -4.890625 L 2.828125 -4.890625 L 2.828125 -6.015625 L 4.078125 -6.015625 C 4.753906 -6.015625 5.269531 -6.148438 5.625 -6.421875 C 5.988281 -6.703125 6.171875 -7.097656 6.171875 -7.609375 C 6.171875 -8.128906 5.984375 -8.53125 5.609375 -8.8125 C 5.242188 -9.09375 4.710938 -9.234375 4.015625 -9.234375 C 3.640625 -9.234375 3.234375 -9.191406 2.796875 -9.109375 C 2.367188 -9.023438 1.894531 -8.894531 1.375 -8.71875 L 1.375 -9.953125 C 1.894531 -10.097656 2.382812 -10.207031 2.84375 -10.28125 C 3.300781 -10.351562 3.734375 -10.390625 4.140625 -10.390625 C 5.191406 -10.390625 6.019531 -10.148438 6.625 -9.671875 C 7.238281 -9.203125 7.546875 -8.5625 7.546875 -7.75 C 7.546875 -7.175781 7.382812 -6.695312 7.0625 -6.3125 C 6.738281 -5.925781 6.28125 -5.65625 5.6875 -5.5 Z M 5.6875 -5.5 \"/>\n",
       "</symbol>\n",
       "</g>\n",
       "</defs>\n",
       "<g id=\"surface38\">\n",
       "<rect x=\"0\" y=\"0\" width=\"200\" height=\"200\" style=\"fill:rgb(100%,100%,100%);fill-opacity:1;stroke:none;\"/>\n",
       "<path style=\"fill:none;stroke-width:1;stroke-linecap:butt;stroke-linejoin:miter;stroke:rgb(26.666667%,26.666667%,26.666667%);stroke-opacity:1;stroke-miterlimit:10;\" d=\"M 146 172.382812 L 180 92.382812 \"/>\n",
       "<path style=\"fill:none;stroke-width:1;stroke-linecap:butt;stroke-linejoin:miter;stroke:rgb(26.666667%,26.666667%,26.666667%);stroke-opacity:1;stroke-miterlimit:10;\" d=\"M 146 172.382812 L 66 180 \"/>\n",
       "<path style=\"fill:none;stroke-width:1;stroke-linecap:butt;stroke-linejoin:miter;stroke:rgb(26.666667%,26.666667%,26.666667%);stroke-opacity:1;stroke-miterlimit:10;\" d=\"M 180 92.382812 L 134 20 \"/>\n",
       "<path style=\"fill:none;stroke-width:1;stroke-linecap:butt;stroke-linejoin:miter;stroke:rgb(26.666667%,26.666667%,26.666667%);stroke-opacity:1;stroke-miterlimit:10;\" d=\"M 54 27.617188 L 134 20 \"/>\n",
       "<path style=\"fill:none;stroke-width:1;stroke-linecap:butt;stroke-linejoin:miter;stroke:rgb(26.666667%,26.666667%,26.666667%);stroke-opacity:1;stroke-miterlimit:10;\" d=\"M 54 27.617188 L 20 107.617188 \"/>\n",
       "<path style=\"fill:none;stroke-width:1;stroke-linecap:butt;stroke-linejoin:miter;stroke:rgb(26.666667%,26.666667%,26.666667%);stroke-opacity:1;stroke-miterlimit:10;\" d=\"M 66 180 L 20 107.617188 \"/>\n",
       "<path style=\"fill-rule:nonzero;fill:rgb(100%,0%,0%);fill-opacity:1;stroke-width:1;stroke-linecap:butt;stroke-linejoin:miter;stroke:rgb(0%,0%,0%);stroke-opacity:1;stroke-miterlimit:10;\" d=\"M 156 172.382812 C 156 177.902344 151.523438 182.382812 146 182.382812 C 140.476562 182.382812 136 177.902344 136 172.382812 C 136 166.859375 140.476562 162.382812 146 162.382812 C 151.523438 162.382812 156 166.859375 156 172.382812 \"/>\n",
       "<path style=\"fill-rule:nonzero;fill:rgb(100%,0%,0%);fill-opacity:1;stroke-width:1;stroke-linecap:butt;stroke-linejoin:miter;stroke:rgb(0%,0%,0%);stroke-opacity:1;stroke-miterlimit:10;\" d=\"M 190 92.382812 C 190 97.902344 185.523438 102.382812 180 102.382812 C 174.476562 102.382812 170 97.902344 170 92.382812 C 170 86.859375 174.476562 82.382812 180 82.382812 C 185.523438 82.382812 190 86.859375 190 92.382812 \"/>\n",
       "<path style=\"fill-rule:nonzero;fill:rgb(100%,0%,0%);fill-opacity:1;stroke-width:1;stroke-linecap:butt;stroke-linejoin:miter;stroke:rgb(0%,0%,0%);stroke-opacity:1;stroke-miterlimit:10;\" d=\"M 64 27.617188 C 64 33.140625 59.523438 37.617188 54 37.617188 C 48.476562 37.617188 44 33.140625 44 27.617188 C 44 22.097656 48.476562 17.617188 54 17.617188 C 59.523438 17.617188 64 22.097656 64 27.617188 \"/>\n",
       "<path style=\"fill-rule:nonzero;fill:rgb(100%,0%,0%);fill-opacity:1;stroke-width:1;stroke-linecap:butt;stroke-linejoin:miter;stroke:rgb(0%,0%,0%);stroke-opacity:1;stroke-miterlimit:10;\" d=\"M 76 180 C 76 185.523438 71.523438 190 66 190 C 60.476562 190 56 185.523438 56 180 C 56 174.476562 60.476562 170 66 170 C 71.523438 170 76 174.476562 76 180 \"/>\n",
       "<path style=\"fill-rule:nonzero;fill:rgb(100%,0%,0%);fill-opacity:1;stroke-width:1;stroke-linecap:butt;stroke-linejoin:miter;stroke:rgb(0%,0%,0%);stroke-opacity:1;stroke-miterlimit:10;\" d=\"M 144 20 C 144 25.523438 139.523438 30 134 30 C 128.476562 30 124 25.523438 124 20 C 124 14.476562 128.476562 10 134 10 C 139.523438 10 144 14.476562 144 20 \"/>\n",
       "<path style=\"fill-rule:nonzero;fill:rgb(100%,0%,0%);fill-opacity:1;stroke-width:1;stroke-linecap:butt;stroke-linejoin:miter;stroke:rgb(0%,0%,0%);stroke-opacity:1;stroke-miterlimit:10;\" d=\"M 30 107.617188 C 30 113.140625 25.523438 117.617188 20 117.617188 C 14.476562 117.617188 10 113.140625 10 107.617188 C 10 102.097656 14.476562 97.617188 20 97.617188 C 25.523438 97.617188 30 102.097656 30 107.617188 \"/>\n",
       "<g style=\"fill:rgb(0%,0%,0%);fill-opacity:1;\">\n",
       "  <use xlink:href=\"#glyph0-1\" x=\"141.574219\" y=\"179.226562\"/>\n",
       "</g>\n",
       "<g style=\"fill:rgb(0%,0%,0%);fill-opacity:1;\">\n",
       "  <use xlink:href=\"#glyph0-1\" x=\"175.574219\" y=\"99.226562\"/>\n",
       "</g>\n",
       "<g style=\"fill:rgb(0%,0%,0%);fill-opacity:1;\">\n",
       "  <use xlink:href=\"#glyph0-1\" x=\"49.574219\" y=\"34.464844\"/>\n",
       "</g>\n",
       "<g style=\"fill:rgb(0%,0%,0%);fill-opacity:1;\">\n",
       "  <use xlink:href=\"#glyph0-1\" x=\"61.574219\" y=\"186.847656\"/>\n",
       "</g>\n",
       "<g style=\"fill:rgb(0%,0%,0%);fill-opacity:1;\">\n",
       "  <use xlink:href=\"#glyph0-1\" x=\"129.574219\" y=\"26.847656\"/>\n",
       "</g>\n",
       "<g style=\"fill:rgb(0%,0%,0%);fill-opacity:1;\">\n",
       "  <use xlink:href=\"#glyph0-1\" x=\"15.574219\" y=\"114.464844\"/>\n",
       "</g>\n",
       "</g>\n",
       "</svg>\n"
      ],
      "text/plain": [
       "<igraph.drawing.cairo.plot.CairoPlot at 0x7f425e1f3f70>"
      ]
     },
     "execution_count": 135,
     "metadata": {
      "image/svg+xml": {
       "isolated": true
      }
     },
     "output_type": "execute_result"
    }
   ],
   "source": [
    "igraph.plot(clusterings[0].subgraph(4), bbox=(200, 200))"
   ]
  },
  {
   "cell_type": "code",
   "execution_count": 189,
   "id": "542893d4-1bc1-44f6-b26f-0e19f2bd56f7",
   "metadata": {},
   "outputs": [
    {
     "data": {
      "image/svg+xml": [
       "<?xml version=\"1.0\" encoding=\"UTF-8\"?>\n",
       "<svg xmlns=\"http://www.w3.org/2000/svg\" xmlns:xlink=\"http://www.w3.org/1999/xlink\" width=\"250pt\" height=\"250pt\" viewBox=\"0 0 250 250\" version=\"1.1\">\n",
       "<defs>\n",
       "<g>\n",
       "<symbol overflow=\"visible\" id=\"glyph0-0\">\n",
       "<path style=\"stroke:none;\" d=\"M 0.703125 2.46875 L 0.703125 -9.875 L 7.703125 -9.875 L 7.703125 2.46875 Z M 1.484375 1.703125 L 6.921875 1.703125 L 6.921875 -9.078125 L 1.484375 -9.078125 Z M 1.484375 1.703125 \"/>\n",
       "</symbol>\n",
       "<symbol overflow=\"visible\" id=\"glyph0-1\">\n",
       "<path style=\"stroke:none;\" d=\"M 2.6875 -1.15625 L 7.5 -1.15625 L 7.5 0 L 1.03125 0 L 1.03125 -1.15625 C 1.550781 -1.695312 2.265625 -2.425781 3.171875 -3.34375 C 4.078125 -4.257812 4.644531 -4.847656 4.875 -5.109375 C 5.3125 -5.609375 5.617188 -6.03125 5.796875 -6.375 C 5.972656 -6.71875 6.0625 -7.054688 6.0625 -7.390625 C 6.0625 -7.929688 5.867188 -8.375 5.484375 -8.71875 C 5.109375 -9.0625 4.613281 -9.234375 4 -9.234375 C 3.570312 -9.234375 3.117188 -9.15625 2.640625 -9 C 2.160156 -8.851562 1.644531 -8.625 1.09375 -8.3125 L 1.09375 -9.71875 C 1.644531 -9.9375 2.160156 -10.101562 2.640625 -10.21875 C 3.128906 -10.332031 3.578125 -10.390625 3.984375 -10.390625 C 5.035156 -10.390625 5.875 -10.125 6.5 -9.59375 C 7.132812 -9.070312 7.453125 -8.367188 7.453125 -7.484375 C 7.453125 -7.054688 7.375 -6.65625 7.21875 -6.28125 C 7.0625 -5.90625 6.773438 -5.460938 6.359375 -4.953125 C 6.242188 -4.828125 5.878906 -4.445312 5.265625 -3.8125 C 4.660156 -3.175781 3.800781 -2.289062 2.6875 -1.15625 Z M 2.6875 -1.15625 \"/>\n",
       "</symbol>\n",
       "<symbol overflow=\"visible\" id=\"glyph0-2\">\n",
       "<path style=\"stroke:none;\" d=\"M 1.734375 -1.15625 L 4 -1.15625 L 4 -8.953125 L 1.53125 -8.453125 L 1.53125 -9.71875 L 3.984375 -10.203125 L 5.359375 -10.203125 L 5.359375 -1.15625 L 7.609375 -1.15625 L 7.609375 0 L 1.734375 0 Z M 1.734375 -1.15625 \"/>\n",
       "</symbol>\n",
       "<symbol overflow=\"visible\" id=\"glyph0-3\">\n",
       "<path style=\"stroke:none;\" d=\"M 5.6875 -5.5 C 6.34375 -5.363281 6.851562 -5.070312 7.21875 -4.625 C 7.59375 -4.175781 7.78125 -3.625 7.78125 -2.96875 C 7.78125 -1.957031 7.429688 -1.175781 6.734375 -0.625 C 6.046875 -0.0703125 5.066406 0.203125 3.796875 0.203125 C 3.367188 0.203125 2.925781 0.15625 2.46875 0.0625 C 2.019531 -0.0195312 1.550781 -0.144531 1.0625 -0.3125 L 1.0625 -1.640625 C 1.445312 -1.421875 1.867188 -1.253906 2.328125 -1.140625 C 2.785156 -1.023438 3.257812 -0.96875 3.75 -0.96875 C 4.613281 -0.96875 5.269531 -1.132812 5.71875 -1.46875 C 6.175781 -1.8125 6.40625 -2.3125 6.40625 -2.96875 C 6.40625 -3.570312 6.191406 -4.039062 5.765625 -4.375 C 5.347656 -4.71875 4.765625 -4.890625 4.015625 -4.890625 L 2.828125 -4.890625 L 2.828125 -6.015625 L 4.078125 -6.015625 C 4.753906 -6.015625 5.269531 -6.148438 5.625 -6.421875 C 5.988281 -6.703125 6.171875 -7.097656 6.171875 -7.609375 C 6.171875 -8.128906 5.984375 -8.53125 5.609375 -8.8125 C 5.242188 -9.09375 4.710938 -9.234375 4.015625 -9.234375 C 3.640625 -9.234375 3.234375 -9.191406 2.796875 -9.109375 C 2.367188 -9.023438 1.894531 -8.894531 1.375 -8.71875 L 1.375 -9.953125 C 1.894531 -10.097656 2.382812 -10.207031 2.84375 -10.28125 C 3.300781 -10.351562 3.734375 -10.390625 4.140625 -10.390625 C 5.191406 -10.390625 6.019531 -10.148438 6.625 -9.671875 C 7.238281 -9.203125 7.546875 -8.5625 7.546875 -7.75 C 7.546875 -7.175781 7.382812 -6.695312 7.0625 -6.3125 C 6.738281 -5.925781 6.28125 -5.65625 5.6875 -5.5 Z M 5.6875 -5.5 \"/>\n",
       "</symbol>\n",
       "</g>\n",
       "</defs>\n",
       "<g id=\"surface74\">\n",
       "<rect x=\"0\" y=\"0\" width=\"250\" height=\"250\" style=\"fill:rgb(100%,100%,100%);fill-opacity:1;stroke:none;\"/>\n",
       "<path style=\"fill-rule:nonzero;fill:rgb(100%,0%,0%);fill-opacity:0.25;stroke-width:2;stroke-linecap:butt;stroke-linejoin:miter;stroke:rgb(100%,0%,0%);stroke-opacity:1;stroke-miterlimit:10;\" d=\"M 244.304688 160.542969 L 243.8125 145.988281 C 243.386719 133.496094 231.851562 126.730469 220.742188 132.460938 L 201.027344 142.628906 C 189.917969 148.355469 190.101562 159.4375 201.398438 164.792969 L 222.566406 174.824219 C 233.863281 180.175781 244.730469 173.035156 244.304688 160.542969 \"/>\n",
       "<path style=\"fill-rule:nonzero;fill:rgb(0%,100%,0%);fill-opacity:0.25;stroke-width:2;stroke-linecap:butt;stroke-linejoin:miter;stroke:rgb(0%,100%,0%);stroke-opacity:1;stroke-miterlimit:10;\" d=\"M 160.773438 217.992188 L 154.035156 208.761719 C 146.664062 198.667969 129.269531 196.039062 119.246094 203.503906 L 104.570312 214.4375 C 94.546875 221.902344 96.964844 230.574219 109.40625 231.78125 L 150.632812 235.773438 C 163.074219 236.980469 168.144531 228.089844 160.773438 217.992188 \"/>\n",
       "<path style=\"fill-rule:nonzero;fill:rgb(0%,0%,100%);fill-opacity:0.25;stroke-width:2;stroke-linecap:butt;stroke-linejoin:miter;stroke:rgb(0%,0%,100%);stroke-opacity:1;stroke-miterlimit:10;\" d=\"M 97.457031 64.773438 L 70.707031 16.867188 C 64.613281 5.953125 48.050781 1.875 37.585938 8.707031 L 16.101562 22.734375 C 5.632812 29.566406 6.613281 41.421875 18.0625 46.441406 L 86.75 76.5625 C 98.199219 81.582031 103.550781 75.6875 97.457031 64.773438 \"/>\n",
       "<path style=\"fill-rule:nonzero;fill:rgb(100%,100%,0%);fill-opacity:0.25;stroke-width:2;stroke-linecap:butt;stroke-linejoin:miter;stroke:rgb(100%,100%,0%);stroke-opacity:1;stroke-miterlimit:10;\" d=\"M 140.800781 128.046875 L 149.132812 70.910156 C 150.933594 58.542969 140.929688 50.269531 129.121094 54.367188 L 122.191406 56.773438 C 110.382812 60.871094 100.738281 77.277344 102.902344 89.589844 L 105.679688 105.359375 C 107.28125 114.484375 116.199219 129.304688 123.507812 135 C 130.820312 140.691406 139.464844 137.21875 140.800781 128.046875 \"/>\n",
       "<path style=\"fill-rule:nonzero;fill:rgb(100%,0%,100%);fill-opacity:0.25;stroke-width:2;stroke-linecap:butt;stroke-linejoin:miter;stroke:rgb(100%,0%,100%);stroke-opacity:1;stroke-miterlimit:10;\" d=\"M 176.027344 135.515625 L 167.707031 130.339844 C 157.09375 123.738281 135.660156 123.394531 124.839844 129.652344 L 113.199219 136.390625 C 104.441406 141.457031 94.082031 156.511719 92.476562 166.5 C 90.871094 176.492188 97.695312 192.082031 106.117188 197.683594 L 113.816406 202.800781 C 124.222656 209.722656 145.464844 210.402344 156.292969 204.160156 L 165.488281 198.863281 C 174.730469 193.535156 186.511719 177.855469 189.054688 167.496094 C 191.59375 157.140625 185.082031 141.148438 176.027344 135.515625 \"/>\n",
       "<path style=\"fill:none;stroke-width:1;stroke-linecap:butt;stroke-linejoin:miter;stroke:rgb(20%,20%,20%);stroke-opacity:1;stroke-miterlimit:10;\" d=\"M 203.808594 153.894531 L 229.015625 141.753906 \"/>\n",
       "<path style=\"fill:none;stroke-width:1;stroke-linecap:butt;stroke-linejoin:miter;stroke:rgb(20%,20%,20%);stroke-opacity:1;stroke-miterlimit:10;\" d=\"M 203.808594 153.894531 L 230 165.648438 \"/>\n",
       "<path style=\"fill:none;stroke-width:1;stroke-linecap:butt;stroke-linejoin:miter;stroke:rgb(20%,20%,20%);stroke-opacity:1;stroke-miterlimit:10;\" d=\"M 133.910156 212.984375 L 109.296875 226.027344 \"/>\n",
       "<path style=\"fill:none;stroke-width:1;stroke-linecap:butt;stroke-linejoin:miter;stroke:rgb(20%,20%,20%);stroke-opacity:1;stroke-miterlimit:10;\" d=\"M 133.910156 212.984375 L 151.894531 230 \"/>\n",
       "<path style=\"fill:none;stroke-width:1;stroke-linecap:butt;stroke-linejoin:miter;stroke:rgb(20%,20%,20%);stroke-opacity:1;stroke-miterlimit:10;\" d=\"M 51.046875 40.328125 L 57.085938 20 \"/>\n",
       "<path style=\"fill:none;stroke-width:1;stroke-linecap:butt;stroke-linejoin:miter;stroke:rgb(20%,20%,20%);stroke-opacity:1;stroke-miterlimit:10;\" d=\"M 122.6875 102.761719 L 133.667969 121.789062 \"/>\n",
       "<path style=\"fill:none;stroke-width:1;stroke-linecap:butt;stroke-linejoin:miter;stroke:rgb(80%,80%,80%);stroke-opacity:1;stroke-miterlimit:10;\" d=\"M 133.667969 121.789062 L 143.636719 141.972656 \"/>\n",
       "<path style=\"fill:none;stroke-width:1;stroke-linecap:butt;stroke-linejoin:miter;stroke:rgb(20%,20%,20%);stroke-opacity:1;stroke-miterlimit:10;\" d=\"M 122.6875 102.761719 L 116.597656 82.292969 \"/>\n",
       "<path style=\"fill:none;stroke-width:1;stroke-linecap:butt;stroke-linejoin:miter;stroke:rgb(80%,80%,80%);stroke-opacity:1;stroke-miterlimit:10;\" d=\"M 203.808594 153.894531 L 170.730469 155.566406 \"/>\n",
       "<path style=\"fill:none;stroke-width:1;stroke-linecap:butt;stroke-linejoin:miter;stroke:rgb(20%,20%,20%);stroke-opacity:1;stroke-miterlimit:10;\" d=\"M 143.636719 141.972656 L 170.730469 155.566406 \"/>\n",
       "<path style=\"fill:none;stroke-width:1;stroke-linecap:butt;stroke-linejoin:miter;stroke:rgb(80%,80%,80%);stroke-opacity:1;stroke-miterlimit:10;\" d=\"M 116.597656 82.292969 L 90.136719 70.972656 \"/>\n",
       "<path style=\"fill:none;stroke-width:1;stroke-linecap:butt;stroke-linejoin:miter;stroke:rgb(20%,20%,20%);stroke-opacity:1;stroke-miterlimit:10;\" d=\"M 51.046875 40.328125 L 69.613281 56.433594 \"/>\n",
       "<path style=\"fill:none;stroke-width:1;stroke-linecap:butt;stroke-linejoin:miter;stroke:rgb(20%,20%,20%);stroke-opacity:1;stroke-miterlimit:10;\" d=\"M 90.136719 70.972656 L 69.613281 56.433594 \"/>\n",
       "<path style=\"fill:none;stroke-width:1;stroke-linecap:butt;stroke-linejoin:miter;stroke:rgb(80%,80%,80%);stroke-opacity:1;stroke-miterlimit:10;\" d=\"M 133.910156 212.984375 L 137.699219 191.832031 \"/>\n",
       "<path style=\"fill:none;stroke-width:1;stroke-linecap:butt;stroke-linejoin:miter;stroke:rgb(20%,20%,20%);stroke-opacity:1;stroke-miterlimit:10;\" d=\"M 143.636719 141.972656 L 118.484375 156.773438 \"/>\n",
       "<path style=\"fill:none;stroke-width:1;stroke-linecap:butt;stroke-linejoin:miter;stroke:rgb(20%,20%,20%);stroke-opacity:1;stroke-miterlimit:10;\" d=\"M 170.730469 155.566406 L 161.570312 177.105469 \"/>\n",
       "<path style=\"fill:none;stroke-width:1;stroke-linecap:butt;stroke-linejoin:miter;stroke:rgb(20%,20%,20%);stroke-opacity:1;stroke-miterlimit:10;\" d=\"M 137.699219 191.832031 L 161.570312 177.105469 \"/>\n",
       "<path style=\"fill:none;stroke-width:1;stroke-linecap:butt;stroke-linejoin:miter;stroke:rgb(20%,20%,20%);stroke-opacity:1;stroke-miterlimit:10;\" d=\"M 137.699219 191.832031 L 112.621094 177.558594 \"/>\n",
       "<path style=\"fill:none;stroke-width:1;stroke-linecap:butt;stroke-linejoin:miter;stroke:rgb(20%,20%,20%);stroke-opacity:1;stroke-miterlimit:10;\" d=\"M 118.484375 156.773438 L 112.621094 177.558594 \"/>\n",
       "<path style=\"fill:none;stroke-width:1;stroke-linecap:butt;stroke-linejoin:miter;stroke:rgb(20%,20%,20%);stroke-opacity:1;stroke-miterlimit:10;\" d=\"M 116.597656 82.292969 L 141.441406 68.476562 \"/>\n",
       "<path style=\"fill:none;stroke-width:1;stroke-linecap:butt;stroke-linejoin:miter;stroke:rgb(20%,20%,20%);stroke-opacity:1;stroke-miterlimit:10;\" d=\"M 51.046875 40.328125 L 20 39.277344 \"/>\n",
       "<path style=\"fill-rule:nonzero;fill:rgb(100%,0%,0%);fill-opacity:1;stroke-width:1;stroke-linecap:butt;stroke-linejoin:miter;stroke:rgb(0%,0%,0%);stroke-opacity:1;stroke-miterlimit:10;\" d=\"M 213.808594 153.894531 C 213.808594 159.417969 209.328125 163.894531 203.808594 163.894531 C 198.285156 163.894531 193.808594 159.417969 193.808594 153.894531 C 193.808594 148.371094 198.285156 143.894531 203.808594 143.894531 C 209.328125 143.894531 213.808594 148.371094 213.808594 153.894531 \"/>\n",
       "<path style=\"fill-rule:nonzero;fill:rgb(100%,0%,0%);fill-opacity:1;stroke-width:1;stroke-linecap:butt;stroke-linejoin:miter;stroke:rgb(0%,0%,0%);stroke-opacity:1;stroke-miterlimit:10;\" d=\"M 239.015625 141.753906 C 239.015625 147.273438 234.539062 151.753906 229.015625 151.753906 C 223.492188 151.753906 219.015625 147.273438 219.015625 141.753906 C 219.015625 136.230469 223.492188 131.753906 229.015625 131.753906 C 234.539062 131.753906 239.015625 136.230469 239.015625 141.753906 \"/>\n",
       "<path style=\"fill-rule:nonzero;fill:rgb(100%,0%,0%);fill-opacity:1;stroke-width:1;stroke-linecap:butt;stroke-linejoin:miter;stroke:rgb(0%,0%,0%);stroke-opacity:1;stroke-miterlimit:10;\" d=\"M 240 165.648438 C 240 171.171875 235.523438 175.648438 230 175.648438 C 224.476562 175.648438 220 171.171875 220 165.648438 C 220 160.125 224.476562 155.648438 230 155.648438 C 235.523438 155.648438 240 160.125 240 165.648438 \"/>\n",
       "<path style=\"fill-rule:nonzero;fill:rgb(0%,100%,0%);fill-opacity:1;stroke-width:1;stroke-linecap:butt;stroke-linejoin:miter;stroke:rgb(0%,0%,0%);stroke-opacity:1;stroke-miterlimit:10;\" d=\"M 143.910156 212.984375 C 143.910156 218.507812 139.433594 222.984375 133.910156 222.984375 C 128.386719 222.984375 123.910156 218.507812 123.910156 212.984375 C 123.910156 207.460938 128.386719 202.984375 133.910156 202.984375 C 139.433594 202.984375 143.910156 207.460938 143.910156 212.984375 \"/>\n",
       "<path style=\"fill-rule:nonzero;fill:rgb(0%,100%,0%);fill-opacity:1;stroke-width:1;stroke-linecap:butt;stroke-linejoin:miter;stroke:rgb(0%,0%,0%);stroke-opacity:1;stroke-miterlimit:10;\" d=\"M 119.296875 226.027344 C 119.296875 231.550781 114.820312 236.027344 109.296875 236.027344 C 103.773438 236.027344 99.296875 231.550781 99.296875 226.027344 C 99.296875 220.503906 103.773438 216.027344 109.296875 216.027344 C 114.820312 216.027344 119.296875 220.503906 119.296875 226.027344 \"/>\n",
       "<path style=\"fill-rule:nonzero;fill:rgb(0%,100%,0%);fill-opacity:1;stroke-width:1;stroke-linecap:butt;stroke-linejoin:miter;stroke:rgb(0%,0%,0%);stroke-opacity:1;stroke-miterlimit:10;\" d=\"M 161.894531 230 C 161.894531 235.523438 157.417969 240 151.894531 240 C 146.371094 240 141.894531 235.523438 141.894531 230 C 141.894531 224.476562 146.371094 220 151.894531 220 C 157.417969 220 161.894531 224.476562 161.894531 230 \"/>\n",
       "<path style=\"fill-rule:nonzero;fill:rgb(0%,0%,100%);fill-opacity:1;stroke-width:1;stroke-linecap:butt;stroke-linejoin:miter;stroke:rgb(0%,0%,0%);stroke-opacity:1;stroke-miterlimit:10;\" d=\"M 61.046875 40.328125 C 61.046875 45.851562 56.570312 50.328125 51.046875 50.328125 C 45.523438 50.328125 41.046875 45.851562 41.046875 40.328125 C 41.046875 34.804688 45.523438 30.328125 51.046875 30.328125 C 56.570312 30.328125 61.046875 34.804688 61.046875 40.328125 \"/>\n",
       "<path style=\"fill-rule:nonzero;fill:rgb(0%,0%,100%);fill-opacity:1;stroke-width:1;stroke-linecap:butt;stroke-linejoin:miter;stroke:rgb(0%,0%,0%);stroke-opacity:1;stroke-miterlimit:10;\" d=\"M 67.085938 20 C 67.085938 25.523438 62.609375 30 57.085938 30 C 51.5625 30 47.085938 25.523438 47.085938 20 C 47.085938 14.476562 51.5625 10 57.085938 10 C 62.609375 10 67.085938 14.476562 67.085938 20 \"/>\n",
       "<path style=\"fill-rule:nonzero;fill:rgb(100%,100%,0%);fill-opacity:1;stroke-width:1;stroke-linecap:butt;stroke-linejoin:miter;stroke:rgb(0%,0%,0%);stroke-opacity:1;stroke-miterlimit:10;\" d=\"M 132.6875 102.761719 C 132.6875 108.285156 128.207031 112.761719 122.6875 112.761719 C 117.164062 112.761719 112.6875 108.285156 112.6875 102.761719 C 112.6875 97.238281 117.164062 92.761719 122.6875 92.761719 C 128.207031 92.761719 132.6875 97.238281 132.6875 102.761719 \"/>\n",
       "<path style=\"fill-rule:nonzero;fill:rgb(100%,100%,0%);fill-opacity:1;stroke-width:1;stroke-linecap:butt;stroke-linejoin:miter;stroke:rgb(0%,0%,0%);stroke-opacity:1;stroke-miterlimit:10;\" d=\"M 143.667969 121.789062 C 143.667969 127.3125 139.191406 131.789062 133.667969 131.789062 C 128.144531 131.789062 123.667969 127.3125 123.667969 121.789062 C 123.667969 116.265625 128.144531 111.789062 133.667969 111.789062 C 139.191406 111.789062 143.667969 116.265625 143.667969 121.789062 \"/>\n",
       "<path style=\"fill-rule:nonzero;fill:rgb(100%,0%,100%);fill-opacity:1;stroke-width:1;stroke-linecap:butt;stroke-linejoin:miter;stroke:rgb(0%,0%,0%);stroke-opacity:1;stroke-miterlimit:10;\" d=\"M 153.636719 141.972656 C 153.636719 147.492188 149.15625 151.972656 143.636719 151.972656 C 138.113281 151.972656 133.636719 147.492188 133.636719 141.972656 C 133.636719 136.449219 138.113281 131.972656 143.636719 131.972656 C 149.15625 131.972656 153.636719 136.449219 153.636719 141.972656 \"/>\n",
       "<path style=\"fill-rule:nonzero;fill:rgb(100%,100%,0%);fill-opacity:1;stroke-width:1;stroke-linecap:butt;stroke-linejoin:miter;stroke:rgb(0%,0%,0%);stroke-opacity:1;stroke-miterlimit:10;\" d=\"M 126.597656 82.292969 C 126.597656 87.816406 122.117188 92.292969 116.597656 92.292969 C 111.074219 92.292969 106.597656 87.816406 106.597656 82.292969 C 106.597656 76.769531 111.074219 72.292969 116.597656 72.292969 C 122.117188 72.292969 126.597656 76.769531 126.597656 82.292969 \"/>\n",
       "<path style=\"fill-rule:nonzero;fill:rgb(100%,0%,100%);fill-opacity:1;stroke-width:1;stroke-linecap:butt;stroke-linejoin:miter;stroke:rgb(0%,0%,0%);stroke-opacity:1;stroke-miterlimit:10;\" d=\"M 180.730469 155.566406 C 180.730469 161.089844 176.253906 165.566406 170.730469 165.566406 C 165.207031 165.566406 160.730469 161.089844 160.730469 155.566406 C 160.730469 150.042969 165.207031 145.566406 170.730469 145.566406 C 176.253906 145.566406 180.730469 150.042969 180.730469 155.566406 \"/>\n",
       "<path style=\"fill-rule:nonzero;fill:rgb(0%,0%,100%);fill-opacity:1;stroke-width:1;stroke-linecap:butt;stroke-linejoin:miter;stroke:rgb(0%,0%,0%);stroke-opacity:1;stroke-miterlimit:10;\" d=\"M 100.136719 70.972656 C 100.136719 76.496094 95.660156 80.972656 90.136719 80.972656 C 84.613281 80.972656 80.136719 76.496094 80.136719 70.972656 C 80.136719 65.449219 84.613281 60.972656 90.136719 60.972656 C 95.660156 60.972656 100.136719 65.449219 100.136719 70.972656 \"/>\n",
       "<path style=\"fill-rule:nonzero;fill:rgb(0%,0%,100%);fill-opacity:1;stroke-width:1;stroke-linecap:butt;stroke-linejoin:miter;stroke:rgb(0%,0%,0%);stroke-opacity:1;stroke-miterlimit:10;\" d=\"M 79.613281 56.433594 C 79.613281 61.957031 75.132812 66.433594 69.613281 66.433594 C 64.089844 66.433594 59.613281 61.957031 59.613281 56.433594 C 59.613281 50.910156 64.089844 46.433594 69.613281 46.433594 C 75.132812 46.433594 79.613281 50.910156 79.613281 56.433594 \"/>\n",
       "<path style=\"fill-rule:nonzero;fill:rgb(100%,0%,100%);fill-opacity:1;stroke-width:1;stroke-linecap:butt;stroke-linejoin:miter;stroke:rgb(0%,0%,0%);stroke-opacity:1;stroke-miterlimit:10;\" d=\"M 147.699219 191.832031 C 147.699219 197.355469 143.222656 201.832031 137.699219 201.832031 C 132.175781 201.832031 127.699219 197.355469 127.699219 191.832031 C 127.699219 186.308594 132.175781 181.832031 137.699219 181.832031 C 143.222656 181.832031 147.699219 186.308594 147.699219 191.832031 \"/>\n",
       "<path style=\"fill-rule:nonzero;fill:rgb(100%,0%,100%);fill-opacity:1;stroke-width:1;stroke-linecap:butt;stroke-linejoin:miter;stroke:rgb(0%,0%,0%);stroke-opacity:1;stroke-miterlimit:10;\" d=\"M 128.484375 156.773438 C 128.484375 162.296875 124.007812 166.773438 118.484375 166.773438 C 112.964844 166.773438 108.484375 162.296875 108.484375 156.773438 C 108.484375 151.25 112.964844 146.773438 118.484375 146.773438 C 124.007812 146.773438 128.484375 151.25 128.484375 156.773438 \"/>\n",
       "<path style=\"fill-rule:nonzero;fill:rgb(100%,0%,100%);fill-opacity:1;stroke-width:1;stroke-linecap:butt;stroke-linejoin:miter;stroke:rgb(0%,0%,0%);stroke-opacity:1;stroke-miterlimit:10;\" d=\"M 171.570312 177.105469 C 171.570312 182.628906 167.09375 187.105469 161.570312 187.105469 C 156.050781 187.105469 151.570312 182.628906 151.570312 177.105469 C 151.570312 171.582031 156.050781 167.105469 161.570312 167.105469 C 167.09375 167.105469 171.570312 171.582031 171.570312 177.105469 \"/>\n",
       "<path style=\"fill-rule:nonzero;fill:rgb(100%,0%,100%);fill-opacity:1;stroke-width:1;stroke-linecap:butt;stroke-linejoin:miter;stroke:rgb(0%,0%,0%);stroke-opacity:1;stroke-miterlimit:10;\" d=\"M 122.621094 177.558594 C 122.621094 183.082031 118.144531 187.558594 112.621094 187.558594 C 107.101562 187.558594 102.621094 183.082031 102.621094 177.558594 C 102.621094 172.039062 107.101562 167.558594 112.621094 167.558594 C 118.144531 167.558594 122.621094 172.039062 122.621094 177.558594 \"/>\n",
       "<path style=\"fill-rule:nonzero;fill:rgb(100%,100%,0%);fill-opacity:1;stroke-width:1;stroke-linecap:butt;stroke-linejoin:miter;stroke:rgb(0%,0%,0%);stroke-opacity:1;stroke-miterlimit:10;\" d=\"M 151.441406 68.476562 C 151.441406 73.996094 146.964844 78.476562 141.441406 78.476562 C 135.917969 78.476562 131.441406 73.996094 131.441406 68.476562 C 131.441406 62.953125 135.917969 58.476562 141.441406 58.476562 C 146.964844 58.476562 151.441406 62.953125 151.441406 68.476562 \"/>\n",
       "<path style=\"fill-rule:nonzero;fill:rgb(0%,0%,100%);fill-opacity:1;stroke-width:1;stroke-linecap:butt;stroke-linejoin:miter;stroke:rgb(0%,0%,0%);stroke-opacity:1;stroke-miterlimit:10;\" d=\"M 30 39.277344 C 30 44.800781 25.523438 49.277344 20 49.277344 C 14.476562 49.277344 10 44.800781 10 39.277344 C 10 33.753906 14.476562 29.277344 20 29.277344 C 25.523438 29.277344 30 33.753906 30 39.277344 \"/>\n",
       "<g style=\"fill:rgb(0%,0%,0%);fill-opacity:1;\">\n",
       "  <use xlink:href=\"#glyph0-1\" x=\"199.542969\" y=\"160.742188\"/>\n",
       "</g>\n",
       "<g style=\"fill:rgb(0%,0%,0%);fill-opacity:1;\">\n",
       "  <use xlink:href=\"#glyph0-2\" x=\"224.4375\" y=\"148.507812\"/>\n",
       "</g>\n",
       "<g style=\"fill:rgb(0%,0%,0%);fill-opacity:1;\">\n",
       "  <use xlink:href=\"#glyph0-2\" x=\"225.421875\" y=\"172.402344\"/>\n",
       "</g>\n",
       "<g style=\"fill:rgb(0%,0%,0%);fill-opacity:1;\">\n",
       "  <use xlink:href=\"#glyph0-1\" x=\"129.644531\" y=\"219.832031\"/>\n",
       "</g>\n",
       "<g style=\"fill:rgb(0%,0%,0%);fill-opacity:1;\">\n",
       "  <use xlink:href=\"#glyph0-2\" x=\"104.722656\" y=\"232.78125\"/>\n",
       "</g>\n",
       "<g style=\"fill:rgb(0%,0%,0%);fill-opacity:1;\">\n",
       "  <use xlink:href=\"#glyph0-2\" x=\"147.316406\" y=\"236.753906\"/>\n",
       "</g>\n",
       "<g style=\"fill:rgb(0%,0%,0%);fill-opacity:1;\">\n",
       "  <use xlink:href=\"#glyph0-3\" x=\"46.621094\" y=\"47.171875\"/>\n",
       "</g>\n",
       "<g style=\"fill:rgb(0%,0%,0%);fill-opacity:1;\">\n",
       "  <use xlink:href=\"#glyph0-2\" x=\"52.507812\" y=\"26.753906\"/>\n",
       "</g>\n",
       "<g style=\"fill:rgb(0%,0%,0%);fill-opacity:1;\">\n",
       "  <use xlink:href=\"#glyph0-1\" x=\"118.421875\" y=\"109.609375\"/>\n",
       "</g>\n",
       "<g style=\"fill:rgb(0%,0%,0%);fill-opacity:1;\">\n",
       "  <use xlink:href=\"#glyph0-1\" x=\"129.402344\" y=\"128.632812\"/>\n",
       "</g>\n",
       "<g style=\"fill:rgb(0%,0%,0%);fill-opacity:1;\">\n",
       "  <use xlink:href=\"#glyph0-3\" x=\"139.207031\" y=\"148.816406\"/>\n",
       "</g>\n",
       "<g style=\"fill:rgb(0%,0%,0%);fill-opacity:1;\">\n",
       "  <use xlink:href=\"#glyph0-3\" x=\"112.167969\" y=\"89.136719\"/>\n",
       "</g>\n",
       "<g style=\"fill:rgb(0%,0%,0%);fill-opacity:1;\">\n",
       "  <use xlink:href=\"#glyph0-3\" x=\"166.304688\" y=\"162.410156\"/>\n",
       "</g>\n",
       "<g style=\"fill:rgb(0%,0%,0%);fill-opacity:1;\">\n",
       "  <use xlink:href=\"#glyph0-1\" x=\"85.871094\" y=\"77.816406\"/>\n",
       "</g>\n",
       "<g style=\"fill:rgb(0%,0%,0%);fill-opacity:1;\">\n",
       "  <use xlink:href=\"#glyph0-3\" x=\"65.1875\" y=\"63.28125\"/>\n",
       "</g>\n",
       "<g style=\"fill:rgb(0%,0%,0%);fill-opacity:1;\">\n",
       "  <use xlink:href=\"#glyph0-3\" x=\"133.273438\" y=\"198.679688\"/>\n",
       "</g>\n",
       "<g style=\"fill:rgb(0%,0%,0%);fill-opacity:1;\">\n",
       "  <use xlink:href=\"#glyph0-3\" x=\"114.058594\" y=\"163.621094\"/>\n",
       "</g>\n",
       "<g style=\"fill:rgb(0%,0%,0%);fill-opacity:1;\">\n",
       "  <use xlink:href=\"#glyph0-3\" x=\"157.144531\" y=\"183.953125\"/>\n",
       "</g>\n",
       "<g style=\"fill:rgb(0%,0%,0%);fill-opacity:1;\">\n",
       "  <use xlink:href=\"#glyph0-3\" x=\"108.195312\" y=\"184.40625\"/>\n",
       "</g>\n",
       "<g style=\"fill:rgb(0%,0%,0%);fill-opacity:1;\">\n",
       "  <use xlink:href=\"#glyph0-3\" x=\"137.015625\" y=\"75.320312\"/>\n",
       "</g>\n",
       "<g style=\"fill:rgb(0%,0%,0%);fill-opacity:1;\">\n",
       "  <use xlink:href=\"#glyph0-3\" x=\"15.574219\" y=\"46.121094\"/>\n",
       "</g>\n",
       "</g>\n",
       "</svg>\n"
      ],
      "text/plain": [
       "<igraph.drawing.cairo.plot.CairoPlot at 0x7f4247530490>"
      ]
     },
     "execution_count": 189,
     "metadata": {
      "image/svg+xml": {
       "isolated": true
      }
     },
     "output_type": "execute_result"
    }
   ],
   "source": [
    "igraph.plot(clusterings[0], mark_groups=True, bbox=(250, 250))"
   ]
  },
  {
   "cell_type": "code",
   "execution_count": 299,
   "id": "661e1ccb-6f1f-4a60-a36f-7083fcb6e32b",
   "metadata": {},
   "outputs": [
    {
     "data": {
      "image/svg+xml": [
       "<?xml version=\"1.0\" encoding=\"UTF-8\"?>\n",
       "<svg xmlns=\"http://www.w3.org/2000/svg\" xmlns:xlink=\"http://www.w3.org/1999/xlink\" width=\"300pt\" height=\"300pt\" viewBox=\"0 0 300 300\" version=\"1.1\">\n",
       "<defs>\n",
       "<g>\n",
       "<symbol overflow=\"visible\" id=\"glyph0-0\">\n",
       "<path style=\"stroke:none;\" d=\"M 0.703125 2.46875 L 0.703125 -9.875 L 7.703125 -9.875 L 7.703125 2.46875 Z M 1.484375 1.703125 L 6.921875 1.703125 L 6.921875 -9.078125 L 1.484375 -9.078125 Z M 1.484375 1.703125 \"/>\n",
       "</symbol>\n",
       "<symbol overflow=\"visible\" id=\"glyph0-1\">\n",
       "<path style=\"stroke:none;\" d=\"M 5.6875 -5.5 C 6.34375 -5.363281 6.851562 -5.070312 7.21875 -4.625 C 7.59375 -4.175781 7.78125 -3.625 7.78125 -2.96875 C 7.78125 -1.957031 7.429688 -1.175781 6.734375 -0.625 C 6.046875 -0.0703125 5.066406 0.203125 3.796875 0.203125 C 3.367188 0.203125 2.925781 0.15625 2.46875 0.0625 C 2.019531 -0.0195312 1.550781 -0.144531 1.0625 -0.3125 L 1.0625 -1.640625 C 1.445312 -1.421875 1.867188 -1.253906 2.328125 -1.140625 C 2.785156 -1.023438 3.257812 -0.96875 3.75 -0.96875 C 4.613281 -0.96875 5.269531 -1.132812 5.71875 -1.46875 C 6.175781 -1.8125 6.40625 -2.3125 6.40625 -2.96875 C 6.40625 -3.570312 6.191406 -4.039062 5.765625 -4.375 C 5.347656 -4.71875 4.765625 -4.890625 4.015625 -4.890625 L 2.828125 -4.890625 L 2.828125 -6.015625 L 4.078125 -6.015625 C 4.753906 -6.015625 5.269531 -6.148438 5.625 -6.421875 C 5.988281 -6.703125 6.171875 -7.097656 6.171875 -7.609375 C 6.171875 -8.128906 5.984375 -8.53125 5.609375 -8.8125 C 5.242188 -9.09375 4.710938 -9.234375 4.015625 -9.234375 C 3.640625 -9.234375 3.234375 -9.191406 2.796875 -9.109375 C 2.367188 -9.023438 1.894531 -8.894531 1.375 -8.71875 L 1.375 -9.953125 C 1.894531 -10.097656 2.382812 -10.207031 2.84375 -10.28125 C 3.300781 -10.351562 3.734375 -10.390625 4.140625 -10.390625 C 5.191406 -10.390625 6.019531 -10.148438 6.625 -9.671875 C 7.238281 -9.203125 7.546875 -8.5625 7.546875 -7.75 C 7.546875 -7.175781 7.382812 -6.695312 7.0625 -6.3125 C 6.738281 -5.925781 6.28125 -5.65625 5.6875 -5.5 Z M 5.6875 -5.5 \"/>\n",
       "</symbol>\n",
       "<symbol overflow=\"visible\" id=\"glyph0-2\">\n",
       "<path style=\"stroke:none;\" d=\"M 5.296875 -9 L 1.8125 -3.5625 L 5.296875 -3.5625 Z M 4.921875 -10.203125 L 6.671875 -10.203125 L 6.671875 -3.5625 L 8.125 -3.5625 L 8.125 -2.40625 L 6.671875 -2.40625 L 6.671875 0 L 5.296875 0 L 5.296875 -2.40625 L 0.6875 -2.40625 L 0.6875 -3.734375 Z M 4.921875 -10.203125 \"/>\n",
       "</symbol>\n",
       "<symbol overflow=\"visible\" id=\"glyph0-3\">\n",
       "<path style=\"stroke:none;\" d=\"M 1.734375 -1.15625 L 4 -1.15625 L 4 -8.953125 L 1.53125 -8.453125 L 1.53125 -9.71875 L 3.984375 -10.203125 L 5.359375 -10.203125 L 5.359375 -1.15625 L 7.609375 -1.15625 L 7.609375 0 L 1.734375 0 Z M 1.734375 -1.15625 \"/>\n",
       "</symbol>\n",
       "<symbol overflow=\"visible\" id=\"glyph0-4\">\n",
       "<path style=\"stroke:none;\" d=\"M 2.6875 -1.15625 L 7.5 -1.15625 L 7.5 0 L 1.03125 0 L 1.03125 -1.15625 C 1.550781 -1.695312 2.265625 -2.425781 3.171875 -3.34375 C 4.078125 -4.257812 4.644531 -4.847656 4.875 -5.109375 C 5.3125 -5.609375 5.617188 -6.03125 5.796875 -6.375 C 5.972656 -6.71875 6.0625 -7.054688 6.0625 -7.390625 C 6.0625 -7.929688 5.867188 -8.375 5.484375 -8.71875 C 5.109375 -9.0625 4.613281 -9.234375 4 -9.234375 C 3.570312 -9.234375 3.117188 -9.15625 2.640625 -9 C 2.160156 -8.851562 1.644531 -8.625 1.09375 -8.3125 L 1.09375 -9.71875 C 1.644531 -9.9375 2.160156 -10.101562 2.640625 -10.21875 C 3.128906 -10.332031 3.578125 -10.390625 3.984375 -10.390625 C 5.035156 -10.390625 5.875 -10.125 6.5 -9.59375 C 7.132812 -9.070312 7.453125 -8.367188 7.453125 -7.484375 C 7.453125 -7.054688 7.375 -6.65625 7.21875 -6.28125 C 7.0625 -5.90625 6.773438 -5.460938 6.359375 -4.953125 C 6.242188 -4.828125 5.878906 -4.445312 5.265625 -3.8125 C 4.660156 -3.175781 3.800781 -2.289062 2.6875 -1.15625 Z M 2.6875 -1.15625 \"/>\n",
       "</symbol>\n",
       "</g>\n",
       "</defs>\n",
       "<g id=\"surface200\">\n",
       "<rect x=\"0\" y=\"0\" width=\"300\" height=\"300\" style=\"fill:rgb(100%,100%,100%);fill-opacity:1;stroke:none;\"/>\n",
       "<path style=\"fill:none;stroke-width:1;stroke-linecap:butt;stroke-linejoin:miter;stroke:rgb(26.666667%,26.666667%,26.666667%);stroke-opacity:1;stroke-miterlimit:10;\" d=\"M 173.957031 139.117188 L 192.011719 159.320312 \"/>\n",
       "<path style=\"fill:none;stroke-width:1;stroke-linecap:butt;stroke-linejoin:miter;stroke:rgb(26.666667%,26.666667%,26.666667%);stroke-opacity:1;stroke-miterlimit:10;\" d=\"M 122.84375 192.742188 L 137.015625 216.398438 \"/>\n",
       "<path style=\"fill:none;stroke-width:1;stroke-linecap:butt;stroke-linejoin:miter;stroke:rgb(26.666667%,26.666667%,26.666667%);stroke-opacity:1;stroke-miterlimit:10;\" d=\"M 137.015625 216.398438 L 148.171875 240.625 \"/>\n",
       "<path style=\"fill:none;stroke-width:1;stroke-linecap:butt;stroke-linejoin:miter;stroke:rgb(26.666667%,26.666667%,26.666667%);stroke-opacity:1;stroke-miterlimit:10;\" d=\"M 122.84375 192.742188 L 128.488281 163.226562 \"/>\n",
       "<path style=\"fill:none;stroke-width:1;stroke-linecap:butt;stroke-linejoin:miter;stroke:rgb(26.666667%,26.666667%,26.666667%);stroke-opacity:1;stroke-miterlimit:10;\" d=\"M 173.957031 139.117188 L 150.492188 148.890625 \"/>\n",
       "<path style=\"fill:none;stroke-width:1;stroke-linecap:butt;stroke-linejoin:miter;stroke:rgb(26.666667%,26.666667%,26.666667%);stroke-opacity:1;stroke-miterlimit:10;\" d=\"M 128.488281 163.226562 L 150.492188 148.890625 \"/>\n",
       "<path style=\"fill:none;stroke-width:1;stroke-linecap:butt;stroke-linejoin:miter;stroke:rgb(26.666667%,26.666667%,26.666667%);stroke-opacity:1;stroke-miterlimit:10;\" d=\"M 82.863281 222.289062 L 59.738281 231.550781 \"/>\n",
       "<path style=\"fill:none;stroke-width:1;stroke-linecap:butt;stroke-linejoin:miter;stroke:rgb(26.666667%,26.666667%,26.666667%);stroke-opacity:1;stroke-miterlimit:10;\" d=\"M 122.84375 192.742188 L 96.914062 198.003906 \"/>\n",
       "<path style=\"fill:none;stroke-width:1;stroke-linecap:butt;stroke-linejoin:miter;stroke:rgb(26.666667%,26.666667%,26.666667%);stroke-opacity:1;stroke-miterlimit:10;\" d=\"M 82.863281 222.289062 L 96.914062 198.003906 \"/>\n",
       "<path style=\"fill:none;stroke-width:1;stroke-linecap:butt;stroke-linejoin:miter;stroke:rgb(26.666667%,26.666667%,26.666667%);stroke-opacity:1;stroke-miterlimit:10;\" d=\"M 96.914062 198.003906 L 86.714844 171.890625 \"/>\n",
       "<path style=\"fill:none;stroke-width:1;stroke-linecap:butt;stroke-linejoin:miter;stroke:rgb(26.666667%,26.666667%,26.666667%);stroke-opacity:1;stroke-miterlimit:10;\" d=\"M 173.957031 139.117188 L 187.457031 115.59375 \"/>\n",
       "<path style=\"fill:none;stroke-width:1;stroke-linecap:butt;stroke-linejoin:miter;stroke:rgb(26.666667%,26.666667%,26.666667%);stroke-opacity:1;stroke-miterlimit:10;\" d=\"M 187.457031 115.59375 L 205.824219 97.234375 \"/>\n",
       "<path style=\"fill:none;stroke-width:1;stroke-linecap:butt;stroke-linejoin:miter;stroke:rgb(26.666667%,26.666667%,26.666667%);stroke-opacity:1;stroke-miterlimit:10;\" d=\"M 128.488281 163.226562 L 104.847656 151.128906 \"/>\n",
       "<path style=\"fill:none;stroke-width:1;stroke-linecap:butt;stroke-linejoin:miter;stroke:rgb(26.666667%,26.666667%,26.666667%);stroke-opacity:1;stroke-miterlimit:10;\" d=\"M 86.714844 171.890625 L 104.847656 151.128906 \"/>\n",
       "<path style=\"fill:none;stroke-width:1;stroke-linecap:butt;stroke-linejoin:miter;stroke:rgb(26.666667%,26.666667%,26.666667%);stroke-opacity:1;stroke-miterlimit:10;\" d=\"M 104.847656 151.128906 L 90.597656 126.964844 \"/>\n",
       "<path style=\"fill:none;stroke-width:1;stroke-linecap:butt;stroke-linejoin:miter;stroke:rgb(26.666667%,26.666667%,26.666667%);stroke-opacity:1;stroke-miterlimit:10;\" d=\"M 86.714844 171.890625 L 62.867188 161.558594 \"/>\n",
       "<path style=\"fill:none;stroke-width:1;stroke-linecap:butt;stroke-linejoin:miter;stroke:rgb(26.666667%,26.666667%,26.666667%);stroke-opacity:1;stroke-miterlimit:10;\" d=\"M 90.597656 126.964844 L 66.980469 117.351562 \"/>\n",
       "<path style=\"fill:none;stroke-width:1;stroke-linecap:butt;stroke-linejoin:miter;stroke:rgb(26.666667%,26.666667%,26.666667%);stroke-opacity:1;stroke-miterlimit:10;\" d=\"M 62.867188 161.558594 L 50 137.785156 \"/>\n",
       "<path style=\"fill:none;stroke-width:1;stroke-linecap:butt;stroke-linejoin:miter;stroke:rgb(26.666667%,26.666667%,26.666667%);stroke-opacity:1;stroke-miterlimit:10;\" d=\"M 66.980469 117.351562 L 50 137.785156 \"/>\n",
       "<path style=\"fill:none;stroke-width:1;stroke-linecap:butt;stroke-linejoin:miter;stroke:rgb(26.666667%,26.666667%,26.666667%);stroke-opacity:1;stroke-miterlimit:10;\" d=\"M 82.863281 222.289062 L 84.140625 250 \"/>\n",
       "<path style=\"fill:none;stroke-width:1;stroke-linecap:butt;stroke-linejoin:miter;stroke:rgb(26.666667%,26.666667%,26.666667%);stroke-opacity:1;stroke-miterlimit:10;\" d=\"M 205.824219 97.234375 L 205.820312 68.570312 \"/>\n",
       "<path style=\"fill:none;stroke-width:1;stroke-linecap:butt;stroke-linejoin:miter;stroke:rgb(26.666667%,26.666667%,26.666667%);stroke-opacity:1;stroke-miterlimit:10;\" d=\"M 205.824219 97.234375 L 231.136719 101.105469 \"/>\n",
       "<path style=\"fill:none;stroke-width:1;stroke-linecap:butt;stroke-linejoin:miter;stroke:rgb(26.666667%,26.666667%,26.666667%);stroke-opacity:1;stroke-miterlimit:10;\" d=\"M 205.820312 68.570312 L 224.113281 50 \"/>\n",
       "<path style=\"fill:none;stroke-width:1;stroke-linecap:butt;stroke-linejoin:miter;stroke:rgb(26.666667%,26.666667%,26.666667%);stroke-opacity:1;stroke-miterlimit:10;\" d=\"M 231.136719 101.105469 L 250 83.496094 \"/>\n",
       "<path style=\"fill:none;stroke-width:1;stroke-linecap:butt;stroke-linejoin:miter;stroke:rgb(26.666667%,26.666667%,26.666667%);stroke-opacity:1;stroke-miterlimit:10;\" d=\"M 224.113281 50 L 248.5625 55.375 \"/>\n",
       "<path style=\"fill:none;stroke-width:1;stroke-linecap:butt;stroke-linejoin:miter;stroke:rgb(26.666667%,26.666667%,26.666667%);stroke-opacity:1;stroke-miterlimit:10;\" d=\"M 250 83.496094 L 248.5625 55.375 \"/>\n",
       "<path style=\"fill-rule:nonzero;fill:rgb(100%,100%,100%);fill-opacity:1;stroke-width:1;stroke-linecap:butt;stroke-linejoin:miter;stroke:rgb(0%,0%,0%);stroke-opacity:1;stroke-miterlimit:10;\" d=\"M 183.957031 139.117188 C 183.957031 144.640625 179.480469 149.117188 173.957031 149.117188 C 168.433594 149.117188 163.957031 144.640625 163.957031 139.117188 C 163.957031 133.59375 168.433594 129.117188 173.957031 129.117188 C 179.480469 129.117188 183.957031 133.59375 183.957031 139.117188 \"/>\n",
       "<path style=\"fill-rule:nonzero;fill:rgb(100%,100%,100%);fill-opacity:1;stroke-width:1;stroke-linecap:butt;stroke-linejoin:miter;stroke:rgb(0%,0%,0%);stroke-opacity:1;stroke-miterlimit:10;\" d=\"M 202.011719 159.320312 C 202.011719 164.84375 197.53125 169.320312 192.011719 169.320312 C 186.488281 169.320312 182.011719 164.84375 182.011719 159.320312 C 182.011719 153.796875 186.488281 149.320312 192.011719 149.320312 C 197.53125 149.320312 202.011719 153.796875 202.011719 159.320312 \"/>\n",
       "<path style=\"fill-rule:nonzero;fill:rgb(100%,100%,100%);fill-opacity:1;stroke-width:1;stroke-linecap:butt;stroke-linejoin:miter;stroke:rgb(0%,0%,0%);stroke-opacity:1;stroke-miterlimit:10;\" d=\"M 132.84375 192.742188 C 132.84375 198.265625 128.367188 202.742188 122.84375 202.742188 C 117.320312 202.742188 112.84375 198.265625 112.84375 192.742188 C 112.84375 187.21875 117.320312 182.742188 122.84375 182.742188 C 128.367188 182.742188 132.84375 187.21875 132.84375 192.742188 \"/>\n",
       "<path style=\"fill-rule:nonzero;fill:rgb(100%,100%,100%);fill-opacity:1;stroke-width:1;stroke-linecap:butt;stroke-linejoin:miter;stroke:rgb(0%,0%,0%);stroke-opacity:1;stroke-miterlimit:10;\" d=\"M 147.015625 216.398438 C 147.015625 221.921875 142.539062 226.398438 137.015625 226.398438 C 131.492188 226.398438 127.015625 221.921875 127.015625 216.398438 C 127.015625 210.875 131.492188 206.398438 137.015625 206.398438 C 142.539062 206.398438 147.015625 210.875 147.015625 216.398438 \"/>\n",
       "<path style=\"fill-rule:nonzero;fill:rgb(100%,100%,100%);fill-opacity:1;stroke-width:1;stroke-linecap:butt;stroke-linejoin:miter;stroke:rgb(0%,0%,0%);stroke-opacity:1;stroke-miterlimit:10;\" d=\"M 158.171875 240.625 C 158.171875 246.148438 153.695312 250.625 148.171875 250.625 C 142.652344 250.625 138.171875 246.148438 138.171875 240.625 C 138.171875 235.101562 142.652344 230.625 148.171875 230.625 C 153.695312 230.625 158.171875 235.101562 158.171875 240.625 \"/>\n",
       "<path style=\"fill-rule:nonzero;fill:rgb(100%,100%,100%);fill-opacity:1;stroke-width:1;stroke-linecap:butt;stroke-linejoin:miter;stroke:rgb(0%,0%,0%);stroke-opacity:1;stroke-miterlimit:10;\" d=\"M 138.488281 163.226562 C 138.488281 168.75 134.007812 173.226562 128.488281 173.226562 C 122.964844 173.226562 118.488281 168.75 118.488281 163.226562 C 118.488281 157.703125 122.964844 153.226562 128.488281 153.226562 C 134.007812 153.226562 138.488281 157.703125 138.488281 163.226562 \"/>\n",
       "<path style=\"fill-rule:nonzero;fill:rgb(100%,100%,100%);fill-opacity:1;stroke-width:1;stroke-linecap:butt;stroke-linejoin:miter;stroke:rgb(0%,0%,0%);stroke-opacity:1;stroke-miterlimit:10;\" d=\"M 160.492188 148.890625 C 160.492188 154.414062 156.015625 158.890625 150.492188 158.890625 C 144.96875 158.890625 140.492188 154.414062 140.492188 148.890625 C 140.492188 143.367188 144.96875 138.890625 150.492188 138.890625 C 156.015625 138.890625 160.492188 143.367188 160.492188 148.890625 \"/>\n",
       "<path style=\"fill-rule:nonzero;fill:rgb(100%,100%,100%);fill-opacity:1;stroke-width:1;stroke-linecap:butt;stroke-linejoin:miter;stroke:rgb(0%,0%,0%);stroke-opacity:1;stroke-miterlimit:10;\" d=\"M 92.863281 222.289062 C 92.863281 227.808594 88.386719 232.289062 82.863281 232.289062 C 77.339844 232.289062 72.863281 227.808594 72.863281 222.289062 C 72.863281 216.765625 77.339844 212.289062 82.863281 212.289062 C 88.386719 212.289062 92.863281 216.765625 92.863281 222.289062 \"/>\n",
       "<path style=\"fill-rule:nonzero;fill:rgb(100%,100%,100%);fill-opacity:1;stroke-width:1;stroke-linecap:butt;stroke-linejoin:miter;stroke:rgb(0%,0%,0%);stroke-opacity:1;stroke-miterlimit:10;\" d=\"M 69.738281 231.550781 C 69.738281 237.070312 65.261719 241.550781 59.738281 241.550781 C 54.214844 241.550781 49.738281 237.070312 49.738281 231.550781 C 49.738281 226.027344 54.214844 221.550781 59.738281 221.550781 C 65.261719 221.550781 69.738281 226.027344 69.738281 231.550781 \"/>\n",
       "<path style=\"fill-rule:nonzero;fill:rgb(100%,100%,100%);fill-opacity:1;stroke-width:1;stroke-linecap:butt;stroke-linejoin:miter;stroke:rgb(0%,0%,0%);stroke-opacity:1;stroke-miterlimit:10;\" d=\"M 106.914062 198.003906 C 106.914062 203.527344 102.4375 208.003906 96.914062 208.003906 C 91.390625 208.003906 86.914062 203.527344 86.914062 198.003906 C 86.914062 192.480469 91.390625 188.003906 96.914062 188.003906 C 102.4375 188.003906 106.914062 192.480469 106.914062 198.003906 \"/>\n",
       "<path style=\"fill-rule:nonzero;fill:rgb(100%,100%,100%);fill-opacity:1;stroke-width:1;stroke-linecap:butt;stroke-linejoin:miter;stroke:rgb(0%,0%,0%);stroke-opacity:1;stroke-miterlimit:10;\" d=\"M 96.714844 171.890625 C 96.714844 177.414062 92.238281 181.890625 86.714844 181.890625 C 81.191406 181.890625 76.714844 177.414062 76.714844 171.890625 C 76.714844 166.367188 81.191406 161.890625 86.714844 161.890625 C 92.238281 161.890625 96.714844 166.367188 96.714844 171.890625 \"/>\n",
       "<path style=\"fill-rule:nonzero;fill:rgb(100%,100%,100%);fill-opacity:1;stroke-width:1;stroke-linecap:butt;stroke-linejoin:miter;stroke:rgb(0%,0%,0%);stroke-opacity:1;stroke-miterlimit:10;\" d=\"M 197.457031 115.59375 C 197.457031 121.117188 192.980469 125.59375 187.457031 125.59375 C 181.933594 125.59375 177.457031 121.117188 177.457031 115.59375 C 177.457031 110.070312 181.933594 105.59375 187.457031 105.59375 C 192.980469 105.59375 197.457031 110.070312 197.457031 115.59375 \"/>\n",
       "<path style=\"fill-rule:nonzero;fill:rgb(100%,100%,100%);fill-opacity:1;stroke-width:1;stroke-linecap:butt;stroke-linejoin:miter;stroke:rgb(0%,0%,0%);stroke-opacity:1;stroke-miterlimit:10;\" d=\"M 215.824219 97.234375 C 215.824219 102.757812 211.347656 107.234375 205.824219 107.234375 C 200.300781 107.234375 195.824219 102.757812 195.824219 97.234375 C 195.824219 91.710938 200.300781 87.234375 205.824219 87.234375 C 211.347656 87.234375 215.824219 91.710938 215.824219 97.234375 \"/>\n",
       "<path style=\"fill-rule:nonzero;fill:rgb(100%,100%,100%);fill-opacity:1;stroke-width:1;stroke-linecap:butt;stroke-linejoin:miter;stroke:rgb(0%,0%,0%);stroke-opacity:1;stroke-miterlimit:10;\" d=\"M 114.847656 151.128906 C 114.847656 156.652344 110.371094 161.128906 104.847656 161.128906 C 99.324219 161.128906 94.847656 156.652344 94.847656 151.128906 C 94.847656 145.605469 99.324219 141.128906 104.847656 141.128906 C 110.371094 141.128906 114.847656 145.605469 114.847656 151.128906 \"/>\n",
       "<path style=\"fill-rule:nonzero;fill:rgb(100%,100%,100%);fill-opacity:1;stroke-width:1;stroke-linecap:butt;stroke-linejoin:miter;stroke:rgb(0%,0%,0%);stroke-opacity:1;stroke-miterlimit:10;\" d=\"M 100.597656 126.964844 C 100.597656 132.488281 96.121094 136.964844 90.597656 136.964844 C 85.074219 136.964844 80.597656 132.488281 80.597656 126.964844 C 80.597656 121.445312 85.074219 116.964844 90.597656 116.964844 C 96.121094 116.964844 100.597656 121.445312 100.597656 126.964844 \"/>\n",
       "<path style=\"fill-rule:nonzero;fill:rgb(100%,100%,100%);fill-opacity:1;stroke-width:1;stroke-linecap:butt;stroke-linejoin:miter;stroke:rgb(0%,0%,0%);stroke-opacity:1;stroke-miterlimit:10;\" d=\"M 72.867188 161.558594 C 72.867188 167.078125 68.390625 171.558594 62.867188 171.558594 C 57.34375 171.558594 52.867188 167.078125 52.867188 161.558594 C 52.867188 156.035156 57.34375 151.558594 62.867188 151.558594 C 68.390625 151.558594 72.867188 156.035156 72.867188 161.558594 \"/>\n",
       "<path style=\"fill-rule:nonzero;fill:rgb(100%,100%,100%);fill-opacity:1;stroke-width:1;stroke-linecap:butt;stroke-linejoin:miter;stroke:rgb(0%,0%,0%);stroke-opacity:1;stroke-miterlimit:10;\" d=\"M 76.980469 117.351562 C 76.980469 122.875 72.503906 127.351562 66.980469 127.351562 C 61.460938 127.351562 56.980469 122.875 56.980469 117.351562 C 56.980469 111.832031 61.460938 107.351562 66.980469 107.351562 C 72.503906 107.351562 76.980469 111.832031 76.980469 117.351562 \"/>\n",
       "<path style=\"fill-rule:nonzero;fill:rgb(100%,100%,100%);fill-opacity:1;stroke-width:1;stroke-linecap:butt;stroke-linejoin:miter;stroke:rgb(0%,0%,0%);stroke-opacity:1;stroke-miterlimit:10;\" d=\"M 60 137.785156 C 60 143.308594 55.523438 147.785156 50 147.785156 C 44.476562 147.785156 40 143.308594 40 137.785156 C 40 132.261719 44.476562 127.785156 50 127.785156 C 55.523438 127.785156 60 132.261719 60 137.785156 \"/>\n",
       "<path style=\"fill-rule:nonzero;fill:rgb(100%,100%,100%);fill-opacity:1;stroke-width:1;stroke-linecap:butt;stroke-linejoin:miter;stroke:rgb(0%,0%,0%);stroke-opacity:1;stroke-miterlimit:10;\" d=\"M 94.140625 250 C 94.140625 255.523438 89.664062 260 84.140625 260 C 78.617188 260 74.140625 255.523438 74.140625 250 C 74.140625 244.476562 78.617188 240 84.140625 240 C 89.664062 240 94.140625 244.476562 94.140625 250 \"/>\n",
       "<path style=\"fill-rule:nonzero;fill:rgb(100%,100%,100%);fill-opacity:1;stroke-width:1;stroke-linecap:butt;stroke-linejoin:miter;stroke:rgb(0%,0%,0%);stroke-opacity:1;stroke-miterlimit:10;\" d=\"M 215.820312 68.570312 C 215.820312 74.09375 211.34375 78.570312 205.820312 78.570312 C 200.296875 78.570312 195.820312 74.09375 195.820312 68.570312 C 195.820312 63.050781 200.296875 58.570312 205.820312 58.570312 C 211.34375 58.570312 215.820312 63.050781 215.820312 68.570312 \"/>\n",
       "<path style=\"fill-rule:nonzero;fill:rgb(100%,100%,100%);fill-opacity:1;stroke-width:1;stroke-linecap:butt;stroke-linejoin:miter;stroke:rgb(0%,0%,0%);stroke-opacity:1;stroke-miterlimit:10;\" d=\"M 241.136719 101.105469 C 241.136719 106.628906 236.660156 111.105469 231.136719 111.105469 C 225.613281 111.105469 221.136719 106.628906 221.136719 101.105469 C 221.136719 95.582031 225.613281 91.105469 231.136719 91.105469 C 236.660156 91.105469 241.136719 95.582031 241.136719 101.105469 \"/>\n",
       "<path style=\"fill-rule:nonzero;fill:rgb(100%,100%,100%);fill-opacity:1;stroke-width:1;stroke-linecap:butt;stroke-linejoin:miter;stroke:rgb(0%,0%,0%);stroke-opacity:1;stroke-miterlimit:10;\" d=\"M 234.113281 50 C 234.113281 55.523438 229.632812 60 224.113281 60 C 218.589844 60 214.113281 55.523438 214.113281 50 C 214.113281 44.476562 218.589844 40 224.113281 40 C 229.632812 40 234.113281 44.476562 234.113281 50 \"/>\n",
       "<path style=\"fill-rule:nonzero;fill:rgb(100%,100%,100%);fill-opacity:1;stroke-width:1;stroke-linecap:butt;stroke-linejoin:miter;stroke:rgb(0%,0%,0%);stroke-opacity:1;stroke-miterlimit:10;\" d=\"M 260 83.496094 C 260 89.019531 255.523438 93.496094 250 93.496094 C 244.476562 93.496094 240 89.019531 240 83.496094 C 240 77.972656 244.476562 73.496094 250 73.496094 C 255.523438 73.496094 260 77.972656 260 83.496094 \"/>\n",
       "<path style=\"fill-rule:nonzero;fill:rgb(100%,100%,100%);fill-opacity:1;stroke-width:1;stroke-linecap:butt;stroke-linejoin:miter;stroke:rgb(0%,0%,0%);stroke-opacity:1;stroke-miterlimit:10;\" d=\"M 258.5625 55.375 C 258.5625 60.894531 254.082031 65.375 248.5625 65.375 C 243.039062 65.375 238.5625 60.894531 238.5625 55.375 C 238.5625 49.851562 243.039062 45.375 248.5625 45.375 C 254.082031 45.375 258.5625 49.851562 258.5625 55.375 \"/>\n",
       "<g style=\"fill:rgb(0%,0%,0%);fill-opacity:1;\">\n",
       "  <use xlink:href=\"#glyph0-1\" x=\"169.53125\" y=\"145.964844\"/>\n",
       "</g>\n",
       "<g style=\"fill:rgb(0%,0%,0%);fill-opacity:1;\">\n",
       "  <use xlink:href=\"#glyph0-2\" x=\"187.609375\" y=\"166.074219\"/>\n",
       "</g>\n",
       "<g style=\"fill:rgb(0%,0%,0%);fill-opacity:1;\">\n",
       "  <use xlink:href=\"#glyph0-1\" x=\"118.417969\" y=\"199.585938\"/>\n",
       "</g>\n",
       "<g style=\"fill:rgb(0%,0%,0%);fill-opacity:1;\">\n",
       "  <use xlink:href=\"#glyph0-3\" x=\"132.441406\" y=\"223.152344\"/>\n",
       "</g>\n",
       "<g style=\"fill:rgb(0%,0%,0%);fill-opacity:1;\">\n",
       "  <use xlink:href=\"#glyph0-1\" x=\"143.746094\" y=\"247.472656\"/>\n",
       "</g>\n",
       "<g style=\"fill:rgb(0%,0%,0%);fill-opacity:1;\">\n",
       "  <use xlink:href=\"#glyph0-1\" x=\"124.058594\" y=\"170.074219\"/>\n",
       "</g>\n",
       "<g style=\"fill:rgb(0%,0%,0%);fill-opacity:1;\">\n",
       "  <use xlink:href=\"#glyph0-3\" x=\"145.917969\" y=\"155.644531\"/>\n",
       "</g>\n",
       "<g style=\"fill:rgb(0%,0%,0%);fill-opacity:1;\">\n",
       "  <use xlink:href=\"#glyph0-1\" x=\"78.4375\" y=\"229.132812\"/>\n",
       "</g>\n",
       "<g style=\"fill:rgb(0%,0%,0%);fill-opacity:1;\">\n",
       "  <use xlink:href=\"#glyph0-3\" x=\"55.160156\" y=\"238.304688\"/>\n",
       "</g>\n",
       "<g style=\"fill:rgb(0%,0%,0%);fill-opacity:1;\">\n",
       "  <use xlink:href=\"#glyph0-4\" x=\"92.648438\" y=\"204.847656\"/>\n",
       "</g>\n",
       "<g style=\"fill:rgb(0%,0%,0%);fill-opacity:1;\">\n",
       "  <use xlink:href=\"#glyph0-1\" x=\"82.289062\" y=\"178.738281\"/>\n",
       "</g>\n",
       "<g style=\"fill:rgb(0%,0%,0%);fill-opacity:1;\">\n",
       "  <use xlink:href=\"#glyph0-4\" x=\"183.191406\" y=\"122.4375\"/>\n",
       "</g>\n",
       "<g style=\"fill:rgb(0%,0%,0%);fill-opacity:1;\">\n",
       "  <use xlink:href=\"#glyph0-1\" x=\"201.398438\" y=\"104.082031\"/>\n",
       "</g>\n",
       "<g style=\"fill:rgb(0%,0%,0%);fill-opacity:1;\">\n",
       "  <use xlink:href=\"#glyph0-1\" x=\"100.421875\" y=\"157.976562\"/>\n",
       "</g>\n",
       "<g style=\"fill:rgb(0%,0%,0%);fill-opacity:1;\">\n",
       "  <use xlink:href=\"#glyph0-1\" x=\"86.171875\" y=\"133.8125\"/>\n",
       "</g>\n",
       "<g style=\"fill:rgb(0%,0%,0%);fill-opacity:1;\">\n",
       "  <use xlink:href=\"#glyph0-1\" x=\"58.441406\" y=\"168.402344\"/>\n",
       "</g>\n",
       "<g style=\"fill:rgb(0%,0%,0%);fill-opacity:1;\">\n",
       "  <use xlink:href=\"#glyph0-1\" x=\"62.554688\" y=\"124.199219\"/>\n",
       "</g>\n",
       "<g style=\"fill:rgb(0%,0%,0%);fill-opacity:1;\">\n",
       "  <use xlink:href=\"#glyph0-1\" x=\"45.574219\" y=\"144.632812\"/>\n",
       "</g>\n",
       "<g style=\"fill:rgb(0%,0%,0%);fill-opacity:1;\">\n",
       "  <use xlink:href=\"#glyph0-1\" x=\"79.714844\" y=\"256.847656\"/>\n",
       "</g>\n",
       "<g style=\"fill:rgb(0%,0%,0%);fill-opacity:1;\">\n",
       "  <use xlink:href=\"#glyph0-1\" x=\"201.394531\" y=\"75.417969\"/>\n",
       "</g>\n",
       "<g style=\"fill:rgb(0%,0%,0%);fill-opacity:1;\">\n",
       "  <use xlink:href=\"#glyph0-1\" x=\"226.710938\" y=\"107.953125\"/>\n",
       "</g>\n",
       "<g style=\"fill:rgb(0%,0%,0%);fill-opacity:1;\">\n",
       "  <use xlink:href=\"#glyph0-1\" x=\"219.683594\" y=\"56.847656\"/>\n",
       "</g>\n",
       "<g style=\"fill:rgb(0%,0%,0%);fill-opacity:1;\">\n",
       "  <use xlink:href=\"#glyph0-1\" x=\"245.574219\" y=\"90.339844\"/>\n",
       "</g>\n",
       "<g style=\"fill:rgb(0%,0%,0%);fill-opacity:1;\">\n",
       "  <use xlink:href=\"#glyph0-1\" x=\"244.132812\" y=\"62.21875\"/>\n",
       "</g>\n",
       "</g>\n",
       "</svg>\n"
      ],
      "text/plain": [
       "<igraph.drawing.cairo.plot.CairoPlot at 0x7f4260c28610>"
      ]
     },
     "execution_count": 299,
     "metadata": {
      "image/svg+xml": {
       "isolated": true
      }
     },
     "output_type": "execute_result"
    }
   ],
   "source": [
    "igraph.plot(clusterings[1].graph, bbox=(300, 300), margin=50, vertex_color=\"white\")"
   ]
  },
  {
   "cell_type": "code",
   "execution_count": 298,
   "id": "ec3e424f-b2f3-4a7c-bb87-ebcacd883930",
   "metadata": {},
   "outputs": [
    {
     "data": {
      "image/svg+xml": [
       "<?xml version=\"1.0\" encoding=\"UTF-8\"?>\n",
       "<svg xmlns=\"http://www.w3.org/2000/svg\" xmlns:xlink=\"http://www.w3.org/1999/xlink\" width=\"300pt\" height=\"300pt\" viewBox=\"0 0 300 300\" version=\"1.1\">\n",
       "<defs>\n",
       "<g>\n",
       "<symbol overflow=\"visible\" id=\"glyph0-0\">\n",
       "<path style=\"stroke:none;\" d=\"M 0.703125 2.46875 L 0.703125 -9.875 L 7.703125 -9.875 L 7.703125 2.46875 Z M 1.484375 1.703125 L 6.921875 1.703125 L 6.921875 -9.078125 L 1.484375 -9.078125 Z M 1.484375 1.703125 \"/>\n",
       "</symbol>\n",
       "<symbol overflow=\"visible\" id=\"glyph0-1\">\n",
       "<path style=\"stroke:none;\" d=\"M 5.6875 -5.5 C 6.34375 -5.363281 6.851562 -5.070312 7.21875 -4.625 C 7.59375 -4.175781 7.78125 -3.625 7.78125 -2.96875 C 7.78125 -1.957031 7.429688 -1.175781 6.734375 -0.625 C 6.046875 -0.0703125 5.066406 0.203125 3.796875 0.203125 C 3.367188 0.203125 2.925781 0.15625 2.46875 0.0625 C 2.019531 -0.0195312 1.550781 -0.144531 1.0625 -0.3125 L 1.0625 -1.640625 C 1.445312 -1.421875 1.867188 -1.253906 2.328125 -1.140625 C 2.785156 -1.023438 3.257812 -0.96875 3.75 -0.96875 C 4.613281 -0.96875 5.269531 -1.132812 5.71875 -1.46875 C 6.175781 -1.8125 6.40625 -2.3125 6.40625 -2.96875 C 6.40625 -3.570312 6.191406 -4.039062 5.765625 -4.375 C 5.347656 -4.71875 4.765625 -4.890625 4.015625 -4.890625 L 2.828125 -4.890625 L 2.828125 -6.015625 L 4.078125 -6.015625 C 4.753906 -6.015625 5.269531 -6.148438 5.625 -6.421875 C 5.988281 -6.703125 6.171875 -7.097656 6.171875 -7.609375 C 6.171875 -8.128906 5.984375 -8.53125 5.609375 -8.8125 C 5.242188 -9.09375 4.710938 -9.234375 4.015625 -9.234375 C 3.640625 -9.234375 3.234375 -9.191406 2.796875 -9.109375 C 2.367188 -9.023438 1.894531 -8.894531 1.375 -8.71875 L 1.375 -9.953125 C 1.894531 -10.097656 2.382812 -10.207031 2.84375 -10.28125 C 3.300781 -10.351562 3.734375 -10.390625 4.140625 -10.390625 C 5.191406 -10.390625 6.019531 -10.148438 6.625 -9.671875 C 7.238281 -9.203125 7.546875 -8.5625 7.546875 -7.75 C 7.546875 -7.175781 7.382812 -6.695312 7.0625 -6.3125 C 6.738281 -5.925781 6.28125 -5.65625 5.6875 -5.5 Z M 5.6875 -5.5 \"/>\n",
       "</symbol>\n",
       "<symbol overflow=\"visible\" id=\"glyph0-2\">\n",
       "<path style=\"stroke:none;\" d=\"M 5.296875 -9 L 1.8125 -3.5625 L 5.296875 -3.5625 Z M 4.921875 -10.203125 L 6.671875 -10.203125 L 6.671875 -3.5625 L 8.125 -3.5625 L 8.125 -2.40625 L 6.671875 -2.40625 L 6.671875 0 L 5.296875 0 L 5.296875 -2.40625 L 0.6875 -2.40625 L 0.6875 -3.734375 Z M 4.921875 -10.203125 \"/>\n",
       "</symbol>\n",
       "<symbol overflow=\"visible\" id=\"glyph0-3\">\n",
       "<path style=\"stroke:none;\" d=\"M 1.734375 -1.15625 L 4 -1.15625 L 4 -8.953125 L 1.53125 -8.453125 L 1.53125 -9.71875 L 3.984375 -10.203125 L 5.359375 -10.203125 L 5.359375 -1.15625 L 7.609375 -1.15625 L 7.609375 0 L 1.734375 0 Z M 1.734375 -1.15625 \"/>\n",
       "</symbol>\n",
       "<symbol overflow=\"visible\" id=\"glyph0-4\">\n",
       "<path style=\"stroke:none;\" d=\"M 2.6875 -1.15625 L 7.5 -1.15625 L 7.5 0 L 1.03125 0 L 1.03125 -1.15625 C 1.550781 -1.695312 2.265625 -2.425781 3.171875 -3.34375 C 4.078125 -4.257812 4.644531 -4.847656 4.875 -5.109375 C 5.3125 -5.609375 5.617188 -6.03125 5.796875 -6.375 C 5.972656 -6.71875 6.0625 -7.054688 6.0625 -7.390625 C 6.0625 -7.929688 5.867188 -8.375 5.484375 -8.71875 C 5.109375 -9.0625 4.613281 -9.234375 4 -9.234375 C 3.570312 -9.234375 3.117188 -9.15625 2.640625 -9 C 2.160156 -8.851562 1.644531 -8.625 1.09375 -8.3125 L 1.09375 -9.71875 C 1.644531 -9.9375 2.160156 -10.101562 2.640625 -10.21875 C 3.128906 -10.332031 3.578125 -10.390625 3.984375 -10.390625 C 5.035156 -10.390625 5.875 -10.125 6.5 -9.59375 C 7.132812 -9.070312 7.453125 -8.367188 7.453125 -7.484375 C 7.453125 -7.054688 7.375 -6.65625 7.21875 -6.28125 C 7.0625 -5.90625 6.773438 -5.460938 6.359375 -4.953125 C 6.242188 -4.828125 5.878906 -4.445312 5.265625 -3.8125 C 4.660156 -3.175781 3.800781 -2.289062 2.6875 -1.15625 Z M 2.6875 -1.15625 \"/>\n",
       "</symbol>\n",
       "</g>\n",
       "</defs>\n",
       "<g id=\"surface194\">\n",
       "<rect x=\"0\" y=\"0\" width=\"300\" height=\"300\" style=\"fill:rgb(100%,100%,100%);fill-opacity:1;stroke:none;\"/>\n",
       "<path style=\"fill-rule:nonzero;fill:rgb(100%,0%,0%);fill-opacity:0.25;stroke-width:2;stroke-linecap:butt;stroke-linejoin:miter;stroke:rgb(100%,0%,0%);stroke-opacity:1;stroke-miterlimit:10;\" d=\"M 205.015625 153.566406 L 200.347656 117.34375 C 198.753906 104.949219 187.847656 100.894531 178.539062 109.234375 L 145.109375 139.199219 C 135.800781 147.542969 138.542969 159.199219 150.597656 162.515625 L 184.105469 171.730469 C 196.15625 175.046875 206.613281 165.964844 205.015625 153.566406 \"/>\n",
       "<path style=\"fill-rule:nonzero;fill:rgb(0%,100%,0%);fill-opacity:0.25;stroke-width:2;stroke-linecap:butt;stroke-linejoin:miter;stroke:rgb(0%,100%,0%);stroke-opacity:1;stroke-miterlimit:10;\" d=\"M 150.570312 239.898438 L 131.035156 161.6875 C 128.132812 150.066406 119.257812 148.828125 113.285156 159.214844 C 107.3125 169.601562 107.917969 190.003906 114.496094 200.015625 L 142.902344 243.257812 C 149.765625 253.707031 153.597656 252.027344 150.570312 239.898438 \"/>\n",
       "<path style=\"fill-rule:nonzero;fill:rgb(0%,0%,100%);fill-opacity:0.25;stroke-width:2;stroke-linecap:butt;stroke-linejoin:miter;stroke:rgb(0%,0%,100%);stroke-opacity:1;stroke-miterlimit:10;\" d=\"M 93.511719 250.234375 L 104.222656 200.847656 C 106.871094 188.628906 99.878906 184.367188 90.234375 192.320312 L 54.742188 221.59375 C 45.101562 229.546875 45.675781 244.699219 55.894531 251.898438 L 67.773438 260.269531 C 77.992188 267.46875 90.859375 262.449219 93.511719 250.234375 \"/>\n",
       "<path style=\"fill-rule:nonzero;fill:rgb(100%,100%,0%);fill-opacity:0.25;stroke-width:2;stroke-linecap:butt;stroke-linejoin:miter;stroke:rgb(100%,100%,0%);stroke-opacity:1;stroke-miterlimit:10;\" d=\"M 82.128906 100.570312 C 70.21875 97.238281 50.25 103.28125 42.1875 112.65625 L 42.019531 112.851562 C 33.875 122.324219 30.6875 143.261719 35.652344 154.730469 L 37.019531 157.886719 C 41.980469 169.359375 58.90625 184.46875 70.863281 188.101562 L 71.136719 188.1875 C 83.097656 191.820312 103.34375 186.101562 111.632812 176.746094 L 112.578125 175.675781 C 120.867188 166.320312 123.871094 145.636719 118.582031 134.308594 L 116.40625 129.640625 C 111.175781 118.4375 94.035156 103.898438 82.128906 100.570312 \"/>\n",
       "<path style=\"fill-rule:nonzero;fill:rgb(100%,0%,100%);fill-opacity:0.25;stroke-width:2;stroke-linecap:butt;stroke-linejoin:miter;stroke:rgb(100%,0%,100%);stroke-opacity:1;stroke-miterlimit:10;\" d=\"M 243.605469 31.542969 C 232.207031 28.378906 212.070312 33.199219 203.335938 41.175781 L 200.609375 43.667969 C 191.378906 52.097656 183.480469 72.957031 184.8125 85.386719 L 185.398438 90.847656 C 186.675781 102.78125 199.625 117.5 211.296875 120.285156 C 222.972656 123.074219 243.648438 117.925781 252.65625 109.992188 L 254.9375 107.980469 C 264.320312 99.71875 272.011719 79.070312 270.328125 66.683594 L 269.597656 61.308594 C 268 49.585938 255.003906 34.703125 243.605469 31.542969 \"/>\n",
       "<path style=\"fill:none;stroke-width:1;stroke-linecap:butt;stroke-linejoin:miter;stroke:rgb(20%,20%,20%);stroke-opacity:1;stroke-miterlimit:10;\" d=\"M 173.957031 139.117188 L 192.011719 159.320312 \"/>\n",
       "<path style=\"fill:none;stroke-width:1;stroke-linecap:butt;stroke-linejoin:miter;stroke:rgb(20%,20%,20%);stroke-opacity:1;stroke-miterlimit:10;\" d=\"M 122.84375 192.742188 L 137.015625 216.398438 \"/>\n",
       "<path style=\"fill:none;stroke-width:1;stroke-linecap:butt;stroke-linejoin:miter;stroke:rgb(20%,20%,20%);stroke-opacity:1;stroke-miterlimit:10;\" d=\"M 137.015625 216.398438 L 148.171875 240.625 \"/>\n",
       "<path style=\"fill:none;stroke-width:1;stroke-linecap:butt;stroke-linejoin:miter;stroke:rgb(20%,20%,20%);stroke-opacity:1;stroke-miterlimit:10;\" d=\"M 122.84375 192.742188 L 128.488281 163.226562 \"/>\n",
       "<path style=\"fill:none;stroke-width:1;stroke-linecap:butt;stroke-linejoin:miter;stroke:rgb(20%,20%,20%);stroke-opacity:1;stroke-miterlimit:10;\" d=\"M 173.957031 139.117188 L 150.492188 148.890625 \"/>\n",
       "<path style=\"fill:none;stroke-width:1;stroke-linecap:butt;stroke-linejoin:miter;stroke:rgb(80%,80%,80%);stroke-opacity:1;stroke-miterlimit:10;\" d=\"M 128.488281 163.226562 L 150.492188 148.890625 \"/>\n",
       "<path style=\"fill:none;stroke-width:1;stroke-linecap:butt;stroke-linejoin:miter;stroke:rgb(20%,20%,20%);stroke-opacity:1;stroke-miterlimit:10;\" d=\"M 82.863281 222.289062 L 59.738281 231.550781 \"/>\n",
       "<path style=\"fill:none;stroke-width:1;stroke-linecap:butt;stroke-linejoin:miter;stroke:rgb(80%,80%,80%);stroke-opacity:1;stroke-miterlimit:10;\" d=\"M 122.84375 192.742188 L 96.914062 198.003906 \"/>\n",
       "<path style=\"fill:none;stroke-width:1;stroke-linecap:butt;stroke-linejoin:miter;stroke:rgb(20%,20%,20%);stroke-opacity:1;stroke-miterlimit:10;\" d=\"M 82.863281 222.289062 L 96.914062 198.003906 \"/>\n",
       "<path style=\"fill:none;stroke-width:1;stroke-linecap:butt;stroke-linejoin:miter;stroke:rgb(80%,80%,80%);stroke-opacity:1;stroke-miterlimit:10;\" d=\"M 96.914062 198.003906 L 86.714844 171.890625 \"/>\n",
       "<path style=\"fill:none;stroke-width:1;stroke-linecap:butt;stroke-linejoin:miter;stroke:rgb(20%,20%,20%);stroke-opacity:1;stroke-miterlimit:10;\" d=\"M 173.957031 139.117188 L 187.457031 115.59375 \"/>\n",
       "<path style=\"fill:none;stroke-width:1;stroke-linecap:butt;stroke-linejoin:miter;stroke:rgb(80%,80%,80%);stroke-opacity:1;stroke-miterlimit:10;\" d=\"M 187.457031 115.59375 L 205.824219 97.234375 \"/>\n",
       "<path style=\"fill:none;stroke-width:1;stroke-linecap:butt;stroke-linejoin:miter;stroke:rgb(80%,80%,80%);stroke-opacity:1;stroke-miterlimit:10;\" d=\"M 128.488281 163.226562 L 104.847656 151.128906 \"/>\n",
       "<path style=\"fill:none;stroke-width:1;stroke-linecap:butt;stroke-linejoin:miter;stroke:rgb(20%,20%,20%);stroke-opacity:1;stroke-miterlimit:10;\" d=\"M 86.714844 171.890625 L 104.847656 151.128906 \"/>\n",
       "<path style=\"fill:none;stroke-width:1;stroke-linecap:butt;stroke-linejoin:miter;stroke:rgb(20%,20%,20%);stroke-opacity:1;stroke-miterlimit:10;\" d=\"M 104.847656 151.128906 L 90.597656 126.964844 \"/>\n",
       "<path style=\"fill:none;stroke-width:1;stroke-linecap:butt;stroke-linejoin:miter;stroke:rgb(20%,20%,20%);stroke-opacity:1;stroke-miterlimit:10;\" d=\"M 86.714844 171.890625 L 62.867188 161.558594 \"/>\n",
       "<path style=\"fill:none;stroke-width:1;stroke-linecap:butt;stroke-linejoin:miter;stroke:rgb(20%,20%,20%);stroke-opacity:1;stroke-miterlimit:10;\" d=\"M 90.597656 126.964844 L 66.980469 117.351562 \"/>\n",
       "<path style=\"fill:none;stroke-width:1;stroke-linecap:butt;stroke-linejoin:miter;stroke:rgb(20%,20%,20%);stroke-opacity:1;stroke-miterlimit:10;\" d=\"M 62.867188 161.558594 L 50 137.785156 \"/>\n",
       "<path style=\"fill:none;stroke-width:1;stroke-linecap:butt;stroke-linejoin:miter;stroke:rgb(20%,20%,20%);stroke-opacity:1;stroke-miterlimit:10;\" d=\"M 66.980469 117.351562 L 50 137.785156 \"/>\n",
       "<path style=\"fill:none;stroke-width:1;stroke-linecap:butt;stroke-linejoin:miter;stroke:rgb(20%,20%,20%);stroke-opacity:1;stroke-miterlimit:10;\" d=\"M 82.863281 222.289062 L 84.140625 250 \"/>\n",
       "<path style=\"fill:none;stroke-width:1;stroke-linecap:butt;stroke-linejoin:miter;stroke:rgb(20%,20%,20%);stroke-opacity:1;stroke-miterlimit:10;\" d=\"M 205.824219 97.234375 L 205.820312 68.570312 \"/>\n",
       "<path style=\"fill:none;stroke-width:1;stroke-linecap:butt;stroke-linejoin:miter;stroke:rgb(20%,20%,20%);stroke-opacity:1;stroke-miterlimit:10;\" d=\"M 205.824219 97.234375 L 231.136719 101.105469 \"/>\n",
       "<path style=\"fill:none;stroke-width:1;stroke-linecap:butt;stroke-linejoin:miter;stroke:rgb(20%,20%,20%);stroke-opacity:1;stroke-miterlimit:10;\" d=\"M 205.820312 68.570312 L 224.113281 50 \"/>\n",
       "<path style=\"fill:none;stroke-width:1;stroke-linecap:butt;stroke-linejoin:miter;stroke:rgb(20%,20%,20%);stroke-opacity:1;stroke-miterlimit:10;\" d=\"M 231.136719 101.105469 L 250 83.496094 \"/>\n",
       "<path style=\"fill:none;stroke-width:1;stroke-linecap:butt;stroke-linejoin:miter;stroke:rgb(20%,20%,20%);stroke-opacity:1;stroke-miterlimit:10;\" d=\"M 224.113281 50 L 248.5625 55.375 \"/>\n",
       "<path style=\"fill:none;stroke-width:1;stroke-linecap:butt;stroke-linejoin:miter;stroke:rgb(20%,20%,20%);stroke-opacity:1;stroke-miterlimit:10;\" d=\"M 250 83.496094 L 248.5625 55.375 \"/>\n",
       "<path style=\"fill-rule:nonzero;fill:rgb(100%,0%,0%);fill-opacity:1;stroke-width:1;stroke-linecap:butt;stroke-linejoin:miter;stroke:rgb(0%,0%,0%);stroke-opacity:1;stroke-miterlimit:10;\" d=\"M 183.957031 139.117188 C 183.957031 144.640625 179.480469 149.117188 173.957031 149.117188 C 168.433594 149.117188 163.957031 144.640625 163.957031 139.117188 C 163.957031 133.59375 168.433594 129.117188 173.957031 129.117188 C 179.480469 129.117188 183.957031 133.59375 183.957031 139.117188 \"/>\n",
       "<path style=\"fill-rule:nonzero;fill:rgb(100%,0%,0%);fill-opacity:1;stroke-width:1;stroke-linecap:butt;stroke-linejoin:miter;stroke:rgb(0%,0%,0%);stroke-opacity:1;stroke-miterlimit:10;\" d=\"M 202.011719 159.320312 C 202.011719 164.84375 197.53125 169.320312 192.011719 169.320312 C 186.488281 169.320312 182.011719 164.84375 182.011719 159.320312 C 182.011719 153.796875 186.488281 149.320312 192.011719 149.320312 C 197.53125 149.320312 202.011719 153.796875 202.011719 159.320312 \"/>\n",
       "<path style=\"fill-rule:nonzero;fill:rgb(0%,100%,0%);fill-opacity:1;stroke-width:1;stroke-linecap:butt;stroke-linejoin:miter;stroke:rgb(0%,0%,0%);stroke-opacity:1;stroke-miterlimit:10;\" d=\"M 132.84375 192.742188 C 132.84375 198.265625 128.367188 202.742188 122.84375 202.742188 C 117.320312 202.742188 112.84375 198.265625 112.84375 192.742188 C 112.84375 187.21875 117.320312 182.742188 122.84375 182.742188 C 128.367188 182.742188 132.84375 187.21875 132.84375 192.742188 \"/>\n",
       "<path style=\"fill-rule:nonzero;fill:rgb(0%,100%,0%);fill-opacity:1;stroke-width:1;stroke-linecap:butt;stroke-linejoin:miter;stroke:rgb(0%,0%,0%);stroke-opacity:1;stroke-miterlimit:10;\" d=\"M 147.015625 216.398438 C 147.015625 221.921875 142.539062 226.398438 137.015625 226.398438 C 131.492188 226.398438 127.015625 221.921875 127.015625 216.398438 C 127.015625 210.875 131.492188 206.398438 137.015625 206.398438 C 142.539062 206.398438 147.015625 210.875 147.015625 216.398438 \"/>\n",
       "<path style=\"fill-rule:nonzero;fill:rgb(0%,100%,0%);fill-opacity:1;stroke-width:1;stroke-linecap:butt;stroke-linejoin:miter;stroke:rgb(0%,0%,0%);stroke-opacity:1;stroke-miterlimit:10;\" d=\"M 158.171875 240.625 C 158.171875 246.148438 153.695312 250.625 148.171875 250.625 C 142.652344 250.625 138.171875 246.148438 138.171875 240.625 C 138.171875 235.101562 142.652344 230.625 148.171875 230.625 C 153.695312 230.625 158.171875 235.101562 158.171875 240.625 \"/>\n",
       "<path style=\"fill-rule:nonzero;fill:rgb(0%,100%,0%);fill-opacity:1;stroke-width:1;stroke-linecap:butt;stroke-linejoin:miter;stroke:rgb(0%,0%,0%);stroke-opacity:1;stroke-miterlimit:10;\" d=\"M 138.488281 163.226562 C 138.488281 168.75 134.007812 173.226562 128.488281 173.226562 C 122.964844 173.226562 118.488281 168.75 118.488281 163.226562 C 118.488281 157.703125 122.964844 153.226562 128.488281 153.226562 C 134.007812 153.226562 138.488281 157.703125 138.488281 163.226562 \"/>\n",
       "<path style=\"fill-rule:nonzero;fill:rgb(100%,0%,0%);fill-opacity:1;stroke-width:1;stroke-linecap:butt;stroke-linejoin:miter;stroke:rgb(0%,0%,0%);stroke-opacity:1;stroke-miterlimit:10;\" d=\"M 160.492188 148.890625 C 160.492188 154.414062 156.015625 158.890625 150.492188 158.890625 C 144.96875 158.890625 140.492188 154.414062 140.492188 148.890625 C 140.492188 143.367188 144.96875 138.890625 150.492188 138.890625 C 156.015625 138.890625 160.492188 143.367188 160.492188 148.890625 \"/>\n",
       "<path style=\"fill-rule:nonzero;fill:rgb(0%,0%,100%);fill-opacity:1;stroke-width:1;stroke-linecap:butt;stroke-linejoin:miter;stroke:rgb(0%,0%,0%);stroke-opacity:1;stroke-miterlimit:10;\" d=\"M 92.863281 222.289062 C 92.863281 227.808594 88.386719 232.289062 82.863281 232.289062 C 77.339844 232.289062 72.863281 227.808594 72.863281 222.289062 C 72.863281 216.765625 77.339844 212.289062 82.863281 212.289062 C 88.386719 212.289062 92.863281 216.765625 92.863281 222.289062 \"/>\n",
       "<path style=\"fill-rule:nonzero;fill:rgb(0%,0%,100%);fill-opacity:1;stroke-width:1;stroke-linecap:butt;stroke-linejoin:miter;stroke:rgb(0%,0%,0%);stroke-opacity:1;stroke-miterlimit:10;\" d=\"M 69.738281 231.550781 C 69.738281 237.070312 65.261719 241.550781 59.738281 241.550781 C 54.214844 241.550781 49.738281 237.070312 49.738281 231.550781 C 49.738281 226.027344 54.214844 221.550781 59.738281 221.550781 C 65.261719 221.550781 69.738281 226.027344 69.738281 231.550781 \"/>\n",
       "<path style=\"fill-rule:nonzero;fill:rgb(0%,0%,100%);fill-opacity:1;stroke-width:1;stroke-linecap:butt;stroke-linejoin:miter;stroke:rgb(0%,0%,0%);stroke-opacity:1;stroke-miterlimit:10;\" d=\"M 106.914062 198.003906 C 106.914062 203.527344 102.4375 208.003906 96.914062 208.003906 C 91.390625 208.003906 86.914062 203.527344 86.914062 198.003906 C 86.914062 192.480469 91.390625 188.003906 96.914062 188.003906 C 102.4375 188.003906 106.914062 192.480469 106.914062 198.003906 \"/>\n",
       "<path style=\"fill-rule:nonzero;fill:rgb(100%,100%,0%);fill-opacity:1;stroke-width:1;stroke-linecap:butt;stroke-linejoin:miter;stroke:rgb(0%,0%,0%);stroke-opacity:1;stroke-miterlimit:10;\" d=\"M 96.714844 171.890625 C 96.714844 177.414062 92.238281 181.890625 86.714844 181.890625 C 81.191406 181.890625 76.714844 177.414062 76.714844 171.890625 C 76.714844 166.367188 81.191406 161.890625 86.714844 161.890625 C 92.238281 161.890625 96.714844 166.367188 96.714844 171.890625 \"/>\n",
       "<path style=\"fill-rule:nonzero;fill:rgb(100%,0%,0%);fill-opacity:1;stroke-width:1;stroke-linecap:butt;stroke-linejoin:miter;stroke:rgb(0%,0%,0%);stroke-opacity:1;stroke-miterlimit:10;\" d=\"M 197.457031 115.59375 C 197.457031 121.117188 192.980469 125.59375 187.457031 125.59375 C 181.933594 125.59375 177.457031 121.117188 177.457031 115.59375 C 177.457031 110.070312 181.933594 105.59375 187.457031 105.59375 C 192.980469 105.59375 197.457031 110.070312 197.457031 115.59375 \"/>\n",
       "<path style=\"fill-rule:nonzero;fill:rgb(100%,0%,100%);fill-opacity:1;stroke-width:1;stroke-linecap:butt;stroke-linejoin:miter;stroke:rgb(0%,0%,0%);stroke-opacity:1;stroke-miterlimit:10;\" d=\"M 215.824219 97.234375 C 215.824219 102.757812 211.347656 107.234375 205.824219 107.234375 C 200.300781 107.234375 195.824219 102.757812 195.824219 97.234375 C 195.824219 91.710938 200.300781 87.234375 205.824219 87.234375 C 211.347656 87.234375 215.824219 91.710938 215.824219 97.234375 \"/>\n",
       "<path style=\"fill-rule:nonzero;fill:rgb(100%,100%,0%);fill-opacity:1;stroke-width:1;stroke-linecap:butt;stroke-linejoin:miter;stroke:rgb(0%,0%,0%);stroke-opacity:1;stroke-miterlimit:10;\" d=\"M 114.847656 151.128906 C 114.847656 156.652344 110.371094 161.128906 104.847656 161.128906 C 99.324219 161.128906 94.847656 156.652344 94.847656 151.128906 C 94.847656 145.605469 99.324219 141.128906 104.847656 141.128906 C 110.371094 141.128906 114.847656 145.605469 114.847656 151.128906 \"/>\n",
       "<path style=\"fill-rule:nonzero;fill:rgb(100%,100%,0%);fill-opacity:1;stroke-width:1;stroke-linecap:butt;stroke-linejoin:miter;stroke:rgb(0%,0%,0%);stroke-opacity:1;stroke-miterlimit:10;\" d=\"M 100.597656 126.964844 C 100.597656 132.488281 96.121094 136.964844 90.597656 136.964844 C 85.074219 136.964844 80.597656 132.488281 80.597656 126.964844 C 80.597656 121.445312 85.074219 116.964844 90.597656 116.964844 C 96.121094 116.964844 100.597656 121.445312 100.597656 126.964844 \"/>\n",
       "<path style=\"fill-rule:nonzero;fill:rgb(100%,100%,0%);fill-opacity:1;stroke-width:1;stroke-linecap:butt;stroke-linejoin:miter;stroke:rgb(0%,0%,0%);stroke-opacity:1;stroke-miterlimit:10;\" d=\"M 72.867188 161.558594 C 72.867188 167.078125 68.390625 171.558594 62.867188 171.558594 C 57.34375 171.558594 52.867188 167.078125 52.867188 161.558594 C 52.867188 156.035156 57.34375 151.558594 62.867188 151.558594 C 68.390625 151.558594 72.867188 156.035156 72.867188 161.558594 \"/>\n",
       "<path style=\"fill-rule:nonzero;fill:rgb(100%,100%,0%);fill-opacity:1;stroke-width:1;stroke-linecap:butt;stroke-linejoin:miter;stroke:rgb(0%,0%,0%);stroke-opacity:1;stroke-miterlimit:10;\" d=\"M 76.980469 117.351562 C 76.980469 122.875 72.503906 127.351562 66.980469 127.351562 C 61.460938 127.351562 56.980469 122.875 56.980469 117.351562 C 56.980469 111.832031 61.460938 107.351562 66.980469 107.351562 C 72.503906 107.351562 76.980469 111.832031 76.980469 117.351562 \"/>\n",
       "<path style=\"fill-rule:nonzero;fill:rgb(100%,100%,0%);fill-opacity:1;stroke-width:1;stroke-linecap:butt;stroke-linejoin:miter;stroke:rgb(0%,0%,0%);stroke-opacity:1;stroke-miterlimit:10;\" d=\"M 60 137.785156 C 60 143.308594 55.523438 147.785156 50 147.785156 C 44.476562 147.785156 40 143.308594 40 137.785156 C 40 132.261719 44.476562 127.785156 50 127.785156 C 55.523438 127.785156 60 132.261719 60 137.785156 \"/>\n",
       "<path style=\"fill-rule:nonzero;fill:rgb(0%,0%,100%);fill-opacity:1;stroke-width:1;stroke-linecap:butt;stroke-linejoin:miter;stroke:rgb(0%,0%,0%);stroke-opacity:1;stroke-miterlimit:10;\" d=\"M 94.140625 250 C 94.140625 255.523438 89.664062 260 84.140625 260 C 78.617188 260 74.140625 255.523438 74.140625 250 C 74.140625 244.476562 78.617188 240 84.140625 240 C 89.664062 240 94.140625 244.476562 94.140625 250 \"/>\n",
       "<path style=\"fill-rule:nonzero;fill:rgb(100%,0%,100%);fill-opacity:1;stroke-width:1;stroke-linecap:butt;stroke-linejoin:miter;stroke:rgb(0%,0%,0%);stroke-opacity:1;stroke-miterlimit:10;\" d=\"M 215.820312 68.570312 C 215.820312 74.09375 211.34375 78.570312 205.820312 78.570312 C 200.296875 78.570312 195.820312 74.09375 195.820312 68.570312 C 195.820312 63.050781 200.296875 58.570312 205.820312 58.570312 C 211.34375 58.570312 215.820312 63.050781 215.820312 68.570312 \"/>\n",
       "<path style=\"fill-rule:nonzero;fill:rgb(100%,0%,100%);fill-opacity:1;stroke-width:1;stroke-linecap:butt;stroke-linejoin:miter;stroke:rgb(0%,0%,0%);stroke-opacity:1;stroke-miterlimit:10;\" d=\"M 241.136719 101.105469 C 241.136719 106.628906 236.660156 111.105469 231.136719 111.105469 C 225.613281 111.105469 221.136719 106.628906 221.136719 101.105469 C 221.136719 95.582031 225.613281 91.105469 231.136719 91.105469 C 236.660156 91.105469 241.136719 95.582031 241.136719 101.105469 \"/>\n",
       "<path style=\"fill-rule:nonzero;fill:rgb(100%,0%,100%);fill-opacity:1;stroke-width:1;stroke-linecap:butt;stroke-linejoin:miter;stroke:rgb(0%,0%,0%);stroke-opacity:1;stroke-miterlimit:10;\" d=\"M 234.113281 50 C 234.113281 55.523438 229.632812 60 224.113281 60 C 218.589844 60 214.113281 55.523438 214.113281 50 C 214.113281 44.476562 218.589844 40 224.113281 40 C 229.632812 40 234.113281 44.476562 234.113281 50 \"/>\n",
       "<path style=\"fill-rule:nonzero;fill:rgb(100%,0%,100%);fill-opacity:1;stroke-width:1;stroke-linecap:butt;stroke-linejoin:miter;stroke:rgb(0%,0%,0%);stroke-opacity:1;stroke-miterlimit:10;\" d=\"M 260 83.496094 C 260 89.019531 255.523438 93.496094 250 93.496094 C 244.476562 93.496094 240 89.019531 240 83.496094 C 240 77.972656 244.476562 73.496094 250 73.496094 C 255.523438 73.496094 260 77.972656 260 83.496094 \"/>\n",
       "<path style=\"fill-rule:nonzero;fill:rgb(100%,0%,100%);fill-opacity:1;stroke-width:1;stroke-linecap:butt;stroke-linejoin:miter;stroke:rgb(0%,0%,0%);stroke-opacity:1;stroke-miterlimit:10;\" d=\"M 258.5625 55.375 C 258.5625 60.894531 254.082031 65.375 248.5625 65.375 C 243.039062 65.375 238.5625 60.894531 238.5625 55.375 C 238.5625 49.851562 243.039062 45.375 248.5625 45.375 C 254.082031 45.375 258.5625 49.851562 258.5625 55.375 \"/>\n",
       "<g style=\"fill:rgb(0%,0%,0%);fill-opacity:1;\">\n",
       "  <use xlink:href=\"#glyph0-1\" x=\"169.53125\" y=\"145.964844\"/>\n",
       "</g>\n",
       "<g style=\"fill:rgb(0%,0%,0%);fill-opacity:1;\">\n",
       "  <use xlink:href=\"#glyph0-2\" x=\"187.609375\" y=\"166.074219\"/>\n",
       "</g>\n",
       "<g style=\"fill:rgb(0%,0%,0%);fill-opacity:1;\">\n",
       "  <use xlink:href=\"#glyph0-1\" x=\"118.417969\" y=\"199.585938\"/>\n",
       "</g>\n",
       "<g style=\"fill:rgb(0%,0%,0%);fill-opacity:1;\">\n",
       "  <use xlink:href=\"#glyph0-3\" x=\"132.441406\" y=\"223.152344\"/>\n",
       "</g>\n",
       "<g style=\"fill:rgb(0%,0%,0%);fill-opacity:1;\">\n",
       "  <use xlink:href=\"#glyph0-1\" x=\"143.746094\" y=\"247.472656\"/>\n",
       "</g>\n",
       "<g style=\"fill:rgb(0%,0%,0%);fill-opacity:1;\">\n",
       "  <use xlink:href=\"#glyph0-1\" x=\"124.058594\" y=\"170.074219\"/>\n",
       "</g>\n",
       "<g style=\"fill:rgb(0%,0%,0%);fill-opacity:1;\">\n",
       "  <use xlink:href=\"#glyph0-3\" x=\"145.917969\" y=\"155.644531\"/>\n",
       "</g>\n",
       "<g style=\"fill:rgb(0%,0%,0%);fill-opacity:1;\">\n",
       "  <use xlink:href=\"#glyph0-1\" x=\"78.4375\" y=\"229.132812\"/>\n",
       "</g>\n",
       "<g style=\"fill:rgb(0%,0%,0%);fill-opacity:1;\">\n",
       "  <use xlink:href=\"#glyph0-3\" x=\"55.160156\" y=\"238.304688\"/>\n",
       "</g>\n",
       "<g style=\"fill:rgb(0%,0%,0%);fill-opacity:1;\">\n",
       "  <use xlink:href=\"#glyph0-4\" x=\"92.648438\" y=\"204.847656\"/>\n",
       "</g>\n",
       "<g style=\"fill:rgb(0%,0%,0%);fill-opacity:1;\">\n",
       "  <use xlink:href=\"#glyph0-1\" x=\"82.289062\" y=\"178.738281\"/>\n",
       "</g>\n",
       "<g style=\"fill:rgb(0%,0%,0%);fill-opacity:1;\">\n",
       "  <use xlink:href=\"#glyph0-4\" x=\"183.191406\" y=\"122.4375\"/>\n",
       "</g>\n",
       "<g style=\"fill:rgb(0%,0%,0%);fill-opacity:1;\">\n",
       "  <use xlink:href=\"#glyph0-1\" x=\"201.398438\" y=\"104.082031\"/>\n",
       "</g>\n",
       "<g style=\"fill:rgb(0%,0%,0%);fill-opacity:1;\">\n",
       "  <use xlink:href=\"#glyph0-1\" x=\"100.421875\" y=\"157.976562\"/>\n",
       "</g>\n",
       "<g style=\"fill:rgb(0%,0%,0%);fill-opacity:1;\">\n",
       "  <use xlink:href=\"#glyph0-1\" x=\"86.171875\" y=\"133.8125\"/>\n",
       "</g>\n",
       "<g style=\"fill:rgb(0%,0%,0%);fill-opacity:1;\">\n",
       "  <use xlink:href=\"#glyph0-1\" x=\"58.441406\" y=\"168.402344\"/>\n",
       "</g>\n",
       "<g style=\"fill:rgb(0%,0%,0%);fill-opacity:1;\">\n",
       "  <use xlink:href=\"#glyph0-1\" x=\"62.554688\" y=\"124.199219\"/>\n",
       "</g>\n",
       "<g style=\"fill:rgb(0%,0%,0%);fill-opacity:1;\">\n",
       "  <use xlink:href=\"#glyph0-1\" x=\"45.574219\" y=\"144.632812\"/>\n",
       "</g>\n",
       "<g style=\"fill:rgb(0%,0%,0%);fill-opacity:1;\">\n",
       "  <use xlink:href=\"#glyph0-1\" x=\"79.714844\" y=\"256.847656\"/>\n",
       "</g>\n",
       "<g style=\"fill:rgb(0%,0%,0%);fill-opacity:1;\">\n",
       "  <use xlink:href=\"#glyph0-1\" x=\"201.394531\" y=\"75.417969\"/>\n",
       "</g>\n",
       "<g style=\"fill:rgb(0%,0%,0%);fill-opacity:1;\">\n",
       "  <use xlink:href=\"#glyph0-1\" x=\"226.710938\" y=\"107.953125\"/>\n",
       "</g>\n",
       "<g style=\"fill:rgb(0%,0%,0%);fill-opacity:1;\">\n",
       "  <use xlink:href=\"#glyph0-1\" x=\"219.683594\" y=\"56.847656\"/>\n",
       "</g>\n",
       "<g style=\"fill:rgb(0%,0%,0%);fill-opacity:1;\">\n",
       "  <use xlink:href=\"#glyph0-1\" x=\"245.574219\" y=\"90.339844\"/>\n",
       "</g>\n",
       "<g style=\"fill:rgb(0%,0%,0%);fill-opacity:1;\">\n",
       "  <use xlink:href=\"#glyph0-1\" x=\"244.132812\" y=\"62.21875\"/>\n",
       "</g>\n",
       "</g>\n",
       "</svg>\n"
      ],
      "text/plain": [
       "<igraph.drawing.cairo.plot.CairoPlot at 0x7f4262366620>"
      ]
     },
     "execution_count": 298,
     "metadata": {
      "image/svg+xml": {
       "isolated": true
      }
     },
     "output_type": "execute_result"
    }
   ],
   "source": [
    "igraph.plot(clusterings[1], mark_groups=True, bbox=(300, 300), margin=50)"
   ]
  },
  {
   "cell_type": "code",
   "execution_count": 291,
   "id": "473151d4-ccff-47ad-9f89-88b3886ad744",
   "metadata": {},
   "outputs": [],
   "source": [
    "example = clusterings[1].graph.copy()"
   ]
  },
  {
   "cell_type": "code",
   "execution_count": 292,
   "id": "7ad8b423-f321-478c-b6bd-5837f0d52734",
   "metadata": {},
   "outputs": [],
   "source": [
    "example.contract_vertices(mapping=clusterings[1].membership)"
   ]
  },
  {
   "cell_type": "code",
   "execution_count": null,
   "id": "a7f2874d-3254-4210-8d39-a0f7252912a6",
   "metadata": {},
   "outputs": [],
   "source": []
  },
  {
   "cell_type": "code",
   "execution_count": 308,
   "id": "f80d9874-e4df-4816-be7c-5c39ed30d685",
   "metadata": {},
   "outputs": [
    {
     "data": {
      "image/svg+xml": [
       "<?xml version=\"1.0\" encoding=\"UTF-8\"?>\n",
       "<svg xmlns=\"http://www.w3.org/2000/svg\" xmlns:xlink=\"http://www.w3.org/1999/xlink\" width=\"250pt\" height=\"250pt\" viewBox=\"0 0 250 250\" version=\"1.1\">\n",
       "<g id=\"surface224\">\n",
       "<rect x=\"0\" y=\"0\" width=\"250\" height=\"250\" style=\"fill:rgb(100%,100%,100%);fill-opacity:1;stroke:none;\"/>\n",
       "<path style=\"fill:none;stroke-width:1;stroke-linecap:butt;stroke-linejoin:miter;stroke:rgb(26.666667%,26.666667%,26.666667%);stroke-opacity:1;stroke-miterlimit:10;\" d=\"M 200 124.945312 L 162.539062 199.945312 \"/>\n",
       "<path style=\"fill:none;stroke-width:1;stroke-linecap:butt;stroke-linejoin:miter;stroke:rgb(26.666667%,26.666667%,26.666667%);stroke-opacity:1;stroke-miterlimit:10;\" d=\"M 162.539062 199.945312 L 87.539062 200 \"/>\n",
       "<path style=\"fill:none;stroke-width:1;stroke-linecap:butt;stroke-linejoin:miter;stroke:rgb(26.666667%,26.666667%,26.666667%);stroke-opacity:1;stroke-miterlimit:10;\" d=\"M 87.539062 200 L 50 125.054688 \"/>\n",
       "<path style=\"fill:none;stroke-width:1;stroke-linecap:butt;stroke-linejoin:miter;stroke:rgb(26.666667%,26.666667%,26.666667%);stroke-opacity:1;stroke-miterlimit:10;\" d=\"M 50 125.054688 L 87.460938 50.054688 \"/>\n",
       "<path style=\"fill:none;stroke-width:1;stroke-linecap:butt;stroke-linejoin:miter;stroke:rgb(26.666667%,26.666667%,26.666667%);stroke-opacity:1;stroke-miterlimit:10;\" d=\"M 87.460938 50.054688 L 162.460938 50 \"/>\n",
       "<path style=\"fill:none;stroke-width:1;stroke-linecap:butt;stroke-linejoin:miter;stroke:rgb(26.666667%,26.666667%,26.666667%);stroke-opacity:1;stroke-miterlimit:10;\" d=\"M 200 124.945312 L 162.460938 50 \"/>\n",
       "<path style=\"fill-rule:nonzero;fill:rgb(0%,0%,0%);fill-opacity:1;stroke-width:1;stroke-linecap:butt;stroke-linejoin:miter;stroke:rgb(0%,0%,0%);stroke-opacity:1;stroke-miterlimit:10;\" d=\"M 210 124.945312 C 210 130.46875 205.523438 134.945312 200 134.945312 C 194.476562 134.945312 190 130.46875 190 124.945312 C 190 119.421875 194.476562 114.945312 200 114.945312 C 205.523438 114.945312 210 119.421875 210 124.945312 \"/>\n",
       "<path style=\"fill-rule:nonzero;fill:rgb(0%,0%,0%);fill-opacity:1;stroke-width:1;stroke-linecap:butt;stroke-linejoin:miter;stroke:rgb(0%,0%,0%);stroke-opacity:1;stroke-miterlimit:10;\" d=\"M 172.539062 199.945312 C 172.539062 205.46875 168.0625 209.945312 162.539062 209.945312 C 157.019531 209.945312 152.539062 205.46875 152.539062 199.945312 C 152.539062 194.421875 157.019531 189.945312 162.539062 189.945312 C 168.0625 189.945312 172.539062 194.421875 172.539062 199.945312 \"/>\n",
       "<path style=\"fill-rule:nonzero;fill:rgb(0%,0%,0%);fill-opacity:1;stroke-width:1;stroke-linecap:butt;stroke-linejoin:miter;stroke:rgb(0%,0%,0%);stroke-opacity:1;stroke-miterlimit:10;\" d=\"M 97.539062 200 C 97.539062 205.523438 93.0625 210 87.539062 210 C 82.019531 210 77.539062 205.523438 77.539062 200 C 77.539062 194.476562 82.019531 190 87.539062 190 C 93.0625 190 97.539062 194.476562 97.539062 200 \"/>\n",
       "<path style=\"fill-rule:nonzero;fill:rgb(0%,0%,0%);fill-opacity:1;stroke-width:1;stroke-linecap:butt;stroke-linejoin:miter;stroke:rgb(0%,0%,0%);stroke-opacity:1;stroke-miterlimit:10;\" d=\"M 60 125.054688 C 60 130.578125 55.523438 135.054688 50 135.054688 C 44.476562 135.054688 40 130.578125 40 125.054688 C 40 119.53125 44.476562 115.054688 50 115.054688 C 55.523438 115.054688 60 119.53125 60 125.054688 \"/>\n",
       "<path style=\"fill-rule:nonzero;fill:rgb(0%,0%,0%);fill-opacity:1;stroke-width:1;stroke-linecap:butt;stroke-linejoin:miter;stroke:rgb(0%,0%,0%);stroke-opacity:1;stroke-miterlimit:10;\" d=\"M 97.460938 50.054688 C 97.460938 55.578125 92.980469 60.054688 87.460938 60.054688 C 81.9375 60.054688 77.460938 55.578125 77.460938 50.054688 C 77.460938 44.53125 81.9375 40.054688 87.460938 40.054688 C 92.980469 40.054688 97.460938 44.53125 97.460938 50.054688 \"/>\n",
       "<path style=\"fill-rule:nonzero;fill:rgb(0%,0%,0%);fill-opacity:1;stroke-width:1;stroke-linecap:butt;stroke-linejoin:miter;stroke:rgb(0%,0%,0%);stroke-opacity:1;stroke-miterlimit:10;\" d=\"M 172.460938 50 C 172.460938 55.523438 167.980469 60 162.460938 60 C 156.9375 60 152.460938 55.523438 152.460938 50 C 152.460938 44.476562 156.9375 40 162.460938 40 C 167.980469 40 172.460938 44.476562 172.460938 50 \"/>\n",
       "</g>\n",
       "</svg>\n"
      ],
      "text/plain": [
       "<igraph.drawing.cairo.plot.CairoPlot at 0x7f4260c2a860>"
      ]
     },
     "execution_count": 308,
     "metadata": {
      "image/svg+xml": {
       "isolated": true
      }
     },
     "output_type": "execute_result"
    }
   ],
   "source": [
    "igraph.plot(igraph.Graph.Ring(6), bbox=(250, 250), margin=50, vertex_color=\"black\")"
   ]
  },
  {
   "cell_type": "code",
   "execution_count": 317,
   "id": "b680d027-48e7-494f-8372-7c260bf2c4c9",
   "metadata": {},
   "outputs": [
    {
     "data": {
      "image/svg+xml": [
       "<?xml version=\"1.0\" encoding=\"UTF-8\"?>\n",
       "<svg xmlns=\"http://www.w3.org/2000/svg\" xmlns:xlink=\"http://www.w3.org/1999/xlink\" width=\"250pt\" height=\"250pt\" viewBox=\"0 0 250 250\" version=\"1.1\">\n",
       "<g id=\"surface242\">\n",
       "<rect x=\"0\" y=\"0\" width=\"250\" height=\"250\" style=\"fill:rgb(100%,100%,100%);fill-opacity:1;stroke:none;\"/>\n",
       "<path style=\"fill:none;stroke-width:1;stroke-linecap:butt;stroke-linejoin:miter;stroke:rgb(26.666667%,26.666667%,26.666667%);stroke-opacity:1;stroke-miterlimit:10;\" d=\"M 200 124.945312 L 162.539062 199.945312 \"/>\n",
       "<path style=\"fill:none;stroke-width:1;stroke-linecap:butt;stroke-linejoin:miter;stroke:rgb(26.666667%,26.666667%,26.666667%);stroke-opacity:1;stroke-miterlimit:10;\" d=\"M 162.539062 199.945312 L 87.539062 200 \"/>\n",
       "<path style=\"fill:none;stroke-width:1;stroke-linecap:butt;stroke-linejoin:miter;stroke:rgb(26.666667%,26.666667%,26.666667%);stroke-opacity:1;stroke-miterlimit:10;\" d=\"M 87.539062 200 L 50 125.054688 \"/>\n",
       "<path style=\"fill:none;stroke-width:1;stroke-linecap:butt;stroke-linejoin:miter;stroke:rgb(26.666667%,26.666667%,26.666667%);stroke-opacity:1;stroke-miterlimit:10;\" d=\"M 50 125.054688 L 87.460938 50.054688 \"/>\n",
       "<path style=\"fill:none;stroke-width:1;stroke-linecap:butt;stroke-linejoin:miter;stroke:rgb(26.666667%,26.666667%,26.666667%);stroke-opacity:1;stroke-miterlimit:10;\" d=\"M 87.460938 50.054688 L 162.460938 50 \"/>\n",
       "<path style=\"fill:none;stroke-width:1;stroke-linecap:butt;stroke-linejoin:miter;stroke:rgb(26.666667%,26.666667%,26.666667%);stroke-opacity:1;stroke-miterlimit:10;\" d=\"M 200 124.945312 L 162.460938 50 \"/>\n",
       "<path style=\"fill-rule:nonzero;fill:rgb(100%,0%,0%);fill-opacity:1;stroke-width:1;stroke-linecap:butt;stroke-linejoin:miter;stroke:rgb(0%,0%,0%);stroke-opacity:1;stroke-miterlimit:10;\" d=\"M 210 124.945312 C 210 130.46875 205.523438 134.945312 200 134.945312 C 194.476562 134.945312 190 130.46875 190 124.945312 C 190 119.421875 194.476562 114.945312 200 114.945312 C 205.523438 114.945312 210 119.421875 210 124.945312 \"/>\n",
       "<path style=\"fill-rule:nonzero;fill:rgb(0%,100%,0%);fill-opacity:1;stroke-width:1;stroke-linecap:butt;stroke-linejoin:miter;stroke:rgb(0%,0%,0%);stroke-opacity:1;stroke-miterlimit:10;\" d=\"M 172.539062 199.945312 C 172.539062 205.46875 168.0625 209.945312 162.539062 209.945312 C 157.019531 209.945312 152.539062 205.46875 152.539062 199.945312 C 152.539062 194.421875 157.019531 189.945312 162.539062 189.945312 C 168.0625 189.945312 172.539062 194.421875 172.539062 199.945312 \"/>\n",
       "<path style=\"fill-rule:nonzero;fill:rgb(0%,0%,100%);fill-opacity:1;stroke-width:1;stroke-linecap:butt;stroke-linejoin:miter;stroke:rgb(0%,0%,0%);stroke-opacity:1;stroke-miterlimit:10;\" d=\"M 97.539062 200 C 97.539062 205.523438 93.0625 210 87.539062 210 C 82.019531 210 77.539062 205.523438 77.539062 200 C 77.539062 194.476562 82.019531 190 87.539062 190 C 93.0625 190 97.539062 194.476562 97.539062 200 \"/>\n",
       "<path style=\"fill-rule:nonzero;fill:rgb(100%,100%,0%);fill-opacity:1;stroke-width:1;stroke-linecap:butt;stroke-linejoin:miter;stroke:rgb(0%,0%,0%);stroke-opacity:1;stroke-miterlimit:10;\" d=\"M 60 125.054688 C 60 130.578125 55.523438 135.054688 50 135.054688 C 44.476562 135.054688 40 130.578125 40 125.054688 C 40 119.53125 44.476562 115.054688 50 115.054688 C 55.523438 115.054688 60 119.53125 60 125.054688 \"/>\n",
       "<path style=\"fill-rule:nonzero;fill:rgb(0%,0%,100%);fill-opacity:1;stroke-width:1;stroke-linecap:butt;stroke-linejoin:miter;stroke:rgb(0%,0%,0%);stroke-opacity:1;stroke-miterlimit:10;\" d=\"M 97.460938 50.054688 C 97.460938 55.578125 92.980469 60.054688 87.460938 60.054688 C 81.9375 60.054688 77.460938 55.578125 77.460938 50.054688 C 77.460938 44.53125 81.9375 40.054688 87.460938 40.054688 C 92.980469 40.054688 97.460938 44.53125 97.460938 50.054688 \"/>\n",
       "<path style=\"fill-rule:nonzero;fill:rgb(0%,100%,0%);fill-opacity:1;stroke-width:1;stroke-linecap:butt;stroke-linejoin:miter;stroke:rgb(0%,0%,0%);stroke-opacity:1;stroke-miterlimit:10;\" d=\"M 172.460938 50 C 172.460938 55.523438 167.980469 60 162.460938 60 C 156.9375 60 152.460938 55.523438 152.460938 50 C 152.460938 44.476562 156.9375 40 162.460938 40 C 167.980469 40 172.460938 44.476562 172.460938 50 \"/>\n",
       "</g>\n",
       "</svg>\n"
      ],
      "text/plain": [
       "<igraph.drawing.cairo.plot.CairoPlot at 0x7f425ecb9630>"
      ]
     },
     "execution_count": 317,
     "metadata": {
      "image/svg+xml": {
       "isolated": true
      }
     },
     "output_type": "execute_result"
    }
   ],
   "source": [
    "pal = igraph.drawing.colors.ClusterColoringPalette(4)\n",
    "igraph.plot(igraph.Graph.Ring(6), mark_groups=True, bbox=(250, 250), margin=50,\n",
    "            vertex_color=[pal[0], pal[1], pal[2], pal[3], pal[2], pal[1]])"
   ]
  },
  {
   "cell_type": "code",
   "execution_count": 303,
   "id": "35120f39-a6eb-4a6a-925b-ecbfc197791d",
   "metadata": {},
   "outputs": [
    {
     "data": {
      "image/svg+xml": [
       "<?xml version=\"1.0\" encoding=\"UTF-8\"?>\n",
       "<svg xmlns=\"http://www.w3.org/2000/svg\" xmlns:xlink=\"http://www.w3.org/1999/xlink\" width=\"250pt\" height=\"250pt\" viewBox=\"0 0 250 250\" version=\"1.1\">\n",
       "<g id=\"surface218\">\n",
       "<rect x=\"0\" y=\"0\" width=\"250\" height=\"250\" style=\"fill:rgb(100%,100%,100%);fill-opacity:1;stroke:none;\"/>\n",
       "<path style=\"fill:none;stroke-width:1;stroke-linecap:butt;stroke-linejoin:miter;stroke:rgb(26.666667%,26.666667%,26.666667%);stroke-opacity:1;stroke-miterlimit:10;\" d=\"M 151.140625 84.851562 L 101.535156 120.230469 \"/>\n",
       "<path style=\"fill:none;stroke-width:1;stroke-linecap:butt;stroke-linejoin:miter;stroke:rgb(26.666667%,26.666667%,26.666667%);stroke-opacity:1;stroke-miterlimit:10;\" d=\"M 151.140625 84.851562 L 200 50 \"/>\n",
       "<path style=\"fill:none;stroke-width:1;stroke-linecap:butt;stroke-linejoin:miter;stroke:rgb(26.666667%,26.666667%,26.666667%);stroke-opacity:1;stroke-miterlimit:10;\" d=\"M 101.535156 120.230469 L 67.035156 200 \"/>\n",
       "<path style=\"fill:none;stroke-width:1;stroke-linecap:butt;stroke-linejoin:miter;stroke:rgb(26.666667%,26.666667%,26.666667%);stroke-opacity:1;stroke-miterlimit:10;\" d=\"M 101.535156 120.230469 L 50 101.828125 \"/>\n",
       "<path style=\"fill:none;stroke-width:1;stroke-linecap:butt;stroke-linejoin:miter;stroke:rgb(26.666667%,26.666667%,26.666667%);stroke-opacity:1;stroke-miterlimit:10;\" d=\"M 67.035156 200 L 50 101.828125 \"/>\n",
       "<path style=\"fill-rule:nonzero;fill:rgb(100%,0%,0%);fill-opacity:1;stroke-width:1;stroke-linecap:butt;stroke-linejoin:miter;stroke:rgb(0%,0%,0%);stroke-opacity:1;stroke-miterlimit:10;\" d=\"M 161.140625 84.851562 C 161.140625 90.371094 156.664062 94.851562 151.140625 94.851562 C 145.617188 94.851562 141.140625 90.371094 141.140625 84.851562 C 141.140625 79.328125 145.617188 74.851562 151.140625 74.851562 C 156.664062 74.851562 161.140625 79.328125 161.140625 84.851562 \"/>\n",
       "<path style=\"fill-rule:nonzero;fill:rgb(0%,100%,0%);fill-opacity:1;stroke-width:1;stroke-linecap:butt;stroke-linejoin:miter;stroke:rgb(0%,0%,0%);stroke-opacity:1;stroke-miterlimit:10;\" d=\"M 111.535156 120.230469 C 111.535156 125.753906 107.058594 130.230469 101.535156 130.230469 C 96.011719 130.230469 91.535156 125.753906 91.535156 120.230469 C 91.535156 114.707031 96.011719 110.230469 101.535156 110.230469 C 107.058594 110.230469 111.535156 114.707031 111.535156 120.230469 \"/>\n",
       "<path style=\"fill-rule:nonzero;fill:rgb(0%,0%,100%);fill-opacity:1;stroke-width:1;stroke-linecap:butt;stroke-linejoin:miter;stroke:rgb(0%,0%,0%);stroke-opacity:1;stroke-miterlimit:10;\" d=\"M 77.035156 200 C 77.035156 205.523438 72.558594 210 67.035156 210 C 61.511719 210 57.035156 205.523438 57.035156 200 C 57.035156 194.476562 61.511719 190 67.035156 190 C 72.558594 190 77.035156 194.476562 77.035156 200 \"/>\n",
       "<path style=\"fill-rule:nonzero;fill:rgb(100%,100%,0%);fill-opacity:1;stroke-width:1;stroke-linecap:butt;stroke-linejoin:miter;stroke:rgb(0%,0%,0%);stroke-opacity:1;stroke-miterlimit:10;\" d=\"M 60 101.828125 C 60 107.351562 55.523438 111.828125 50 111.828125 C 44.476562 111.828125 40 107.351562 40 101.828125 C 40 96.304688 44.476562 91.828125 50 91.828125 C 55.523438 91.828125 60 96.304688 60 101.828125 \"/>\n",
       "<path style=\"fill-rule:nonzero;fill:rgb(100%,0%,100%);fill-opacity:1;stroke-width:1;stroke-linecap:butt;stroke-linejoin:miter;stroke:rgb(0%,0%,0%);stroke-opacity:1;stroke-miterlimit:10;\" d=\"M 210 50 C 210 55.523438 205.523438 60 200 60 C 194.476562 60 190 55.523438 190 50 C 190 44.476562 194.476562 40 200 40 C 205.523438 40 210 44.476562 210 50 \"/>\n",
       "</g>\n",
       "</svg>\n"
      ],
      "text/plain": [
       "<igraph.drawing.cairo.plot.CairoPlot at 0x7f425586cbe0>"
      ]
     },
     "execution_count": 303,
     "metadata": {
      "image/svg+xml": {
       "isolated": true
      }
     },
     "output_type": "execute_result"
    }
   ],
   "source": [
    "igraph.plot(example.simplify(), bbox=(250, 250), margin=50, vertex_color=igraph.drawing.colors.ClusterColoringPalette(5))"
   ]
  },
  {
   "cell_type": "code",
   "execution_count": null,
   "id": "b67ab32b-2365-4436-8c59-66a6be77bac8",
   "metadata": {},
   "outputs": [],
   "source": []
  },
  {
   "cell_type": "markdown",
   "id": "9b2a31e5-6549-4ee7-a5be-7d423edc80d4",
   "metadata": {
    "jp-MarkdownHeadingCollapsed": true
   },
   "source": [
    "## Graph sparsification as a decomposition."
   ]
  },
  {
   "cell_type": "code",
   "execution_count": 62,
   "id": "a0ca7c0b-2f9e-4d27-89ac-eb4808257f38",
   "metadata": {},
   "outputs": [
    {
     "data": {
      "image/svg+xml": [
       "<?xml version=\"1.0\" encoding=\"UTF-8\"?>\n",
       "<svg xmlns=\"http://www.w3.org/2000/svg\" xmlns:xlink=\"http://www.w3.org/1999/xlink\" width=\"300pt\" height=\"300pt\" viewBox=\"0 0 300 300\" version=\"1.1\">\n",
       "<defs>\n",
       "<g>\n",
       "<symbol overflow=\"visible\" id=\"glyph0-0\">\n",
       "<path style=\"stroke:none;\" d=\"M 0.40625 1.421875 L 0.40625 -5.640625 L 4.40625 -5.640625 L 4.40625 1.421875 Z M 0.84375 0.96875 L 3.953125 0.96875 L 3.953125 -5.1875 L 0.84375 -5.1875 Z M 0.84375 0.96875 \"/>\n",
       "</symbol>\n",
       "<symbol overflow=\"visible\" id=\"glyph0-1\">\n",
       "<path style=\"stroke:none;\" d=\"M 3.03125 -5.140625 L 1.03125 -2.03125 L 3.03125 -2.03125 Z M 2.8125 -5.828125 L 3.8125 -5.828125 L 3.8125 -2.03125 L 4.640625 -2.03125 L 4.640625 -1.375 L 3.8125 -1.375 L 3.8125 0 L 3.03125 0 L 3.03125 -1.375 L 0.390625 -1.375 L 0.390625 -2.140625 Z M 2.8125 -5.828125 \"/>\n",
       "</symbol>\n",
       "<symbol overflow=\"visible\" id=\"glyph0-2\">\n",
       "<path style=\"stroke:none;\" d=\"M 0.859375 -1 L 1.6875 -1 L 1.6875 0 L 0.859375 0 Z M 0.859375 -1 \"/>\n",
       "</symbol>\n",
       "<symbol overflow=\"visible\" id=\"glyph0-3\">\n",
       "<path style=\"stroke:none;\" d=\"M 2.546875 -5.3125 C 2.140625 -5.3125 1.832031 -5.109375 1.625 -4.703125 C 1.425781 -4.304688 1.328125 -3.707031 1.328125 -2.90625 C 1.328125 -2.113281 1.425781 -1.515625 1.625 -1.109375 C 1.832031 -0.710938 2.140625 -0.515625 2.546875 -0.515625 C 2.953125 -0.515625 3.253906 -0.710938 3.453125 -1.109375 C 3.660156 -1.515625 3.765625 -2.113281 3.765625 -2.90625 C 3.765625 -3.707031 3.660156 -4.304688 3.453125 -4.703125 C 3.253906 -5.109375 2.953125 -5.3125 2.546875 -5.3125 Z M 2.546875 -5.9375 C 3.203125 -5.9375 3.703125 -5.675781 4.046875 -5.15625 C 4.390625 -4.644531 4.5625 -3.894531 4.5625 -2.90625 C 4.5625 -1.925781 4.390625 -1.175781 4.046875 -0.65625 C 3.703125 -0.144531 3.203125 0.109375 2.546875 0.109375 C 1.890625 0.109375 1.390625 -0.144531 1.046875 -0.65625 C 0.703125 -1.175781 0.53125 -1.925781 0.53125 -2.90625 C 0.53125 -3.894531 0.703125 -4.644531 1.046875 -5.15625 C 1.390625 -5.675781 1.890625 -5.9375 2.546875 -5.9375 Z M 2.546875 -5.9375 \"/>\n",
       "</symbol>\n",
       "<symbol overflow=\"visible\" id=\"glyph0-4\">\n",
       "<path style=\"stroke:none;\" d=\"M 1 -0.671875 L 2.28125 -0.671875 L 2.28125 -5.109375 L 0.875 -4.828125 L 0.875 -5.546875 L 2.28125 -5.828125 L 3.0625 -5.828125 L 3.0625 -0.671875 L 4.359375 -0.671875 L 4.359375 0 L 1 0 Z M 1 -0.671875 \"/>\n",
       "</symbol>\n",
       "<symbol overflow=\"visible\" id=\"glyph0-5\">\n",
       "<path style=\"stroke:none;\" d=\"M 1.53125 -0.671875 L 4.296875 -0.671875 L 4.296875 0 L 0.59375 0 L 0.59375 -0.671875 C 0.882812 -0.972656 1.289062 -1.382812 1.8125 -1.90625 C 2.332031 -2.4375 2.65625 -2.773438 2.78125 -2.921875 C 3.039062 -3.203125 3.21875 -3.441406 3.3125 -3.640625 C 3.414062 -3.835938 3.46875 -4.03125 3.46875 -4.21875 C 3.46875 -4.53125 3.359375 -4.785156 3.140625 -4.984375 C 2.921875 -5.179688 2.640625 -5.28125 2.296875 -5.28125 C 2.046875 -5.28125 1.78125 -5.234375 1.5 -5.140625 C 1.226562 -5.054688 0.9375 -4.925781 0.625 -4.75 L 0.625 -5.546875 C 0.945312 -5.679688 1.242188 -5.78125 1.515625 -5.84375 C 1.796875 -5.90625 2.050781 -5.9375 2.28125 -5.9375 C 2.882812 -5.9375 3.363281 -5.785156 3.71875 -5.484375 C 4.082031 -5.179688 4.265625 -4.78125 4.265625 -4.28125 C 4.265625 -4.039062 4.21875 -3.8125 4.125 -3.59375 C 4.03125 -3.375 3.867188 -3.117188 3.640625 -2.828125 C 3.566406 -2.753906 3.351562 -2.535156 3 -2.171875 C 2.65625 -1.816406 2.164062 -1.316406 1.53125 -0.671875 Z M 1.53125 -0.671875 \"/>\n",
       "</symbol>\n",
       "<symbol overflow=\"visible\" id=\"glyph0-6\">\n",
       "<path style=\"stroke:none;\" d=\"M 2.546875 -2.765625 C 2.171875 -2.765625 1.875 -2.664062 1.65625 -2.46875 C 1.445312 -2.269531 1.34375 -1.992188 1.34375 -1.640625 C 1.34375 -1.285156 1.445312 -1.007812 1.65625 -0.8125 C 1.875 -0.613281 2.171875 -0.515625 2.546875 -0.515625 C 2.921875 -0.515625 3.210938 -0.613281 3.421875 -0.8125 C 3.640625 -1.019531 3.75 -1.296875 3.75 -1.640625 C 3.75 -1.992188 3.640625 -2.269531 3.421875 -2.46875 C 3.210938 -2.664062 2.921875 -2.765625 2.546875 -2.765625 Z M 1.75 -3.109375 C 1.414062 -3.191406 1.15625 -3.347656 0.96875 -3.578125 C 0.78125 -3.804688 0.6875 -4.085938 0.6875 -4.421875 C 0.6875 -4.890625 0.847656 -5.257812 1.171875 -5.53125 C 1.503906 -5.800781 1.960938 -5.9375 2.546875 -5.9375 C 3.128906 -5.9375 3.582031 -5.800781 3.90625 -5.53125 C 4.238281 -5.257812 4.40625 -4.890625 4.40625 -4.421875 C 4.40625 -4.085938 4.3125 -3.804688 4.125 -3.578125 C 3.9375 -3.347656 3.675781 -3.191406 3.34375 -3.109375 C 3.71875 -3.015625 4.007812 -2.835938 4.21875 -2.578125 C 4.4375 -2.328125 4.546875 -2.015625 4.546875 -1.640625 C 4.546875 -1.078125 4.375 -0.644531 4.03125 -0.34375 C 3.6875 -0.0390625 3.191406 0.109375 2.546875 0.109375 C 1.898438 0.109375 1.40625 -0.0390625 1.0625 -0.34375 C 0.71875 -0.644531 0.546875 -1.078125 0.546875 -1.640625 C 0.546875 -2.015625 0.648438 -2.328125 0.859375 -2.578125 C 1.078125 -2.835938 1.375 -3.015625 1.75 -3.109375 Z M 1.46875 -4.359375 C 1.46875 -4.054688 1.5625 -3.816406 1.75 -3.640625 C 1.9375 -3.472656 2.203125 -3.390625 2.546875 -3.390625 C 2.878906 -3.390625 3.140625 -3.472656 3.328125 -3.640625 C 3.523438 -3.816406 3.625 -4.054688 3.625 -4.359375 C 3.625 -4.660156 3.523438 -4.894531 3.328125 -5.0625 C 3.140625 -5.226562 2.878906 -5.3125 2.546875 -5.3125 C 2.203125 -5.3125 1.9375 -5.226562 1.75 -5.0625 C 1.5625 -4.894531 1.46875 -4.660156 1.46875 -4.359375 Z M 1.46875 -4.359375 \"/>\n",
       "</symbol>\n",
       "</g>\n",
       "</defs>\n",
       "<g id=\"surface2\">\n",
       "<rect x=\"0\" y=\"0\" width=\"300\" height=\"300\" style=\"fill:rgb(100%,100%,100%);fill-opacity:1;stroke:none;\"/>\n",
       "<path style=\"fill:none;stroke-width:1;stroke-linecap:butt;stroke-linejoin:miter;stroke:rgb(26.666667%,26.666667%,26.666667%);stroke-opacity:1;stroke-miterlimit:10;\" d=\"M 280 20 L 206.078125 127.703125 \"/>\n",
       "<path style=\"fill:none;stroke-width:1;stroke-linecap:butt;stroke-linejoin:miter;stroke:rgb(26.666667%,26.666667%,26.666667%);stroke-opacity:1;stroke-miterlimit:10;\" d=\"M 237.316406 280 L 206.078125 127.703125 \"/>\n",
       "<path style=\"fill:none;stroke-width:1;stroke-linecap:butt;stroke-linejoin:miter;stroke:rgb(26.666667%,26.666667%,26.666667%);stroke-opacity:1;stroke-miterlimit:10;\" d=\"M 20 48.800781 L 110.820312 87.3125 \"/>\n",
       "<path style=\"fill:none;stroke-width:1;stroke-linecap:butt;stroke-linejoin:miter;stroke:rgb(26.666667%,26.666667%,26.666667%);stroke-opacity:1;stroke-miterlimit:10;\" d=\"M 110.820312 87.3125 L 206.078125 127.703125 \"/>\n",
       "<path style=\"fill-rule:nonzero;fill:rgb(100%,0%,0%);fill-opacity:1;stroke-width:1;stroke-linecap:butt;stroke-linejoin:miter;stroke:rgb(0%,0%,0%);stroke-opacity:1;stroke-miterlimit:10;\" d=\"M 286 20 C 286 23.3125 283.3125 26 280 26 C 276.6875 26 274 23.3125 274 20 C 274 16.6875 276.6875 14 280 14 C 283.3125 14 286 16.6875 286 20 \"/>\n",
       "<path style=\"fill-rule:nonzero;fill:rgb(100%,0%,0%);fill-opacity:1;stroke-width:1;stroke-linecap:butt;stroke-linejoin:miter;stroke:rgb(0%,0%,0%);stroke-opacity:1;stroke-miterlimit:10;\" d=\"M 243.316406 280 C 243.316406 283.3125 240.628906 286 237.316406 286 C 234.003906 286 231.316406 283.3125 231.316406 280 C 231.316406 276.6875 234.003906 274 237.316406 274 C 240.628906 274 243.316406 276.6875 243.316406 280 \"/>\n",
       "<path style=\"fill-rule:nonzero;fill:rgb(100%,0%,0%);fill-opacity:1;stroke-width:1;stroke-linecap:butt;stroke-linejoin:miter;stroke:rgb(0%,0%,0%);stroke-opacity:1;stroke-miterlimit:10;\" d=\"M 26 48.800781 C 26 52.113281 23.3125 54.800781 20 54.800781 C 16.6875 54.800781 14 52.113281 14 48.800781 C 14 45.488281 16.6875 42.800781 20 42.800781 C 23.3125 42.800781 26 45.488281 26 48.800781 \"/>\n",
       "<path style=\"fill-rule:nonzero;fill:rgb(100%,0%,0%);fill-opacity:1;stroke-width:1;stroke-linecap:butt;stroke-linejoin:miter;stroke:rgb(0%,0%,0%);stroke-opacity:1;stroke-miterlimit:10;\" d=\"M 116.820312 87.3125 C 116.820312 90.625 114.132812 93.3125 110.820312 93.3125 C 107.507812 93.3125 104.820312 90.625 104.820312 87.3125 C 104.820312 84 107.507812 81.3125 110.820312 81.3125 C 114.132812 81.3125 116.820312 84 116.820312 87.3125 \"/>\n",
       "<path style=\"fill-rule:nonzero;fill:rgb(100%,0%,0%);fill-opacity:1;stroke-width:1;stroke-linecap:butt;stroke-linejoin:miter;stroke:rgb(0%,0%,0%);stroke-opacity:1;stroke-miterlimit:10;\" d=\"M 212.078125 127.703125 C 212.078125 131.019531 209.394531 133.703125 206.078125 133.703125 C 202.765625 133.703125 200.078125 131.019531 200.078125 127.703125 C 200.078125 124.390625 202.765625 121.703125 206.078125 121.703125 C 209.394531 121.703125 212.078125 124.390625 212.078125 127.703125 \"/>\n",
       "<g style=\"fill:rgb(0%,0%,0%);fill-opacity:1;\">\n",
       "  <use xlink:href=\"#glyph0-1\" x=\"273.710938\" y=\"23.914062\"/>\n",
       "  <use xlink:href=\"#glyph0-2\" x=\"278.800781\" y=\"23.914062\"/>\n",
       "  <use xlink:href=\"#glyph0-3\" x=\"281.34375\" y=\"23.914062\"/>\n",
       "</g>\n",
       "<g style=\"fill:rgb(0%,0%,0%);fill-opacity:1;\">\n",
       "  <use xlink:href=\"#glyph0-1\" x=\"231.023438\" y=\"283.914062\"/>\n",
       "  <use xlink:href=\"#glyph0-2\" x=\"236.113281\" y=\"283.914062\"/>\n",
       "  <use xlink:href=\"#glyph0-3\" x=\"238.65625\" y=\"283.914062\"/>\n",
       "</g>\n",
       "<g style=\"fill:rgb(0%,0%,0%);fill-opacity:1;\">\n",
       "  <use xlink:href=\"#glyph0-4\" x=\"10.921875\" y=\"52.714844\"/>\n",
       "  <use xlink:href=\"#glyph0-5\" x=\"16.011719\" y=\"52.714844\"/>\n",
       "  <use xlink:href=\"#glyph0-2\" x=\"21.101562\" y=\"52.714844\"/>\n",
       "  <use xlink:href=\"#glyph0-3\" x=\"23.644531\" y=\"52.714844\"/>\n",
       "</g>\n",
       "<g style=\"fill:rgb(0%,0%,0%);fill-opacity:1;\">\n",
       "  <use xlink:href=\"#glyph0-4\" x=\"101.742188\" y=\"91.222656\"/>\n",
       "  <use xlink:href=\"#glyph0-3\" x=\"106.832031\" y=\"91.222656\"/>\n",
       "  <use xlink:href=\"#glyph0-2\" x=\"111.921875\" y=\"91.222656\"/>\n",
       "  <use xlink:href=\"#glyph0-3\" x=\"114.464844\" y=\"91.222656\"/>\n",
       "</g>\n",
       "<g style=\"fill:rgb(0%,0%,0%);fill-opacity:1;\">\n",
       "  <use xlink:href=\"#glyph0-4\" x=\"197\" y=\"131.617188\"/>\n",
       "  <use xlink:href=\"#glyph0-6\" x=\"202.089844\" y=\"131.617188\"/>\n",
       "  <use xlink:href=\"#glyph0-2\" x=\"207.179688\" y=\"131.617188\"/>\n",
       "  <use xlink:href=\"#glyph0-3\" x=\"209.722656\" y=\"131.617188\"/>\n",
       "</g>\n",
       "</g>\n",
       "</svg>\n"
      ],
      "text/plain": [
       "<igraph.drawing.cairo.plot.CairoPlot at 0x7f425bf47a00>"
      ]
     },
     "execution_count": 62,
     "metadata": {
      "image/svg+xml": {
       "isolated": true
      }
     },
     "output_type": "execute_result"
    }
   ],
   "source": [
    "igraph.plot(clusterings[0].cluster_graph(combine_vertices=\"sum\", combine_edges=\"sum\"), bbox=(300,300), vertex_size=12, vertex_label_size=8)"
   ]
  },
  {
   "cell_type": "code",
   "execution_count": 34,
   "id": "e91f4eb0-7932-4b1e-aab7-6c7b6ab27a4a",
   "metadata": {},
   "outputs": [
    {
     "name": "stdout",
     "output_type": "stream",
     "text": [
      "Help on built-in function contract_vertices:\n",
      "\n",
      "contract_vertices(mapping, combine_attrs=None) method of igraph.Graph instance\n",
      "    Contracts some vertices in the graph, i.e. replaces groups of vertices\n",
      "    with single vertices. Edges are not affected.\n",
      "    \n",
      "    @param mapping: numeric vector which gives the mapping between old and\n",
      "      new vertex IDs. Vertices having the same new vertex ID in this vector\n",
      "      will be remapped into a single new vertex. It is safe to pass the\n",
      "      membership vector of a L{VertexClustering} object here.\n",
      "    @param combine_attrs: specifies how to combine the attributes of\n",
      "      the vertices being collapsed into a single one. If it is C{None},\n",
      "      all the attributes will be lost. If it is a function, the\n",
      "      attributes of the vertices will be collected and passed on to\n",
      "      that function which will return the new attribute value that has to\n",
      "      be assigned to the single collapsed vertex. It can also be one of\n",
      "      the following string constants which define built-in collapsing\n",
      "      functions: C{sum}, C{prod}, C{mean}, C{median}, C{max}, C{min},\n",
      "      C{first}, C{last}, C{random}. You can also specify different\n",
      "      combination functions for different attributes by passing a dict\n",
      "      here which maps attribute names to functions. See\n",
      "      L{simplify()} for more details.\n",
      "    @return: C{None}.\n",
      "    @see: L{simplify()}\n",
      "\n"
     ]
    }
   ],
   "source": [
    "help(graph.contract_vertices)"
   ]
  },
  {
   "cell_type": "code",
   "execution_count": 35,
   "id": "5fe5a695-2dd2-49bb-bb3f-36bff7b4e9c1",
   "metadata": {},
   "outputs": [
    {
     "name": "stdout",
     "output_type": "stream",
     "text": [
      "Help on built-in function simplify:\n",
      "\n",
      "simplify(multiple=True, loops=True, combine_edges=None) method of igraph.Graph instance\n",
      "    Simplifies a graph by removing self-loops and/or multiple edges.\n",
      "    \n",
      "    \n",
      "    For example, suppose you have a graph with an edge attribute named\n",
      "    C{weight}. C{graph.simplify(combine_edges=max)} will take the\n",
      "    maximum of the weights of multiple edges and assign that weight to\n",
      "    the collapsed edge. C{graph.simplify(combine_edges=sum)} will\n",
      "    take the sum of the weights. You can also write\n",
      "    C{graph.simplify(combine_edges=dict(weight=\"sum\"))} or\n",
      "    C{graph.simplify(combine_edges=dict(weight=sum))}, since\n",
      "    C{sum} is recognised both as a Python built-in function and as\n",
      "    a string constant.\n",
      "    \n",
      "    @param multiple: whether to remove multiple edges.\n",
      "    @param loops: whether to remove loops.\n",
      "    @param combine_edges: specifies how to combine the attributes of\n",
      "      multiple edges between the same pair of vertices into a single\n",
      "      attribute. If it is C{None}, only one of the edges will be kept\n",
      "      and all the attributes will be lost. If it is a function, the\n",
      "      attributes of multiple edges will be collected and passed on to\n",
      "      that function which will return the new attribute value that has to\n",
      "      be assigned to the single collapsed edge. It can also be one of\n",
      "      the following string constants:\n",
      "    \n",
      "        - C{\"ignore\"}: all the edge attributes will be ignored.\n",
      "    \n",
      "        - C{\"sum\"}: the sum of the edge attribute values will be used for\n",
      "          the new edge.\n",
      "    \n",
      "        - C{\"product\"}: the product of the edge attribute values will be used for\n",
      "          the new edge.\n",
      "        - C{\"mean\"}: the mean of the edge attribute values will be used for\n",
      "          the new edge.\n",
      "    \n",
      "        - C{\"median\"}: the median of the edge attribute values will be used for\n",
      "          the new edge.\n",
      "    \n",
      "        - C{\"min\"}: the minimum of the edge attribute values will be used for\n",
      "          the new edge.\n",
      "    \n",
      "        - C{\"max\"}: the maximum of the edge attribute values will be used for\n",
      "          the new edge.\n",
      "    \n",
      "        - C{\"first\"}: the attribute value of the first edge in the collapsed set\n",
      "          will be used for the new edge.\n",
      "    \n",
      "        - C{\"last\"}: the attribute value of the last edge in the collapsed set\n",
      "          will be used for the new edge.\n",
      "    \n",
      "        - C{\"random\"}: a randomly selected value will be used for the new edge\n",
      "    \n",
      "        - C{\"concat\"}: the attribute values will be concatenated for the new\n",
      "          edge.\n",
      "    \n",
      "      You can also use a dict mapping edge attribute names to functions or\n",
      "      the above string constants if you want to make the behaviour of the\n",
      "      simplification process depend on the name of the attribute.\n",
      "      C{None} is a special key in this dict, its value will be used for all\n",
      "      the attributes not specified explicitly in the dictionary.\n",
      "\n"
     ]
    }
   ],
   "source": [
    "help(graph.simplify)"
   ]
  }
 ],
 "metadata": {
  "kernelspec": {
   "display_name": "Python 3 (ipykernel)",
   "language": "python",
   "name": "python3"
  },
  "language_info": {
   "codemirror_mode": {
    "name": "ipython",
    "version": 3
   },
   "file_extension": ".py",
   "mimetype": "text/x-python",
   "name": "python",
   "nbconvert_exporter": "python",
   "pygments_lexer": "ipython3",
   "version": "3.10.12"
  }
 },
 "nbformat": 4,
 "nbformat_minor": 5
}
